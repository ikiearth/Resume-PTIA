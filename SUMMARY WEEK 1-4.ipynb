{
 "cells": [
  {
   "cell_type": "markdown",
   "metadata": {},
   "source": [
    "# RESUME MATERI PTIA WEEK 1 - 4\n",
    "Teknik Perminyakan 2021\n",
    "* **Variabel**          (WEEK 1)\n",
    "* **Conditional**       (WEEK 2)\n",
    "* **Loop Statement**    (WEEK 3)\n",
    "* **Function**          (WEEK 4)"
   ]
  },
  {
   "cell_type": "markdown",
   "metadata": {},
   "source": [
    "# Variabel (WEEK 1)\n",
    "Variabel dapat diartikan sebagai label atau tag yang mendefinisikan sebuah nilai\n",
    "\n",
    "* harga_jual = 4000\n",
    "* detik = 3600\n",
    "* nama = ikiearth\n",
    "* jumlah_mahasiswa = 105\n",
    "\n",
    "Nama variabel terdiri dari huruf kecil atau huruf besar (a-z, A-Z), angka (0-9), dan underscores. Tidak boleh dimulai dari angka.\n",
    "\n",
    "Contoh Penamaan Variabel yang Benar:\n",
    "* nama_alat\n",
    "* buah1\n",
    "* _luas\n",
    "* jenis_buah_mangga\n",
    "* harga_jual\n",
    "* nama_depan\n",
    "* nama_tengah\n",
    "* langkah1\n",
    "\n",
    "Contoh Penamaan Variabel yang Salah:\n",
    "* namaalat\n",
    "* 1buah\n",
    "* @jenis_buah_mangga\n",
    "* HargaJual\n",
    "* break\n",
    "* else\n"
   ]
  },
  {
   "cell_type": "markdown",
   "metadata": {},
   "source": [
    "# Operator\n",
    "Dapat juga didefinisikan sebagai operasi \"+ , *, =\" yang umum ada pada perhitungan matematika. Urutan prioritas operasi dapat dilihat pada tabel di bawah ini:\n",
    "\n",
    "|No|Operator|Simbol|\n",
    "|----|----|----|\n",
    "|1|tanda kurung|()|\n",
    "|2|pangkat|**|\n",
    "|3|perkalian|*|\n",
    "|4|pembagian|/|\n",
    "|5|pembagian dengan pembulatan ke bawah|//|\n",
    "|6|modulo (sisa hasil pembagian)|%|\n",
    "|7|penjumlahan|+|\n",
    "|8|pengurangan|-|\n",
    "\n",
    "# Operator Assigment (=)\n",
    "Operator = diartikan sebagai mengambil nilai dari sisi kanannya dan di assign ke nama atau variabel yang ada di sebalah kirinya. Contoh:\n",
    "* nama = \"teknik perminyakan\"\n",
    "* harga_jual = 400000"
   ]
  },
  {
   "cell_type": "code",
   "execution_count": null,
   "metadata": {},
   "outputs": [],
   "source": [
    "nama = 'mas dummy'\n",
    "print(nama)"
   ]
  },
  {
   "cell_type": "markdown",
   "metadata": {},
   "source": [
    "# Mengetahui tipe suatu objek\n",
    "Dapat menggunakan perintah \"type\""
   ]
  },
  {
   "cell_type": "code",
   "execution_count": null,
   "metadata": {},
   "outputs": [],
   "source": [
    "status = \"off\"\n",
    "type(status)"
   ]
  },
  {
   "cell_type": "code",
   "execution_count": null,
   "metadata": {},
   "outputs": [],
   "source": [
    "harga = 4000\n",
    "type(harga)"
   ]
  },
  {
   "cell_type": "code",
   "execution_count": null,
   "metadata": {},
   "outputs": [],
   "source": [
    "harga = 40.500\n",
    "type(harga)"
   ]
  },
  {
   "cell_type": "code",
   "execution_count": null,
   "metadata": {},
   "outputs": [],
   "source": [
    "status = ['laptop', 3, 'semut', 2.45]\n",
    "type(status)"
   ]
  },
  {
   "cell_type": "markdown",
   "metadata": {},
   "source": [
    "# Tipe objek di Python\n",
    "|Tipe Objek|Keterangan|Contoh|\n",
    "|----|----|----|\n",
    "|int (Integer)|angka berupa bilangan bulat|0, 1, 2, 3, 4, 5|\n",
    "|float|angka berupa bilangan desimal|1.1, 2.4, 5.4|\n",
    "|str (String)|teks|'nama', 'kucing', 'buah'|\n",
    "|list|kumpulan objek dan dapat di edit|['laptop', 3, 'semut', 2.45]\n",
    "|tuple|kumpulan objek dan tidak dapat di edit|('laptop', 3, 'semut', 2.45)|\n",
    "|set|kumpulan objek tidak dapat diedit, dan tidak ada anggota yang sama|{0,1,2,3}|\n",
    "|dictionary|kumpulan objek dengan suatu kunci (key) dan tidak mengenal urutan|{'hewan':'kucing','angka ganjil':[1,3,5,7]}|\n"
   ]
  },
  {
   "cell_type": "markdown",
   "metadata": {},
   "source": [
    "# Fungsi untuk mengkonversi objek\n",
    "|Fungsi|Keterangan|Contoh|\n",
    "|----|----|----|\n",
    "|int()|konversi ke bilangan bulat|int(3.4566)|\n",
    "|float()|konversi ke bilangan desimal|float(35)|\n",
    "|str()|konversi ke format string atau teks|str(1011)|"
   ]
  },
  {
   "cell_type": "code",
   "execution_count": null,
   "metadata": {},
   "outputs": [],
   "source": [
    "angka = float(7000)\n",
    "print (angka)\n",
    "type(angka)\n"
   ]
  },
  {
   "cell_type": "code",
   "execution_count": null,
   "metadata": {},
   "outputs": [],
   "source": [
    "angka = 7000\n",
    "angka2 = float(angka)\n",
    "type(angka2)"
   ]
  },
  {
   "cell_type": "markdown",
   "metadata": {},
   "source": [
    "# String\n",
    "Salah satu tipe data dari Python yang berisikan kumpulan teks\n",
    "\n",
    "* Dalam string harus diapit oleh tanda kutip (' atau \")\n",
    "* Penggunaan tanda tersebut berarti sama, tanda kutip menunjukkan awal dan akhir dari string dapat juga disebut sebagai **delimiter**\n",
    "* Penggunaan **delimiter** harus sama pada bagian awal dan juga akhir\n",
    "* Contoh:\n",
    "'Hi'\n",
    "\"Hello\"\n",
    "\n",
    "\n",
    "Operator + dapat juga digunakan untuk menggabungkan string"
   ]
  },
  {
   "cell_type": "code",
   "execution_count": null,
   "metadata": {},
   "outputs": [],
   "source": [
    "hewan = 'kucing'\n",
    "jenis = 'persia'\n",
    "\n",
    "# print(hewan + jenis)\n",
    "print(hewan, jenis)\n",
    "# print(hewan + ' ' + jenis)"
   ]
  },
  {
   "cell_type": "markdown",
   "metadata": {},
   "source": [
    "# Fungsi print()\n",
    "berfungsi untuk menampilkan nilai dari variabel ke monitor"
   ]
  },
  {
   "cell_type": "code",
   "execution_count": null,
   "metadata": {},
   "outputs": [],
   "source": [
    "nama = 'ikiearth'\n",
    "print(nama)"
   ]
  },
  {
   "cell_type": "code",
   "execution_count": null,
   "metadata": {},
   "outputs": [],
   "source": [
    "nama = 3819283\n",
    "nama"
   ]
  },
  {
   "cell_type": "markdown",
   "metadata": {},
   "source": [
    "# Sifat-sifat String\n",
    "* string tersusun dari karakter, yaitu berupa huruf atau simbol\n",
    "* string memiliki panjang, yang didefinisikan sebagai jumlah karakternya\n",
    "* setiap karakter di string adalah terurut sehingga masing-masing karakter memiliki nomor urut atau posisi masing-masing\n",
    "\n",
    "\n",
    "untuk mengetahui panjang string atau jumlah karakternya dapat menggunakan fungsi len()"
   ]
  },
  {
   "cell_type": "code",
   "execution_count": null,
   "metadata": {},
   "outputs": [],
   "source": [
    "hewan = 'kucing'\n",
    "jumlah_karakter = len(hewan)\n",
    "print(jumlah_karakter)"
   ]
  },
  {
   "cell_type": "code",
   "execution_count": null,
   "metadata": {},
   "outputs": [],
   "source": [
    "flavor = 'fig pie'\n",
    "print(flavor[0])"
   ]
  },
  {
   "cell_type": "markdown",
   "metadata": {},
   "source": [
    "Posisi karalter dalam suatu string disebut juga dengan index. Kita dapat mengakses karakter di index berapapun dengan menggunakan kurung siku ([])\n",
    "* index pada python dimulai dari nol (0)"
   ]
  },
  {
   "cell_type": "code",
   "execution_count": null,
   "metadata": {},
   "outputs": [],
   "source": [
    "hewan = 'kucing'\n",
    "print(hewan[1])"
   ]
  },
  {
   "cell_type": "markdown",
   "metadata": {},
   "source": [
    "Mengambil susuan karakter tertentu dalam suatu string dengan cara slicing menggunakan operator :\n",
    "\n",
    "* catatan:\n",
    "* untuk slicing maka karakter pada index di sebelah kanan operator tersebut tidak masuk hitungan"
   ]
  },
  {
   "cell_type": "code",
   "execution_count": null,
   "metadata": {},
   "outputs": [],
   "source": [
    "flavor = 'fig pie'\n",
    "print(flavor[4:7])"
   ]
  },
  {
   "cell_type": "code",
   "execution_count": null,
   "metadata": {},
   "outputs": [],
   "source": [
    "flavor = 'fig pie'\n",
    "print(flavor[-5:-2])"
   ]
  },
  {
   "cell_type": "code",
   "execution_count": null,
   "metadata": {},
   "outputs": [],
   "source": [
    "hewan = 'kucing'\n",
    "jenis = 'persia'\n",
    "\n",
    "hewan_favorit = hewan + ' ' + jenis\n",
    "print(len(hewan_favorit))\n",
    "\n",
    "print(hewan_favorit[-5:-1])\n",
    "print(hewan_favorit[-5:])\n",
    "print(hewan_favorit[0:6])\n",
    "print(hewan_favorit[1])\n",
    "\n"
   ]
  },
  {
   "cell_type": "markdown",
   "metadata": {},
   "source": [
    "# Fungsi Lower dan Upper pada String"
   ]
  },
  {
   "cell_type": "code",
   "execution_count": null,
   "metadata": {},
   "outputs": [],
   "source": [
    "acara = 'kucing persia'\n",
    "print(acara.lower())\n",
    "print(acara.upper())"
   ]
  },
  {
   "cell_type": "code",
   "execution_count": null,
   "metadata": {},
   "outputs": [],
   "source": [
    "jenis_makanan = 'nasi rendang'\n",
    "print(jenis_makanan.upper())"
   ]
  },
  {
   "cell_type": "markdown",
   "metadata": {},
   "source": [
    "# Fungsi Input\n",
    "Dapat diartikan juga sebagai kita dapat memasukkan nilai sesuai dengan keingin kita\n",
    "\n",
    "* Dapat menggunakan fungsi input()"
   ]
  },
  {
   "cell_type": "code",
   "execution_count": null,
   "metadata": {},
   "outputs": [],
   "source": [
    "nama = input('Silahkan masukkan nama anda: ')\n",
    "print(nama)\n",
    "print('Nama lengkap saya adalah: ',nama)\n",
    "print(f'nama saya adalah:{nama}')\n",
    "print('')"
   ]
  },
  {
   "cell_type": "code",
   "execution_count": null,
   "metadata": {},
   "outputs": [],
   "source": [
    "nama = 'ikiearth'\n",
    "print('nama saya adalah: ',nama)"
   ]
  },
  {
   "cell_type": "code",
   "execution_count": null,
   "metadata": {},
   "outputs": [],
   "source": [
    "nama = 'ikiearth'\n",
    "print(f'nama saya adalah: {nama}')"
   ]
  },
  {
   "cell_type": "code",
   "execution_count": null,
   "metadata": {},
   "outputs": [],
   "source": [
    "dialog = 'Siapa nama mu?'\n",
    "user_input = input(dialog)\n",
    "print('Nama kamu adalah: ',user_input)"
   ]
  },
  {
   "cell_type": "markdown",
   "metadata": {},
   "source": [
    "# Conditional (WEEK 2)\n",
    "\n",
    "* **conditional logic** (membandingkan nilai) melakukan tindakan berbeda berdasarkan kondisi yang berbeda\n",
    "\n",
    "* Dalam pemrograman komputer, kondisi bersyarat sering kali berbentuk perbandingan antara dua nilai, seperti menentukan apakah satu nilai lebih besar dari yang lain ataukah bernilai sama"
   ]
  },
  {
   "cell_type": "markdown",
   "metadata": {},
   "source": [
    "# Operator untuk Pembanding\n",
    "\n",
    "|Operator|Contoh|Pengertian|\n",
    "|----|----|----|\n",
    "|>|x > y|x lebih besar dari y|\n",
    "|<|x < y|x lebih kecil dari y|\n",
    "|>=|x >= y|x lebih besar dari atau sama dengan y|\n",
    "|<=|x <= y|x lebih kecil dari atau sama dengan y|\n",
    "|==|x == y|x sama dengan y|\n",
    "|!=|x != y|x tidak sama dengan y|\n",
    "|is| x is y| x adalah objek yang identik dengan y (nilai dan id-nya)|\n",
    "|is not|x is not y|x adalah objek yang tidak identik dengan y|"
   ]
  },
  {
   "cell_type": "markdown",
   "metadata": {},
   "source": [
    "Operator pembanding biasa disebut dengan operator Boolean atau disingkat bool. Nilai dari tipe data ini hanya ada dua, yaitu **True** dan **False**"
   ]
  },
  {
   "cell_type": "code",
   "execution_count": null,
   "metadata": {},
   "outputs": [],
   "source": [
    "angka1 = 3\n",
    "angka2 = 3.0\n",
    "\n",
    "angka1 == angka2"
   ]
  },
  {
   "cell_type": "markdown",
   "metadata": {},
   "source": [
    "# Penting!\n",
    "\n",
    "* bedakan operator == dengan operator assignment =\n",
    "* dalam penulisan nilai True dan False selalu awali dengan huruf besar"
   ]
  },
  {
   "cell_type": "code",
   "execution_count": null,
   "metadata": {},
   "outputs": [],
   "source": [
    "a = 3\n",
    "b = 4\n",
    "\n",
    "print(a < b)\n",
    "print(a > b)\n",
    "print(a <= b)\n",
    "print(a >= b)\n",
    "print(a == b)\n",
    "print(a != b)\n",
    "print(a is b)\n",
    "print(a is not b)"
   ]
  },
  {
   "cell_type": "code",
   "execution_count": null,
   "metadata": {},
   "outputs": [],
   "source": [
    "a = (1 == 1)\n",
    "print(a)\n",
    "type(a)"
   ]
  },
  {
   "cell_type": "markdown",
   "metadata": {},
   "source": [
    "# Operasi Logika\n",
    "\n",
    "|Operator|Contoh|Keterangan|\n",
    "|----|----|----|\n",
    "|and|x and y|nilai akan True hanya jika x dan y True, selain ini akan bernilai False|\n",
    "|or|x or y|nilai akan True kalau salah satu atau keduanya dari x dan y True|\n",
    "|not|not x|membalikkan nilai dari x (menjadi True kalau x False dan sebaliknya)"
   ]
  },
  {
   "cell_type": "code",
   "execution_count": null,
   "metadata": {},
   "outputs": [],
   "source": [
    "a = 4\n",
    "b = 3\n",
    "\n",
    "print(a > b)\n",
    "print(a < b or a > b)\n",
    "print(not(a < b))\n"
   ]
  },
  {
   "cell_type": "markdown",
   "metadata": {},
   "source": [
    "# Penting!\n",
    "\n",
    "dieksekusi terlebih dahulu dari skala prioritasnya adalah: <, <=, ==, >, >=, not, and, or\n",
    "\n",
    "namun jika menggunakan operator (), maka operasi itu yang akan dieksekusi terlbih dahulu"
   ]
  },
  {
   "cell_type": "code",
   "execution_count": null,
   "metadata": {},
   "outputs": [],
   "source": [
    "jumlah_mobil = 3\n",
    "jumlah_motor = 4\n",
    "\n",
    "print(jumlah_mobil < 4 and jumlah_motor > 3)\n",
    "print(jumlah_mobil > 4 and jumlah_motor > 4)\n",
    "print(jumlah_mobil < 4 or jumlah_motor > 3)\n",
    "print(jumlah_mobil < 4 or jumlah_motor > 4)\n",
    "print(jumlah_mobil < 3 or jumlah_motor > 4)\n",
    "print(not(jumlah_mobil < 3) and (jumlah_motor > 3))\n"
   ]
  },
  {
   "cell_type": "markdown",
   "metadata": {},
   "source": [
    "# If Statement\n",
    "if statement membuat python mengeksekusi code di dalamnya jika suatu kondisi terpenuhi"
   ]
  },
  {
   "cell_type": "code",
   "execution_count": null,
   "metadata": {},
   "outputs": [],
   "source": [
    "# Bentuk umum dari if statement \n",
    "\n",
    "if kondisi:\n",
    "    aksi"
   ]
  },
  {
   "cell_type": "code",
   "execution_count": null,
   "metadata": {},
   "outputs": [],
   "source": [
    "if 5 + 4 == 9:\n",
    "    print('Baris ini akan dijalankan kalau kondisi di atas benar')"
   ]
  },
  {
   "cell_type": "markdown",
   "metadata": {},
   "source": [
    "# if statement memiliki 3 bagian\n",
    "\n",
    "* kata kunci if\n",
    "* kondisi yang harus diuji (harus diakhiri dengan tanda titik dua (:)\n",
    "* aksi yaitu berupa code yang ditulis menjorok ke dalam (indent) yan akan dieksekusi jika kondisi bernilai True"
   ]
  },
  {
   "cell_type": "code",
   "execution_count": null,
   "metadata": {},
   "outputs": [],
   "source": [
    "nilai_tes = 80\n",
    "if nilai_tes >= 80:\n",
    "    print('Kamu lulus ujian')"
   ]
  },
  {
   "cell_type": "markdown",
   "metadata": {},
   "source": [
    "# if-else Statement\n",
    "digunakan untuk memilih dua statement atau code untuk dijalankan"
   ]
  },
  {
   "cell_type": "code",
   "execution_count": null,
   "metadata": {},
   "outputs": [],
   "source": [
    "# Brntuk umum if else\n",
    "\n",
    "if kondisi:\n",
    "    aksi1\n",
    "else:\n",
    "    aksi2"
   ]
  },
  {
   "cell_type": "markdown",
   "metadata": {},
   "source": [
    "# Penting!\n",
    "\n",
    "* jangan ada kondisi yang ditulis setalah fungsi **else**, namun harus langsung ditutup dengan tanda :"
   ]
  },
  {
   "cell_type": "code",
   "execution_count": null,
   "metadata": {},
   "outputs": [],
   "source": [
    "nilai_tes = 70\n",
    "if nilai_tes >= 80:\n",
    "    print('Kamu lulus ujian')\n",
    "else:\n",
    "    print('Kamu tidak lulus ujian')"
   ]
  },
  {
   "cell_type": "markdown",
   "metadata": {},
   "source": [
    "# elif Statement\n",
    "elif merupakan singkatan dari else if. elif berguna saat ada kondisi lain yang harus dicek"
   ]
  },
  {
   "cell_type": "markdown",
   "metadata": {},
   "source": [
    "Misalkan ada 3 kondisi yang harus dicek, maka bentuk umumnya adalah"
   ]
  },
  {
   "cell_type": "code",
   "execution_count": null,
   "metadata": {},
   "outputs": [],
   "source": [
    "if kondisi1:\n",
    "    aksi1\n",
    "elif kondisi2:\n",
    "    aksi2\n",
    "elif kondisi3:\n",
    "    aksi3"
   ]
  },
  {
   "cell_type": "markdown",
   "metadata": {},
   "source": [
    "# Alur Kerja\n",
    "\n",
    "Yang pertama kali dilakukan oleh Python adalah mengecek **Kondisi1**. Jika **Kondisi1** bernilai True maka **Aksi1** yang akan dieksekusi dan itu adalah akhir dari code sehingga abaikan **Kondisi** dan **Aksi** lainnya. Namun, jika bernilai False, maka Python akan mengecek **Kondisi2** dan mengabaikan **Aksil**. Jika **Kondisi2** bernilai True maka **Aksi2** yang akan dieksekusi dan itu adalah akhir dari code sehingga abaikan Kondisi dan Aksi lain-nya. Namun, jika bernilai False, maka Python akan mengecek **Kondisi3** dan seterusnya seperti proses sebelumnya."
   ]
  },
  {
   "cell_type": "markdown",
   "metadata": {},
   "source": [
    "Jika kondisi ketiga adalah **semua kemungkinan** diluar dari kondisi1 dan kondisi2, maka bisa diganti elif kondisi3 dengan else"
   ]
  },
  {
   "cell_type": "code",
   "execution_count": null,
   "metadata": {},
   "outputs": [],
   "source": [
    "if kondisi1:\n",
    "    aksi1\n",
    "elif kondisi2:\n",
    "    aksi2\n",
    "else:\n",
    "    aksi3"
   ]
  },
  {
   "cell_type": "code",
   "execution_count": null,
   "metadata": {},
   "outputs": [],
   "source": [
    "besar_gaji = int (input ('Masukkan Jumlah Gaji Anda: '))\n",
    "masa_bakti = int (input ('Masukkan Masa Bakti Anda: '))\n",
    "masa_bakti_minimal = 6\n",
    "besar_bonus = besar_gaji + (besar_gaji * (15/100))\n",
    "\n",
    "if masa_bakti >= masa_bakti_minimal:\n",
    "    besar_gaji + (besar_gaji * (15/100))\n",
    "    print('Selamat anda mendapatkan Bonus Gaji anda adalah sebesar, ', + besar_bonus, \"Juta\")\n",
    "else:\n",
    "    print('Maaf anda belom berkesempatan untuk menerima bonus gaji bulan ini')"
   ]
  },
  {
   "cell_type": "code",
   "execution_count": null,
   "metadata": {},
   "outputs": [],
   "source": [
    "nilai_tes = 80\n",
    "if nilai_tes >= 80:\n",
    "    print('kamu lulus ujian')\n",
    "elif 60 <= nilai_tes < 80:\n",
    "    print('kamu berhak mengulang ujian')\n",
    "else:\n",
    "    print('kamu tidak lulus ujian')"
   ]
  },
  {
   "cell_type": "code",
   "execution_count": null,
   "metadata": {},
   "outputs": [],
   "source": [
    "nilai_tes = 50\n",
    "if nilai_tes >= 80:\n",
    "    print('kamu lulus ujian')\n",
    "elif 60 <= nilai_tes < 80:\n",
    "    print('kamu berhak mengulang ujian')\n",
    "elif 0 <= nilai_tes < 60:\n",
    "    print('kamu tidak lulus ujian')"
   ]
  },
  {
   "cell_type": "code",
   "execution_count": null,
   "metadata": {},
   "outputs": [],
   "source": [
    "nilai_tes = 70\n",
    "if nilai_tes >= 80:\n",
    "    print('kamu lulus ujian')\n",
    "elif 60 <= nilai_tes < 80:\n",
    "    print('kamu berhak mengulang ujian')\n",
    "elif 0 <= nilai_tes < 60:\n",
    "    print('kamu tidak lulus ujian')"
   ]
  },
  {
   "cell_type": "markdown",
   "metadata": {},
   "source": [
    "# Nested if Statement\n",
    "suatu keadaan bersyarat di dalam keaadan bersyarat lainnya"
   ]
  },
  {
   "cell_type": "code",
   "execution_count": null,
   "metadata": {},
   "outputs": [],
   "source": [
    "x = 2\n",
    "if x < -1:\n",
    "    y = 1\n",
    "else:\n",
    "    if x <= 2:\n",
    "        y = x**2\n",
    "    else:\n",
    "        y = 4\n",
    "print(f'nilai y untuk x = {x} adalah {y}')"
   ]
  },
  {
   "cell_type": "markdown",
   "metadata": {},
   "source": [
    "# CONTOH SOAL"
   ]
  },
  {
   "cell_type": "markdown",
   "metadata": {},
   "source": [
    "1. Sistem keamanan yang dipasang di suatu bendungan akan memberikan alarm bahaya ketika tinggi air mencapai lebih dari 950 cm. Apabila tinggi air hari ini adalah 945 cm, tentukan apakah sistem akan memberikan alarm atau tidak. (menggunakan if 2 statement)"
   ]
  },
  {
   "cell_type": "code",
   "execution_count": null,
   "metadata": {},
   "outputs": [],
   "source": [
    "hari_ini = 945 #ganti titik-titik dengan tinggi air hari ini\n",
    "batasan = 950\n",
    "\n",
    "print('Ketinggian air hari ini ', hari_ini)\n",
    "\n",
    "#ganti semua titik-titik dengan kode yang tepat\n",
    "if hari_ini >= batasan:\n",
    "    jawaban_4 = 'Bahaya!'\n",
    "else:\n",
    "    jawaban_4 = 'Tidak bahaya.'\n",
    "\n",
    "print(jawaban_4)"
   ]
  },
  {
   "cell_type": "markdown",
   "metadata": {},
   "source": [
    "2. Pak Dummy berbelanja di sebuah minimarket. Pak Dummy membeli 2 kg telur, 2 kotak susu, dan 5 bungkus mie instan. Harga masing-masing barang diberikan oleh tabel berikut. (menggunakan if lebih dari 2 statement: if, elif, else)\n",
    "\n",
    "|Barang|Harga|\n",
    "|------|-----|\n",
    "|Telur|Rp 17000/kg|\n",
    "|Susu|Rp 28000/kotak|\n",
    "|Mie instan|Rp 2000/bungkus|\n",
    "\n",
    "Pak Dummy membawa uang Rp 100.000. Cek apakah uang Pak Dummy pas untuk membayar belanjaannya atau tidak."
   ]
  },
  {
   "cell_type": "code",
   "execution_count": null,
   "metadata": {},
   "outputs": [],
   "source": [
    "telur = 17000\n",
    "susu = 28000\n",
    "mie_instan = 2000\n",
    "\n",
    "total_belanja = (2 * telur) + (2 * susu) + (5 * mie_instan)#ganti titik-titik dengan total belanja Pak Man\n",
    "print('Total belanja: Rp', total_belanja)\n",
    "uang_pakman = 100000\n",
    "\n",
    "#ganti titik-titik dengan kode yang tepat\n",
    "if total_belanja < uang_pakman:\n",
    "    jawaban_5 = 'Uang lebih.'\n",
    "elif total_belanja == uang_pakman:\n",
    "    jawaban_5 = 'Uang pas.'\n",
    "else:\n",
    "    jawaban_5 = 'Uang kurang.'\n",
    "print(jawaban_5)"
   ]
  },
  {
   "cell_type": "markdown",
   "metadata": {},
   "source": [
    "3. Suatu sekolah menyeleksi calon siswa baru berdasarkan nilai tes Matematika dan Bahasa Inggris. Calon siswa diterima di sekolah tersebut apabila nilai tes keduanya tidak ada yang kurang dari 75. Calon siswa yang diterima akan dibagi ke dalam tiga kelas: Kelas A, Kelas B, dan Kelas C. Kriterianya adalah sebagai berikut:\n",
    "* Kelas A: nilai Matematika > 85 dan nilai Bahasa Inggris $\\geq$ 80\n",
    "* Kelas B: nilai Matematika > 80 dan nilai Bahasa Inggris $\\geq$ 77.5\n",
    "* Sisanya akan masuk ke kelas C\\\n",
    "\\\n",
    "Rudi mendapatkan nilai tes Matematika 84 dan tes Bahasa Inggris 77.5. Apakah Rudi diterima sebagai siswa sekolah tersebut? Jika ya, masuk ke kelas manakah dia?"
   ]
  },
  {
   "cell_type": "code",
   "execution_count": null,
   "metadata": {},
   "outputs": [],
   "source": [
    "nilai_mtk = 84 #ganti titik-titik dengan nilai Matematika Rudi\n",
    "nilai_ing = 77.5 #ganti titik-titik dengan nilai Bahasa Inggris Rudi\n",
    "\n",
    "#ganti semua titik-titik dengan kode yang benar.\n",
    "if nilai_mtk >= 75 and nilai_ing >= 75:\n",
    "    if nilai_mtk > 85 and nilai_ing >= 80:\n",
    "        jawaban_8 = 'Kelas A'\n",
    "    elif nilai_mtk > 80 and nilai_ing >= 77.5:\n",
    "        jawaban_8 = 'Kelas B'\n",
    "    elif nilai_mtk < 80 and nilai_ing < 77.5:\n",
    "        jawaban_8 = 'Kelas C'\n",
    "else:\n",
    "    jawaban_8 = 'Tidak diterima'\n",
    "print(jawaban_8)"
   ]
  },
  {
   "cell_type": "markdown",
   "metadata": {},
   "source": [
    "# Loop Statements (WEEK 3)\n",
    "ada dua jenis pengulangan yaitu:\n",
    "\n",
    "* pengulangan yang bersyarat (conditional loops) menggunakan **while statement**\n",
    "* pengulangan yang berbilang (counted loops) menggunakan **for statement**"
   ]
  },
  {
   "cell_type": "markdown",
   "metadata": {},
   "source": [
    "# while Statement\n",
    "digunakan untuk mengulang suatu aksi yang tidak diketahui jumlah pengulangannya, namun dapat dikendalikan dengan suatu kondisi tertentu\n",
    "\n",
    "ada 2 bagian dari while statement\n",
    "* kata kunci while yang diikuti dengan kondisi yang akan dievaluasi dan diakhiri dengan tanda titik dua :\n",
    "* aksi atau loop body yang berisikan code yang akan terus diulang selama nilai kondisi adalah True. pada bagian ini wajib memperhatikan indent"
   ]
  },
  {
   "cell_type": "code",
   "execution_count": null,
   "metadata": {},
   "outputs": [],
   "source": [
    "# Bentuk umum while statement\n",
    "\n",
    "while kondisi:\n",
    "    aksi1"
   ]
  },
  {
   "cell_type": "code",
   "execution_count": null,
   "metadata": {},
   "outputs": [],
   "source": [
    "while kondisi:\n",
    "    aksi1\n",
    "else:\n",
    "    aksi2"
   ]
  },
  {
   "cell_type": "code",
   "execution_count": null,
   "metadata": {},
   "outputs": [],
   "source": [
    "n = 1\n",
    "while n <= 5:\n",
    "    print(n)\n",
    "    n += 1"
   ]
  },
  {
   "cell_type": "code",
   "execution_count": null,
   "metadata": {},
   "outputs": [],
   "source": [
    "i = 1\n",
    "while i <= 5:\n",
    "    print(i)\n",
    "    i += 1\n",
    "else:\n",
    "    print('nilai i sudah lebih dari 5')"
   ]
  },
  {
   "cell_type": "markdown",
   "metadata": {},
   "source": [
    "# for Statement\n",
    "digunakan saat kita mengetahui berapa banyak pengulangan yang harus dilakukan\n",
    "\n",
    "* kata kunci for yang diikuti dengan ekspresi keanggotaan dan akhiri dengan tanda titik dua :\n",
    "* aksi atau loop body yang berisikan code yang akan terus diulang selama perhitungan keanggotaan belum selesai. wajib memperhatikan indent"
   ]
  },
  {
   "cell_type": "code",
   "execution_count": null,
   "metadata": {},
   "outputs": [],
   "source": [
    "# Bentuk umum for statement\n",
    "\n",
    "for membership:\n",
    "    aksi"
   ]
  },
  {
   "cell_type": "code",
   "execution_count": null,
   "metadata": {},
   "outputs": [],
   "source": [
    "for huruf in 'Python':\n",
    "    print(huruf)"
   ]
  },
  {
   "cell_type": "code",
   "execution_count": null,
   "metadata": {},
   "outputs": [],
   "source": [
    "word = 'Python'\n",
    "index = 0\n",
    "while index < len (word):\n",
    "    print (word[index])\n",
    "    index += 1"
   ]
  },
  {
   "cell_type": "markdown",
   "metadata": {},
   "source": [
    "# Fungsi range ()\n",
    "berguna dalam menghasilkan angka dalam rentang tertentu\n",
    "\n",
    "* bentuk umum dari fungsi range() adalah range(start, stop, step)\n",
    "* angka akhir tidak masuk dalam luaran fungsi ini"
   ]
  },
  {
   "cell_type": "code",
   "execution_count": null,
   "metadata": {},
   "outputs": [],
   "source": [
    "for angka in range (5):\n",
    "    print(angka+1)"
   ]
  },
  {
   "cell_type": "code",
   "execution_count": null,
   "metadata": {},
   "outputs": [],
   "source": [
    "for a in range (1,11,2):\n",
    "    print(a)"
   ]
  },
  {
   "cell_type": "code",
   "execution_count": null,
   "metadata": {},
   "outputs": [],
   "source": [
    "for a in range(9,1,-2):\n",
    "    print(a)"
   ]
  },
  {
   "cell_type": "code",
   "execution_count": null,
   "metadata": {},
   "outputs": [],
   "source": [
    "for n in range (30,1,-2):\n",
    "    print(n)"
   ]
  },
  {
   "cell_type": "markdown",
   "metadata": {},
   "source": [
    "# Nested loops\n",
    "sama dengan if statement, kasus pengulangannya juga bisa terjadi di dalam proses pengulangan yang lain\n",
    "\n",
    "Catatan:\n",
    "* konsep nested loops untuk setiap 1 kali iterasi luar, maka iterasi yang di dalamnya harus diselesaikan"
   ]
  },
  {
   "cell_type": "code",
   "execution_count": null,
   "metadata": {},
   "outputs": [],
   "source": [
    "for i in range(3):\n",
    "    print('ini loop luar')\n",
    "    for j in range (3):\n",
    "        print('ini loop dalam')"
   ]
  },
  {
   "cell_type": "code",
   "execution_count": null,
   "metadata": {},
   "outputs": [],
   "source": [
    "for j in range (3):\n",
    "  print(j)"
   ]
  },
  {
   "cell_type": "markdown",
   "metadata": {},
   "source": [
    "# Gabungan Loop Statement dan If Statement\n",
    "if statement ke loop body dari loop statement atau sebaliknya"
   ]
  },
  {
   "cell_type": "code",
   "execution_count": null,
   "metadata": {},
   "outputs": [],
   "source": [
    "n = 1\n",
    "for n in range (12):\n",
    "    if n % 3 == 0:\n",
    "        n += 1\n",
    "        print (n)\n",
    "        "
   ]
  },
  {
   "cell_type": "markdown",
   "metadata": {},
   "source": [
    "# Fungsi break\n",
    "digunakan untuk menghentikan suatu iterasi, sehingga suatu pengulangan akan berhentu sempurna tanpa menghiraukan sisa iterasunya, lalu program akan terus berjalan dengan menjalankan code di luar dari loop statement"
   ]
  },
  {
   "cell_type": "code",
   "execution_count": null,
   "metadata": {},
   "outputs": [],
   "source": [
    "for n in range (1,6):\n",
    "    if n == 3:\n",
    "        break\n",
    "    print(n)\n",
    "print(f'iterasi selesai dengan nilai akhir {n}, ini di luar loop')"
   ]
  },
  {
   "cell_type": "markdown",
   "metadata": {},
   "source": [
    "# Fungsi continue\n",
    "digunakan untuk melewatkan (skip) suatu tahapan iterasi (tidak melanjutkan pembacaan code pada loop body) lalu dilanjtkan kembali pada iterasi berikutnya"
   ]
  },
  {
   "cell_type": "code",
   "execution_count": null,
   "metadata": {},
   "outputs": [],
   "source": [
    "for n in range (6):\n",
    "    if n == 2:\n",
    "        break\n",
    "    print(n)\n",
    "print(f'iterasi selesai dengan nilai akhir {n}, ini di luar loop')"
   ]
  },
  {
   "cell_type": "code",
   "execution_count": null,
   "metadata": {},
   "outputs": [],
   "source": [
    "angka = 1\n",
    "while angka <= 40:\n",
    "    if angka % 7 == 0:\n",
    "        angka += 1\n",
    "        continue\n",
    "    print (angka)\n",
    "    angka += 1"
   ]
  },
  {
   "cell_type": "code",
   "execution_count": null,
   "metadata": {},
   "outputs": [],
   "source": [
    "angka = 30\n",
    "while angka <= 31:\n",
    "    print (angka)\n",
    "    angka -= 2\n",
    "\n",
    "    #if angka == 0:\n",
    "        #break"
   ]
  },
  {
   "cell_type": "markdown",
   "metadata": {},
   "source": [
    "Keluarkan semua bilangan asli yang nilai kuadratnya lebih dari 20, dengan syarat bilangan yang habis dibagi 3 atau 4 tidak ikut dikeluarkan dan jika nilai kuadratnya sudah melewati dari 625 maka program berhenti"
   ]
  },
  {
   "cell_type": "code",
   "execution_count": null,
   "metadata": {},
   "outputs": [],
   "source": [
    "a = 1\n",
    "while a > 0:\n",
    "  if a ** 2 < 20:\n",
    "    a += 1\n",
    "    continue\n",
    "  elif a % 3 == 0:\n",
    "    a += 1\n",
    "    continue\n",
    "  elif a % 4 == 0:\n",
    "    a += 1\n",
    "    continue\n",
    "  elif a ** 2 > 625:\n",
    "    a += 1\n",
    "    break\n",
    "  print(a)\n",
    "  a += 1"
   ]
  },
  {
   "cell_type": "code",
   "execution_count": null,
   "metadata": {},
   "outputs": [],
   "source": [
    "a = 1\n",
    "while a > 0:\n",
    "  if a ** 2 < 20:\n",
    "    a += 1\n",
    "    continue\n",
    "  elif a % 3 == 0 or a % 4 == 0:\n",
    "    a += 1\n",
    "    continue\n",
    "  elif a ** 2 > 625:\n",
    "    a += 1\n",
    "    break\n",
    "  print(a)\n",
    "  a += 1"
   ]
  },
  {
   "cell_type": "markdown",
   "metadata": {},
   "source": [
    "# CONTOH SOAL"
   ]
  },
  {
   "cell_type": "markdown",
   "metadata": {},
   "source": [
    "1. Buatlah program yang dapat menghasilkan/mencetak semua bilangan kelipatan 8 yang nilai kuadratnya di bawah 600. (menggunakan while 2 statement)"
   ]
  },
  {
   "cell_type": "code",
   "execution_count": null,
   "metadata": {},
   "outputs": [],
   "source": [
    "i = 1\n",
    "jawaban_1 = 600 #ganti dengan angka yang tepat\n",
    "\n",
    "#ganti titik-titik dengan kode yang tepat\n",
    "while (8*i)**2 <= jawaban_1:\n",
    "    print(i, 'adalah kelipatan dari bilangan 8 =',(8*i)**2)\n",
    "    i+=1"
   ]
  },
  {
   "cell_type": "markdown",
   "metadata": {},
   "source": [
    "2. Buat program yang dapat menghitung jumlah total dari  $1^2$ sampai $10^2$.\\ (Menggunakan for karena sudah diketahui jumlah perulangan)\n",
    "$$1^2 + 2^2 + \\dots + 10^2$$"
   ]
  },
  {
   "cell_type": "code",
   "execution_count": null,
   "metadata": {},
   "outputs": [],
   "source": [
    "jumlah = 0\n",
    "for i in range (1,11):\n",
    "  print (i**2)\n",
    "  naga = jumlah\n",
    "  jumlah = i ** 2\n",
    "  jumlah = naga + jumlah\n",
    "\n",
    "print(jumlah)"
   ]
  },
  {
   "cell_type": "code",
   "execution_count": null,
   "metadata": {},
   "outputs": [],
   "source": [
    "jawaban_2 = 0\n",
    "\n",
    "for i in range(1,11):\n",
    "    print ('Nilai pangkat dari', i,'=', i ** 2)\n",
    "    dummy = jawaban_2\n",
    "    jawaban_2 = i**2\n",
    "    jawaban_2 = dummy + jawaban_2\n",
    "print('Nilai total dari pangkat 1 sampai 10 adalah=', jawaban_2)"
   ]
  },
  {
   "cell_type": "markdown",
   "metadata": {},
   "source": [
    "3. Buat program yang dapat menghasilkan bilangan mulai dari 10 sampai 50 dengan selisih tiap bilangan yang akan dicetak adalah 4.\\ (menggunakan for sudah diketahui jumlah perulangan)\n",
    "$$10, 14, 18, \\dots$$"
   ]
  },
  {
   "cell_type": "code",
   "execution_count": null,
   "metadata": {},
   "outputs": [],
   "source": [
    "for i in range (10,51,4):\n",
    "  print(i)"
   ]
  },
  {
   "cell_type": "markdown",
   "metadata": {},
   "source": [
    "4. Berapa jumlah semua bilangan asli kurang dari atau sama dengan 50, namun bilangan kelipatan 3 tidak diikutsertakan? Dengan kata lain, hitunglah $1+2+4+5+7+8+\\dots+50$. (menggunakan for karena sudah diketahui dan nilai disimpan terlebih dahulu)"
   ]
  },
  {
   "cell_type": "code",
   "execution_count": null,
   "metadata": {},
   "outputs": [],
   "source": [
    "jawaban_5 = 0\n",
    "\n",
    "#ganti titik-titik dengan kode yang tepat\n",
    "for i in range (51):\n",
    "    if i % 3 == 0:\n",
    "        continue\n",
    "    dummy = i\n",
    "    print (i)\n",
    "    jawaban_5 = dummy + jawaban_5\n",
    "print ('Total jumlah bilang asli kurang dari 50 adalah', jawaban_5)"
   ]
  },
  {
   "cell_type": "markdown",
   "metadata": {},
   "source": [
    "5. Keluarkan semua bilangan asli yang nilai kuadratnya lebih dari 20, dengan syarat bilangan yang habis dibagi 3 atau 4 tidak ikut dikeluarkan dan jika nilai kuadratnya sudah melewati dari 625 maka program berhenti (menggunakan gabungan while dan if karena ada kondisi persyaratan)"
   ]
  },
  {
   "cell_type": "code",
   "execution_count": null,
   "metadata": {},
   "outputs": [],
   "source": [
    "a = 1\n",
    "while a > 0:\n",
    "  if a ** 2 < 20:\n",
    "    a += 1\n",
    "    continue\n",
    "  elif a % 3 == 0:\n",
    "    a += 1\n",
    "    continue\n",
    "  elif a % 4 == 0:\n",
    "    a += 1\n",
    "    continue\n",
    "  elif a ** 2 > 625:\n",
    "    a += 1\n",
    "    break\n",
    "  print(a)\n",
    "  a += 1"
   ]
  },
  {
   "cell_type": "code",
   "execution_count": null,
   "metadata": {},
   "outputs": [],
   "source": [
    "a = 1\n",
    "while a > 0:\n",
    "  if a ** 2 < 20:\n",
    "    a += 1\n",
    "    continue\n",
    "  elif a % 3 == 0 or a % 4 == 0:\n",
    "    a += 1\n",
    "    continue\n",
    "  elif a ** 2 > 625:\n",
    "    a += 1\n",
    "    break\n",
    "  print(a)\n",
    "  a += 1"
   ]
  },
  {
   "cell_type": "markdown",
   "metadata": {},
   "source": [
    "# Function (WEEK 4)\n",
    "suatu fungsi biasa digunakan untuk memecahkan kode menjadi potongan yang **lebih kecil atau sederhana** sehingga bagus untuk suatu tugas yang akan dijalankan beberapa kali di dalam program\n",
    "\n",
    "* tidak dapat menggunakan function dengan hanya menulis nama atau kata kunci saja\n",
    "* kita harus memanggil (call) fungsi dengan cara menambahkan tanda dalam kurung serta argumen yang diperlukan\n",
    "\n",
    "**Argumen adalah suatu nilai yang diteruskan ke fungsi sebagai masukan**\n",
    "\n",
    "ketika fungsi selesai menjalankan sesuatu, ia akan mengembalikan (return) suatu nilai sebagai luarannya\n",
    "\n",
    "Proses menjalankan suatu fungsi\n",
    "* suatu fungsi dipanggil dan argumen apapun diteruskan ke fungsi tersebut sebagai masukan\n",
    "* lalu fungsi tersebut akan berproses dan beberapa aksi akan dilakukan terhadap argumen yang diberikan\n",
    "* kemudian fungsi tersebut akan mengembalikan nilai dari hasil proses ke 2"
   ]
  },
  {
   "cell_type": "markdown",
   "metadata": {},
   "source": [
    "# Fungsi memiliki 2 bagian\n",
    "* **function signature**, berisikan nama dari fungsi dan argumen masukan yang diharapkan. bagian ini deawali dengan kata kunci def sebelum nama dari fungsunya, dan diakhiri dengan tanda titik dua :\n",
    "* **function body**, berisikan kode yang akan jalan setiap kali fungsi digunakan, perhatikan indent dalam penulisan"
   ]
  },
  {
   "cell_type": "code",
   "execution_count": null,
   "metadata": {},
   "outputs": [],
   "source": [
    "def dua_tambah_tiga():\n",
    "    angka = 2 + 3\n",
    "    angka += 1\n",
    "    return angka\n",
    "dua_tambah_tiga()"
   ]
  },
  {
   "cell_type": "code",
   "execution_count": null,
   "metadata": {},
   "outputs": [],
   "source": [
    "def naga (panjang,lebar,tinggi):\n",
    "  hasil = panjang * lebar * tinggi\n",
    "  return hasil\n",
    "\n",
    "naga(10,5,7)"
   ]
  },
  {
   "cell_type": "code",
   "execution_count": null,
   "metadata": {},
   "outputs": [],
   "source": [
    "def luasPersegiPanjang (panjang, lebar):\n",
    "    hasil = panjang * lebar\n",
    "    return hasil\n",
    "\n",
    "luasPersegiPanjang(11,8)"
   ]
  },
  {
   "cell_type": "code",
   "execution_count": null,
   "metadata": {},
   "outputs": [],
   "source": [
    "def luasPersegiPanjang (panjang, lebar):\n",
    "    hasil = panjang * lebar\n",
    "    print(f'luas dari persegi panjang adalah {hasil}')\n",
    "    return hasil\n",
    "    \n",
    "\n",
    "luasPersegiPanjang(5,8)"
   ]
  },
  {
   "cell_type": "code",
   "execution_count": null,
   "metadata": {},
   "outputs": [],
   "source": [
    "def penjumlahan (a,b,c):\n",
    "    hasil = (a+b)/c\n",
    "    return hasil\n",
    "\n",
    "penjumlahan (3, 5, 3)\n",
    "#print(nilai)"
   ]
  },
  {
   "cell_type": "code",
   "execution_count": null,
   "metadata": {},
   "outputs": [],
   "source": [
    "def penjumlahan (angka1, angka2):\n",
    "    angka_total = angka1 + angka2\n",
    "    return angka_total\n",
    "\n",
    "penjumlahan (4,5)"
   ]
  },
  {
   "cell_type": "code",
   "execution_count": null,
   "metadata": {},
   "outputs": [],
   "source": [
    "x = 'halo'\n",
    "\n",
    "def fungsi():\n",
    "    x = 5\n",
    "    y = 10\n",
    "    print(f'nilai x di dalam fungsi adalah {x}')\n",
    "\n",
    "fungsi()\n",
    "print(f'nilai x di luar fungsi adalah {x}')"
   ]
  },
  {
   "cell_type": "code",
   "execution_count": null,
   "metadata": {},
   "outputs": [],
   "source": [
    "def thp(posisi, gaji_pokok, tunjangan, pajak=0.1):\n",
    "    if posisi == 'manager':\n",
    "        print('selamat datang pak/bu direktiur')\n",
    "\n",
    "    gaji_setelah_pajak = (1 - pajak) * (gaji_pokok + tunjangan)\n",
    "    print(f'take home pay {posisi} setelah dikurangi pajak adalah sebesar {gaji_setelah_pajak}')\n",
    "\n",
    "thp('manager', 3000000, 1000000)"
   ]
  },
  {
   "cell_type": "markdown",
   "metadata": {},
   "source": [
    "# CONTOH SOAL"
   ]
  },
  {
   "cell_type": "markdown",
   "metadata": {},
   "source": [
    "1. Buatlah program yang menerima input dan mengeluarkan output sebagai berikut:\n",
    "* Input: panjang, lebar, dan tinggi sebuah balok\n",
    "* Output: luas permukaan balok tersebut\\\n",
    "\\\n",
    "Uji coba program Anda dengan menghitung luas permukaan balok dengan panjang 7.5 cm, lebar 3.5 cm, dan tinggi 2.25 cm.\\\n",
    "Expected result: 102.0"
   ]
  },
  {
   "cell_type": "code",
   "execution_count": null,
   "metadata": {},
   "outputs": [],
   "source": [
    "#ganti semua titik-titik dengan kode yang tepat\n",
    "def jawaban_1(panjang,lebar,tinggi):\n",
    "    luas = panjang * lebar * tinggi\n",
    "    return luas\n",
    "    \n",
    "print(jawaban_1(7.5,3.5,2.25))"
   ]
  },
  {
   "cell_type": "markdown",
   "metadata": {},
   "source": [
    "2. Universitas X menerapkan sistem uang kuliah tunggal (UKT) untuk membayar kuliah, dimana terdapat tiga golongan. Setiap golongan akan membayar uang kuliah per semesternya sebagai berikut:\n",
    "\n",
    "|Golongan|Uang Kuliah per Semester|\n",
    "|------|-----|\n",
    "|I|Rp 2.000.000|\n",
    "|II|Rp 3.500.000|\n",
    "|III|Rp 5.000.000|\n",
    "\n",
    "Untuk melunasi uang semesteran, mahasiswa dapat memilih dua pilihan pembayaran: langsung lunas atau mencicil. Apabila mahasiswa memilih langsung lunas, maka uang semesteran hanya dibayar sekali. Apabila mahasiswa memilih mencicil, maka uang semesteran akan dicicil sebanyak dua kali dengan besar cicilan pertama sama dengan besar cicilan kedua.\\\n",
    "Buatlah program yang menerima input berupa golongan dan pilihan pembayaran, dan outputnya adalah besar pembayaran (bila memilih langsung lunas) atau besar cicilan (bila memilih mencicil).\n",
    "\n",
    "Apabila Budi merupakan mahasiswa golongan II dan ia memilih membayar uang semesterannya dengan mencicil, berapa cicilannya? Tipe data jawaban harus berupa integer.\n",
    "\n",
    "Expected output: 1750000"
   ]
  },
  {
   "cell_type": "code",
   "execution_count": null,
   "metadata": {},
   "outputs": [],
   "source": [
    "#ganti semua titik-titik dengan kode yang tepat\n",
    "def jawaban_2 (golongan, tagihan):\n",
    "    if golongan == 'I':\n",
    "        if tagihan == 'lunas':\n",
    "            print('Golongan anda:', golongan)\n",
    "            print('Pilihan tagihan anda:', tagihan)\n",
    "            print('Total tagihan anda sebesar:')\n",
    "            return int (2000000)\n",
    "        else:\n",
    "            print('Golongan anda:', golongan)\n",
    "            print('Pilihan tagihan anda:', tagihan)\n",
    "            print('Total tagihan anda sebesar:')\n",
    "            return int (100000)\n",
    "    elif golongan == 'II':\n",
    "        if tagihan == 'lunas':\n",
    "            print('Golongan anda:', golongan)\n",
    "            print('Pilihan tagihan anda:', tagihan)\n",
    "            print('Total tagihan anda sebesar:')\n",
    "            return int (3500000)\n",
    "        else:\n",
    "            print('Golongan anda:', golongan)\n",
    "            print('Pilihan tagihan anda:', tagihan)\n",
    "            print('Total tagihan anda sebesar:')\n",
    "            return int (1750000)\n",
    "    elif golongan == 'III':\n",
    "        if tagihan == 'lunas':\n",
    "            print('Golongan anda:', golongan)\n",
    "            print('Pilihan tagihan anda:', tagihan)\n",
    "            print('Total tagihan anda sebesar:')\n",
    "            return int (5000000)\n",
    "        else:\n",
    "            print('Golongan anda:', golongan)\n",
    "            print('Pilihan tagihan anda:', tagihan)\n",
    "            print('Total tagihan anda sebesar:')\n",
    "            return int (2500000)\n",
    "\n",
    "print(jawaban_2('II','cicil'))"
   ]
  },
  {
   "cell_type": "code",
   "execution_count": null,
   "metadata": {},
   "outputs": [],
   "source": [
    "#ganti semua titik-titik dengan kode yang tepat\n",
    "def jawaban_2 (golongan, tagihan):\n",
    "    if golongan == 'I':\n",
    "        if tagihan == 'lunas':\n",
    "            return int (2000000)\n",
    "        else:\n",
    "            return int (100000)\n",
    "    elif golongan == 'II':\n",
    "        if tagihan == 'lunas':\n",
    "            return int (3500000)\n",
    "        else:\n",
    "            return int (1750000)\n",
    "    elif golongan == 'III':\n",
    "        if tagihan == 'lunas':\n",
    "            return int (5000000)\n",
    "        else:\n",
    "            return int (2500000)\n",
    "\n",
    "print(jawaban_2('II','cicil'))"
   ]
  },
  {
   "cell_type": "markdown",
   "metadata": {},
   "source": [
    "3. Suatu jasa pengiriman menetapkan ongkos kirim barang sebagai berikut: jika berat barang kurang dari 1 kg akan dikenai ongkos Rp 8000, jika lebih dari itu akan dikenai ongkos Rp 8000 plus tambahan sebesar Rp 1500/kg. Jika berat barang berupa pecahan, maka saat menghitung ongkos berat barang akan dibulatkan ke bawah (misalkan berat barang 1.6 kg maka akan dihitung 1 kg. Sehingga ongkos kirim barang tersebut adalah $8000 + 1500(1) = 9500$). Buatlah fungsi yang menghitung ongkos kirim suatu barang untuk jasa ekspedisi tersebut.\\\n",
    "Uji program Anda untuk menghitung ongkos kirim suatu meja seberat 2.6 kg.\n",
    "* **Hint**: untuk membulatkan bilangan ke bawah, Anda bisa mengubah bilangan tersebut menjadi tipe data integer dengan fungsi `int()`\n",
    "* **Expected output**: 11000"
   ]
  },
  {
   "cell_type": "code",
   "execution_count": null,
   "metadata": {},
   "outputs": [],
   "source": [
    "#ganti semua titik-titik dengan kode yang tepat\n",
    "def jawaban_3(berat):\n",
    "        #return berat//1\n",
    "    if berat < 1:\n",
    "        return int (8000)\n",
    "        #print ('Ongkos kirim barang anda sebesar', 'Rp', int (ongkir))\n",
    "    elif berat > 1:\n",
    "        return int((berat * 1500) + 8000)\n",
    "        #print ('Ongkos kirim barang anda sebesar', 'Rp', int (ongkir))\n",
    "        \n",
    "jawaban_3((2.6)//1)"
   ]
  },
  {
   "cell_type": "markdown",
   "metadata": {},
   "source": [
    "4. Definisikan fungsi berikut:\\\n",
    "$$f(x) = \\begin{cases}\n",
    "0.1x &  x\\leq 0\\\\\n",
    "x & x > 0\n",
    "\\end{cases}$$\n",
    "\n",
    "* Fungsi akan mengembalikan nilai $0.1x$ jika nilai $x$ kurang dari sama dengan 0\n",
    "* Fungsi akan mengembalikan nilai $x$ jika nilai $x$ lebih dari 0.\n",
    "\n",
    "Kemudian, carilah nilai dari $f(-2.5)$ dengan menggunakan fungsi yang telah Anda buat."
   ]
  },
  {
   "cell_type": "code",
   "execution_count": null,
   "metadata": {},
   "outputs": [],
   "source": [
    "#ganti semua titik-titik dengan kode yang tepat\n",
    "def jawaban_4 (nilai_x):\n",
    "    if nilai_x <= 0:\n",
    "        hasil = nilai_x * 0.1\n",
    "        return hasil\n",
    "        #print(hasil)\n",
    "    else:\n",
    "        return nilai_x\n",
    "        #print(hasil)\n",
    "        \n",
    "jawaban_4(-2.5)"
   ]
  },
  {
   "cell_type": "markdown",
   "metadata": {},
   "source": [
    "5. Diketahui bahwa jika kita menabung di bank sebesar $M$ dan setiap tahunnya akan dikenakan bunga majemuk $i$, maka besar tabungan kita pada tahun ke-n adalah $M(1+i)^n$. Buatlah fungsi untuk menghitung besar tabungan kita pada tahun ke-n bila diberikan input besar tabungan awal $M$ dan tingkat bunga $i$.\n",
    "Gunakan fungsi yang Anda buat untuk menghitung besar tabungan pada tahun ke-2 apabila besar tabungan awal adalah Rp 10.000.000 dan tingkat bunga 5% ($i = 0.05$)."
   ]
  },
  {
   "cell_type": "code",
   "execution_count": null,
   "metadata": {},
   "outputs": [],
   "source": [
    "#ganti semua titik-titik dengan kode yang tepat\n",
    "def jawaban_5 (tabungan_awal, bunga, tahun):\n",
    "    hasil = tabungan_awal * ((1+bunga)**tahun)\n",
    "    return hasil\n",
    "    #print('Jumlah tabungan anda sekarang sebesar', 'Rp', int(jumlah_tabungan))\n",
    "    \n",
    "jawaban_5(10000000,0.05,2)"
   ]
  }
 ],
 "metadata": {
  "kernelspec": {
   "display_name": "Python 3.10.5 64-bit",
   "language": "python",
   "name": "python3"
  },
  "language_info": {
   "codemirror_mode": {
    "name": "ipython",
    "version": 3
   },
   "file_extension": ".py",
   "mimetype": "text/x-python",
   "name": "python",
   "nbconvert_exporter": "python",
   "pygments_lexer": "ipython3",
   "version": "3.11.4"
  },
  "orig_nbformat": 4,
  "vscode": {
   "interpreter": {
    "hash": "aee8b7b246df8f9039afb4144a1f6fd8d2ca17a180786b69acc140d282b71a49"
   }
  }
 },
 "nbformat": 4,
 "nbformat_minor": 2
}
