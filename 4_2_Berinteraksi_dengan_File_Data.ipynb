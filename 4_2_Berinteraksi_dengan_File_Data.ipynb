{
  "cells": [
    {
      "cell_type": "markdown",
      "metadata": {
        "id": "LbGbJgr8JyPH"
      },
      "source": [
        "* Pada notebook sebelumnya dicontohkan cara membuat `Series` dan `DataFrame` dari struktur data dasar pada Python.\n",
        "* Pandas juga menyediakan fungsi untuk meng-import dataset."
      ]
    },
    {
      "cell_type": "markdown",
      "metadata": {
        "id": "Wq8hwmjlJyPJ"
      },
      "source": [
        "# Membaca File"
      ]
    },
    {
      "cell_type": "markdown",
      "metadata": {
        "id": "uaKQjmz_JyPK"
      },
      "source": [
        "**Import Library**\n",
        "* Sebagaimana pada umumnya, sebelum dapat digunakan, sebuah library harus diimport terlebih dahulu"
      ]
    },
    {
      "cell_type": "code",
      "execution_count": 2,
      "metadata": {
        "id": "cxLbtmLSJyPL"
      },
      "outputs": [],
      "source": [
        "import pandas as pd"
      ]
    },
    {
      "cell_type": "markdown",
      "metadata": {
        "id": "8uqGrZgkJyPP"
      },
      "source": [
        "## CSV\n",
        "* CSV (Comma-Separated Value) adalah file data berupa teks yang (secara default) dipisahkan oleh koma\n",
        "\n",
        "<img src=\"https://static.goanywhere.com/images/tutorials/csv-to-database/input-file.png\" alt=\"Drawing\" width= 300px;/>\n",
        "\n",
        "<small>[Source](https://static.goanywhere.com/images/tutorials/csv-to-database/input-file.png)</small>\n",
        "\n",
        "* Tipe file ini adalah salah satu tipe file yang sering digunakan untuk menyimpan data karena simpel dan mudah dibaca.\n",
        "* Python menyediakan fungsi khusus untuk mengimport dan membaca file ini."
      ]
    },
    {
      "cell_type": "markdown",
      "metadata": {
        "id": "tTZm1mP0JyPP"
      },
      "source": [
        "### Import Sederhana\n",
        "* Untuk membaca file csv digunakan perintah `.read_csv(<file location>)`"
      ]
    },
    {
      "cell_type": "code",
      "execution_count": null,
      "metadata": {
        "colab": {
          "base_uri": "https://localhost:8080/"
        },
        "id": "4A3wvdzTJyPQ",
        "outputId": "6b49e68e-dee5-4f46-8220-94fdcd6a1f0c"
      },
      "outputs": [],
      "source": [
        "from google.colab import drive\n",
        "drive.mount('/content/drive')"
      ]
    },
    {
      "cell_type": "code",
      "execution_count": 11,
      "metadata": {
        "colab": {
          "base_uri": "https://localhost:8080/",
          "height": 143
        },
        "id": "FTrr8RMMjE0Y",
        "outputId": "dd6e18c4-e41a-4e6d-a312-500b9220dbbc"
      },
      "outputs": [
        {
          "data": {
            "text/html": [
              "<div>\n",
              "<style scoped>\n",
              "    .dataframe tbody tr th:only-of-type {\n",
              "        vertical-align: middle;\n",
              "    }\n",
              "\n",
              "    .dataframe tbody tr th {\n",
              "        vertical-align: top;\n",
              "    }\n",
              "\n",
              "    .dataframe thead th {\n",
              "        text-align: right;\n",
              "    }\n",
              "</style>\n",
              "<table border=\"1\" class=\"dataframe\">\n",
              "  <thead>\n",
              "    <tr style=\"text-align: right;\">\n",
              "      <th></th>\n",
              "      <th>NAMA</th>\n",
              "      <th>UMUR</th>\n",
              "      <th>KOTA</th>\n",
              "    </tr>\n",
              "  </thead>\n",
              "  <tbody>\n",
              "    <tr>\n",
              "      <th>0</th>\n",
              "      <td>Bagas</td>\n",
              "      <td>25</td>\n",
              "      <td>Bandung</td>\n",
              "    </tr>\n",
              "    <tr>\n",
              "      <th>1</th>\n",
              "      <td>Budi</td>\n",
              "      <td>24</td>\n",
              "      <td>Malang</td>\n",
              "    </tr>\n",
              "    <tr>\n",
              "      <th>2</th>\n",
              "      <td>Jatmiko</td>\n",
              "      <td>25</td>\n",
              "      <td>Solo</td>\n",
              "    </tr>\n",
              "  </tbody>\n",
              "</table>\n",
              "</div>"
            ],
            "text/plain": [
              "      NAMA  UMUR     KOTA\n",
              "0    Bagas    25  Bandung\n",
              "1     Budi    24   Malang\n",
              "2  Jatmiko    25    Solo "
            ]
          },
          "execution_count": 11,
          "metadata": {},
          "output_type": "execute_result"
        }
      ],
      "source": [
        "nama = pd.read_csv('foo1.csv')\n",
        "nama"
      ]
    },
    {
      "cell_type": "markdown",
      "metadata": {
        "id": "LSP158qdJyPT"
      },
      "source": [
        "### Import dengan arguments\n",
        "* Pada contoh sebelumnya, diberikan kasus jika file csv yang diimport formatnya sudah sesuai.\n",
        "* Namun kita juga dapat meng-kustomisasi perintah yang ingin dijalankan.\n",
        "* Cara kustomisasi perintah input ini dapat dilakukan dengan menggunakan arguments.\n",
        "* Berikut adalah list arguments lengkap dari `read_csv()`: [klik disini](https://pandas.pydata.org/pandas-docs/stable/reference/api/pandas.read_csv.html#pandas.read_csv)\n",
        "* Misal, dari file contoh diatas hanya ingin memasukkan kolom NAMA dan UMUR.\n",
        "* Maka digunakan argumen `usecols`"
      ]
    },
    {
      "cell_type": "code",
      "execution_count": 5,
      "metadata": {
        "colab": {
          "base_uri": "https://localhost:8080/",
          "height": 143
        },
        "id": "mtGBxzl4JyPU",
        "outputId": "b694557a-5283-40b9-9f86-fa9f405fdaae"
      },
      "outputs": [
        {
          "data": {
            "text/html": [
              "<div>\n",
              "<style scoped>\n",
              "    .dataframe tbody tr th:only-of-type {\n",
              "        vertical-align: middle;\n",
              "    }\n",
              "\n",
              "    .dataframe tbody tr th {\n",
              "        vertical-align: top;\n",
              "    }\n",
              "\n",
              "    .dataframe thead th {\n",
              "        text-align: right;\n",
              "    }\n",
              "</style>\n",
              "<table border=\"1\" class=\"dataframe\">\n",
              "  <thead>\n",
              "    <tr style=\"text-align: right;\">\n",
              "      <th></th>\n",
              "      <th>NAMA</th>\n",
              "      <th>KOTA</th>\n",
              "    </tr>\n",
              "  </thead>\n",
              "  <tbody>\n",
              "    <tr>\n",
              "      <th>0</th>\n",
              "      <td>Bagas</td>\n",
              "      <td>Bandung</td>\n",
              "    </tr>\n",
              "    <tr>\n",
              "      <th>1</th>\n",
              "      <td>Budi</td>\n",
              "      <td>Malang</td>\n",
              "    </tr>\n",
              "    <tr>\n",
              "      <th>2</th>\n",
              "      <td>Jatmiko</td>\n",
              "      <td>Solo</td>\n",
              "    </tr>\n",
              "  </tbody>\n",
              "</table>\n",
              "</div>"
            ],
            "text/plain": [
              "      NAMA     KOTA\n",
              "0    Bagas  Bandung\n",
              "1     Budi   Malang\n",
              "2  Jatmiko    Solo "
            ]
          },
          "execution_count": 5,
          "metadata": {},
          "output_type": "execute_result"
        }
      ],
      "source": [
        "nama = pd.read_csv('foo1.csv', usecols=['NAMA','KOTA'])\n",
        "nama"
      ]
    },
    {
      "cell_type": "markdown",
      "metadata": {
        "id": "kEE6M5JXJyPX"
      },
      "source": [
        "---\n",
        "**Exercise**\\\n",
        "Import data pada contoh diatas dengan kolom NAMA dan KOTA saja"
      ]
    },
    {
      "cell_type": "code",
      "execution_count": null,
      "metadata": {
        "id": "yUqBFZx8JyPY"
      },
      "outputs": [],
      "source": []
    },
    {
      "cell_type": "markdown",
      "metadata": {
        "id": "JrJ4JsvmJyPb"
      },
      "source": [
        "---\n",
        "**Contoh Lain**\n",
        "* Walaupun CSV adalah comma separated value, namun pada prakteknya dapat digunakan tanda lain untuk memisahkan data.\n",
        "* Contoh: `;:|/`\n",
        "* Sehingga hal ini terkadang dapat membuat hasil dari import data tidak baik."
      ]
    },
    {
      "cell_type": "code",
      "execution_count": 12,
      "metadata": {
        "colab": {
          "base_uri": "https://localhost:8080/",
          "height": 487
        },
        "id": "SGX8M_X3JyPb",
        "outputId": "d75466c3-07da-4f30-856c-1221389a746b"
      },
      "outputs": [
        {
          "data": {
            "text/html": [
              "<div>\n",
              "<style scoped>\n",
              "    .dataframe tbody tr th:only-of-type {\n",
              "        vertical-align: middle;\n",
              "    }\n",
              "\n",
              "    .dataframe tbody tr th {\n",
              "        vertical-align: top;\n",
              "    }\n",
              "\n",
              "    .dataframe thead th {\n",
              "        text-align: right;\n",
              "    }\n",
              "</style>\n",
              "<table border=\"1\" class=\"dataframe\">\n",
              "  <thead>\n",
              "    <tr style=\"text-align: right;\">\n",
              "      <th></th>\n",
              "      <th>satisfaction_level;last_evaluation;number_project;average_montly_hours;time_spend_company;Work_accident;left;promotion_last_5years;sales;salary</th>\n",
              "    </tr>\n",
              "  </thead>\n",
              "  <tbody>\n",
              "    <tr>\n",
              "      <th>0</th>\n",
              "      <td>;0.53;2;157;3;0;1;0;sales;</td>\n",
              "    </tr>\n",
              "    <tr>\n",
              "      <th>1</th>\n",
              "      <td>0.8;0.86;5;262;6;0;1;0;sales;medium</td>\n",
              "    </tr>\n",
              "    <tr>\n",
              "      <th>2</th>\n",
              "      <td>0.11;;7;272;4;0;1;0;;medium</td>\n",
              "    </tr>\n",
              "    <tr>\n",
              "      <th>3</th>\n",
              "      <td>0.72;0.87;5;223;5;0;1;0;sales;low</td>\n",
              "    </tr>\n",
              "    <tr>\n",
              "      <th>4</th>\n",
              "      <td>0.37;0.52;2;159;3;0;1;0;sales;low</td>\n",
              "    </tr>\n",
              "    <tr>\n",
              "      <th>...</th>\n",
              "      <td>...</td>\n",
              "    </tr>\n",
              "    <tr>\n",
              "      <th>14994</th>\n",
              "      <td>0.4;;2;151;3;0;1;0;support;low</td>\n",
              "    </tr>\n",
              "    <tr>\n",
              "      <th>14995</th>\n",
              "      <td>0.37;;2;160;3;0;1;0;support;low</td>\n",
              "    </tr>\n",
              "    <tr>\n",
              "      <th>14996</th>\n",
              "      <td>0.37;;2;143;3;0;1;0;support;low</td>\n",
              "    </tr>\n",
              "    <tr>\n",
              "      <th>14997</th>\n",
              "      <td>0.11;;6;280;4;0;1;0;support;low</td>\n",
              "    </tr>\n",
              "    <tr>\n",
              "      <th>14998</th>\n",
              "      <td>0.37;;2;158;3;0;1;0;support;low</td>\n",
              "    </tr>\n",
              "  </tbody>\n",
              "</table>\n",
              "<p>14999 rows × 1 columns</p>\n",
              "</div>"
            ],
            "text/plain": [
              "      satisfaction_level;last_evaluation;number_project;average_montly_hours;time_spend_company;Work_accident;left;promotion_last_5years;sales;salary\n",
              "0                             ;0.53;2;157;3;0;1;0;sales;                                                                                             \n",
              "1                    0.8;0.86;5;262;6;0;1;0;sales;medium                                                                                             \n",
              "2                            0.11;;7;272;4;0;1;0;;medium                                                                                             \n",
              "3                      0.72;0.87;5;223;5;0;1;0;sales;low                                                                                             \n",
              "4                      0.37;0.52;2;159;3;0;1;0;sales;low                                                                                             \n",
              "...                                                  ...                                                                                             \n",
              "14994                     0.4;;2;151;3;0;1;0;support;low                                                                                             \n",
              "14995                    0.37;;2;160;3;0;1;0;support;low                                                                                             \n",
              "14996                    0.37;;2;143;3;0;1;0;support;low                                                                                             \n",
              "14997                    0.11;;6;280;4;0;1;0;support;low                                                                                             \n",
              "14998                    0.37;;2;158;3;0;1;0;support;low                                                                                             \n",
              "\n",
              "[14999 rows x 1 columns]"
            ]
          },
          "execution_count": 12,
          "metadata": {},
          "output_type": "execute_result"
        }
      ],
      "source": [
        "hr_data = pd.read_csv('hr_data.csv')\n",
        "hr_data"
      ]
    },
    {
      "cell_type": "markdown",
      "metadata": {
        "id": "6zV9VZYYJyPf"
      },
      "source": [
        "* Pada data tersebut, kolom yang harusnya terpisah pisah menjadi hanya satu kolom.\n",
        "* Jika diperhatikan, pemisah yang digunakan adalah `;`\n",
        "* Untuk mengatasi hal ini digunakan argumen `sep` pada fungsi read csv."
      ]
    },
    {
      "cell_type": "code",
      "execution_count": 15,
      "metadata": {
        "colab": {
          "base_uri": "https://localhost:8080/",
          "height": 487
        },
        "id": "K-VvepLrJyPf",
        "outputId": "80c12ad1-422f-44e5-cfc8-14701df8d9f9"
      },
      "outputs": [
        {
          "data": {
            "text/html": [
              "<div>\n",
              "<style scoped>\n",
              "    .dataframe tbody tr th:only-of-type {\n",
              "        vertical-align: middle;\n",
              "    }\n",
              "\n",
              "    .dataframe tbody tr th {\n",
              "        vertical-align: top;\n",
              "    }\n",
              "\n",
              "    .dataframe thead th {\n",
              "        text-align: right;\n",
              "    }\n",
              "</style>\n",
              "<table border=\"1\" class=\"dataframe\">\n",
              "  <thead>\n",
              "    <tr style=\"text-align: right;\">\n",
              "      <th></th>\n",
              "      <th>satisfaction_level</th>\n",
              "      <th>last_evaluation</th>\n",
              "      <th>number_project</th>\n",
              "      <th>average_montly_hours</th>\n",
              "      <th>time_spend_company</th>\n",
              "      <th>Work_accident</th>\n",
              "      <th>left</th>\n",
              "      <th>promotion_last_5years</th>\n",
              "      <th>sales</th>\n",
              "      <th>salary</th>\n",
              "    </tr>\n",
              "  </thead>\n",
              "  <tbody>\n",
              "    <tr>\n",
              "      <th>0</th>\n",
              "      <td>NaN</td>\n",
              "      <td>0.53</td>\n",
              "      <td>2</td>\n",
              "      <td>157</td>\n",
              "      <td>3</td>\n",
              "      <td>0</td>\n",
              "      <td>1</td>\n",
              "      <td>0</td>\n",
              "      <td>sales</td>\n",
              "      <td>NaN</td>\n",
              "    </tr>\n",
              "    <tr>\n",
              "      <th>1</th>\n",
              "      <td>0.80</td>\n",
              "      <td>0.86</td>\n",
              "      <td>5</td>\n",
              "      <td>262</td>\n",
              "      <td>6</td>\n",
              "      <td>0</td>\n",
              "      <td>1</td>\n",
              "      <td>0</td>\n",
              "      <td>sales</td>\n",
              "      <td>medium</td>\n",
              "    </tr>\n",
              "    <tr>\n",
              "      <th>2</th>\n",
              "      <td>0.11</td>\n",
              "      <td>NaN</td>\n",
              "      <td>7</td>\n",
              "      <td>272</td>\n",
              "      <td>4</td>\n",
              "      <td>0</td>\n",
              "      <td>1</td>\n",
              "      <td>0</td>\n",
              "      <td>NaN</td>\n",
              "      <td>medium</td>\n",
              "    </tr>\n",
              "    <tr>\n",
              "      <th>3</th>\n",
              "      <td>0.72</td>\n",
              "      <td>0.87</td>\n",
              "      <td>5</td>\n",
              "      <td>223</td>\n",
              "      <td>5</td>\n",
              "      <td>0</td>\n",
              "      <td>1</td>\n",
              "      <td>0</td>\n",
              "      <td>sales</td>\n",
              "      <td>low</td>\n",
              "    </tr>\n",
              "    <tr>\n",
              "      <th>4</th>\n",
              "      <td>0.37</td>\n",
              "      <td>0.52</td>\n",
              "      <td>2</td>\n",
              "      <td>159</td>\n",
              "      <td>3</td>\n",
              "      <td>0</td>\n",
              "      <td>1</td>\n",
              "      <td>0</td>\n",
              "      <td>sales</td>\n",
              "      <td>low</td>\n",
              "    </tr>\n",
              "    <tr>\n",
              "      <th>...</th>\n",
              "      <td>...</td>\n",
              "      <td>...</td>\n",
              "      <td>...</td>\n",
              "      <td>...</td>\n",
              "      <td>...</td>\n",
              "      <td>...</td>\n",
              "      <td>...</td>\n",
              "      <td>...</td>\n",
              "      <td>...</td>\n",
              "      <td>...</td>\n",
              "    </tr>\n",
              "    <tr>\n",
              "      <th>14994</th>\n",
              "      <td>0.40</td>\n",
              "      <td>NaN</td>\n",
              "      <td>2</td>\n",
              "      <td>151</td>\n",
              "      <td>3</td>\n",
              "      <td>0</td>\n",
              "      <td>1</td>\n",
              "      <td>0</td>\n",
              "      <td>support</td>\n",
              "      <td>low</td>\n",
              "    </tr>\n",
              "    <tr>\n",
              "      <th>14995</th>\n",
              "      <td>0.37</td>\n",
              "      <td>NaN</td>\n",
              "      <td>2</td>\n",
              "      <td>160</td>\n",
              "      <td>3</td>\n",
              "      <td>0</td>\n",
              "      <td>1</td>\n",
              "      <td>0</td>\n",
              "      <td>support</td>\n",
              "      <td>low</td>\n",
              "    </tr>\n",
              "    <tr>\n",
              "      <th>14996</th>\n",
              "      <td>0.37</td>\n",
              "      <td>NaN</td>\n",
              "      <td>2</td>\n",
              "      <td>143</td>\n",
              "      <td>3</td>\n",
              "      <td>0</td>\n",
              "      <td>1</td>\n",
              "      <td>0</td>\n",
              "      <td>support</td>\n",
              "      <td>low</td>\n",
              "    </tr>\n",
              "    <tr>\n",
              "      <th>14997</th>\n",
              "      <td>0.11</td>\n",
              "      <td>NaN</td>\n",
              "      <td>6</td>\n",
              "      <td>280</td>\n",
              "      <td>4</td>\n",
              "      <td>0</td>\n",
              "      <td>1</td>\n",
              "      <td>0</td>\n",
              "      <td>support</td>\n",
              "      <td>low</td>\n",
              "    </tr>\n",
              "    <tr>\n",
              "      <th>14998</th>\n",
              "      <td>0.37</td>\n",
              "      <td>NaN</td>\n",
              "      <td>2</td>\n",
              "      <td>158</td>\n",
              "      <td>3</td>\n",
              "      <td>0</td>\n",
              "      <td>1</td>\n",
              "      <td>0</td>\n",
              "      <td>support</td>\n",
              "      <td>low</td>\n",
              "    </tr>\n",
              "  </tbody>\n",
              "</table>\n",
              "<p>14999 rows × 10 columns</p>\n",
              "</div>"
            ],
            "text/plain": [
              "       satisfaction_level  last_evaluation  number_project  \\\n",
              "0                     NaN             0.53               2   \n",
              "1                    0.80             0.86               5   \n",
              "2                    0.11              NaN               7   \n",
              "3                    0.72             0.87               5   \n",
              "4                    0.37             0.52               2   \n",
              "...                   ...              ...             ...   \n",
              "14994                0.40              NaN               2   \n",
              "14995                0.37              NaN               2   \n",
              "14996                0.37              NaN               2   \n",
              "14997                0.11              NaN               6   \n",
              "14998                0.37              NaN               2   \n",
              "\n",
              "       average_montly_hours  time_spend_company  Work_accident  left  \\\n",
              "0                       157                   3              0     1   \n",
              "1                       262                   6              0     1   \n",
              "2                       272                   4              0     1   \n",
              "3                       223                   5              0     1   \n",
              "4                       159                   3              0     1   \n",
              "...                     ...                 ...            ...   ...   \n",
              "14994                   151                   3              0     1   \n",
              "14995                   160                   3              0     1   \n",
              "14996                   143                   3              0     1   \n",
              "14997                   280                   4              0     1   \n",
              "14998                   158                   3              0     1   \n",
              "\n",
              "       promotion_last_5years    sales  salary  \n",
              "0                          0    sales     NaN  \n",
              "1                          0    sales  medium  \n",
              "2                          0      NaN  medium  \n",
              "3                          0    sales     low  \n",
              "4                          0    sales     low  \n",
              "...                      ...      ...     ...  \n",
              "14994                      0  support     low  \n",
              "14995                      0  support     low  \n",
              "14996                      0  support     low  \n",
              "14997                      0  support     low  \n",
              "14998                      0  support     low  \n",
              "\n",
              "[14999 rows x 10 columns]"
            ]
          },
          "execution_count": 15,
          "metadata": {},
          "output_type": "execute_result"
        }
      ],
      "source": [
        "hr_data = pd.read_csv('hr_data.csv', sep=';')\n",
        "hr_data"
      ]
    },
    {
      "cell_type": "markdown",
      "metadata": {
        "id": "1lIB6d49JyPj"
      },
      "source": [
        "* Dapat dilihat bahwa `DataFrame` terlihat lebih teratur dan rapih"
      ]
    },
    {
      "cell_type": "markdown",
      "metadata": {
        "id": "UawJW3T-JyPj"
      },
      "source": [
        "### Data Tanggal\n",
        "* Dalam python standar tidak diberikan format data khusus untuk menangani format tanggal.\n",
        "* Hal yang bisa dilakukan dalam Python standar adalah dengan menggunakan `string` biasa atau dengan library `datetime`.\n",
        "* Namun, dalam Pandas kita dapat langsung mengolah data yang berupa tanggal.\n",
        "* Dalam `read_csv()` kita tinggal menambahkan argument `parse_dates` yang diikuti oleh list dari kolom yang ingin dijadikan objek `datetime`"
      ]
    },
    {
      "cell_type": "code",
      "execution_count": 16,
      "metadata": {
        "colab": {
          "base_uri": "https://localhost:8080/",
          "height": 143
        },
        "id": "ndDZyjHQJyPk",
        "outputId": "9e3e8d3a-d426-4cdf-d370-3475d6ccdf26"
      },
      "outputs": [
        {
          "data": {
            "text/html": [
              "<div>\n",
              "<style scoped>\n",
              "    .dataframe tbody tr th:only-of-type {\n",
              "        vertical-align: middle;\n",
              "    }\n",
              "\n",
              "    .dataframe tbody tr th {\n",
              "        vertical-align: top;\n",
              "    }\n",
              "\n",
              "    .dataframe thead th {\n",
              "        text-align: right;\n",
              "    }\n",
              "</style>\n",
              "<table border=\"1\" class=\"dataframe\">\n",
              "  <thead>\n",
              "    <tr style=\"text-align: right;\">\n",
              "      <th></th>\n",
              "      <th>NAMA</th>\n",
              "      <th>UMUR</th>\n",
              "      <th>KOTA</th>\n",
              "      <th>LAHIR</th>\n",
              "    </tr>\n",
              "  </thead>\n",
              "  <tbody>\n",
              "    <tr>\n",
              "      <th>0</th>\n",
              "      <td>Bagas</td>\n",
              "      <td>25</td>\n",
              "      <td>Bandung</td>\n",
              "      <td>1995-08-10</td>\n",
              "    </tr>\n",
              "    <tr>\n",
              "      <th>1</th>\n",
              "      <td>Budi</td>\n",
              "      <td>24</td>\n",
              "      <td>Malang</td>\n",
              "      <td>1996-12-09</td>\n",
              "    </tr>\n",
              "    <tr>\n",
              "      <th>2</th>\n",
              "      <td>Jatmiko</td>\n",
              "      <td>25</td>\n",
              "      <td>Solo</td>\n",
              "      <td>1995-10-11</td>\n",
              "    </tr>\n",
              "  </tbody>\n",
              "</table>\n",
              "</div>"
            ],
            "text/plain": [
              "      NAMA  UMUR     KOTA      LAHIR\n",
              "0    Bagas    25  Bandung 1995-08-10\n",
              "1     Budi    24   Malang 1996-12-09\n",
              "2  Jatmiko    25    Solo  1995-10-11"
            ]
          },
          "execution_count": 16,
          "metadata": {},
          "output_type": "execute_result"
        }
      ],
      "source": [
        "nama = pd.read_csv('foo2.csv', parse_dates=[3])\n",
        "nama"
      ]
    },
    {
      "cell_type": "markdown",
      "metadata": {
        "id": "4EeNFMPoJyPp"
      },
      "source": [
        "* Kita cek tipe dari kolom `LAHIR`"
      ]
    },
    {
      "cell_type": "code",
      "execution_count": 19,
      "metadata": {
        "colab": {
          "base_uri": "https://localhost:8080/"
        },
        "id": "a4nJHHSNJyPq",
        "outputId": "bda980dd-c9c3-4983-e4a0-408c84b6a438"
      },
      "outputs": [
        {
          "data": {
            "text/plain": [
              "0   1995-08-10\n",
              "1   1996-12-09\n",
              "2   1995-10-11\n",
              "Name: LAHIR, dtype: datetime64[ns]"
            ]
          },
          "execution_count": 19,
          "metadata": {},
          "output_type": "execute_result"
        }
      ],
      "source": [
        "nama.LAHIR"
      ]
    },
    {
      "cell_type": "markdown",
      "metadata": {
        "id": "fZIJQmgdJyPt"
      },
      "source": [
        "####  Format Tanggal\n",
        "* Secara default, dari format tanggal yang kita berikan, pandas akan merubahnya menjadi YYYY/MM/DD.\n",
        "* Jika kita bekerja dengan tanggal, maka kita harus tahu format tanggal yang dimaksud.\n",
        "* Misal, format banyak negara adalah DD/MM/YYYY.\n",
        "* Namun, di negara tertentu format tanggal adalah MM/DD/YYYY\n",
        "* Sehingga agar jelas, biasanya format DD/MM/YYYY digunakan parameter tambahan berupa `dayfirst = True`"
      ]
    },
    {
      "cell_type": "markdown",
      "metadata": {
        "id": "vksWTRIeJyPt"
      },
      "source": [
        "---\n",
        "* Misal diberikan data 12-09-1996\n",
        "* Maka nilai seharusnya adalah 1996-09-12\n",
        "* Namun pada dataframe `nama` diatas diberikan hasil 1996-12-09\n",
        "* Coba kita beri argumen `dayfirst=True`"
      ]
    },
    {
      "cell_type": "code",
      "execution_count": 26,
      "metadata": {
        "colab": {
          "base_uri": "https://localhost:8080/",
          "height": 143
        },
        "id": "ag_8xo0-JyPu",
        "outputId": "b956e6cd-9ebc-4806-f1ba-5901e593a7f2"
      },
      "outputs": [
        {
          "data": {
            "text/html": [
              "<div>\n",
              "<style scoped>\n",
              "    .dataframe tbody tr th:only-of-type {\n",
              "        vertical-align: middle;\n",
              "    }\n",
              "\n",
              "    .dataframe tbody tr th {\n",
              "        vertical-align: top;\n",
              "    }\n",
              "\n",
              "    .dataframe thead th {\n",
              "        text-align: right;\n",
              "    }\n",
              "</style>\n",
              "<table border=\"1\" class=\"dataframe\">\n",
              "  <thead>\n",
              "    <tr style=\"text-align: right;\">\n",
              "      <th></th>\n",
              "      <th>NAMA</th>\n",
              "      <th>UMUR</th>\n",
              "      <th>KOTA</th>\n",
              "      <th>LAHIR</th>\n",
              "    </tr>\n",
              "  </thead>\n",
              "  <tbody>\n",
              "    <tr>\n",
              "      <th>0</th>\n",
              "      <td>Bagas</td>\n",
              "      <td>25</td>\n",
              "      <td>Bandung</td>\n",
              "      <td>1995-10-08</td>\n",
              "    </tr>\n",
              "    <tr>\n",
              "      <th>1</th>\n",
              "      <td>Budi</td>\n",
              "      <td>24</td>\n",
              "      <td>Malang</td>\n",
              "      <td>1996-09-12</td>\n",
              "    </tr>\n",
              "    <tr>\n",
              "      <th>2</th>\n",
              "      <td>Jatmiko</td>\n",
              "      <td>25</td>\n",
              "      <td>Solo</td>\n",
              "      <td>1995-11-10</td>\n",
              "    </tr>\n",
              "  </tbody>\n",
              "</table>\n",
              "</div>"
            ],
            "text/plain": [
              "      NAMA  UMUR     KOTA      LAHIR\n",
              "0    Bagas    25  Bandung 1995-10-08\n",
              "1     Budi    24   Malang 1996-09-12\n",
              "2  Jatmiko    25    Solo  1995-11-10"
            ]
          },
          "execution_count": 26,
          "metadata": {},
          "output_type": "execute_result"
        }
      ],
      "source": [
        "nama = pd.read_csv('foo2.csv', parse_dates=[3], dayfirst=True)\n",
        "nama"
      ]
    },
    {
      "cell_type": "markdown",
      "metadata": {
        "id": "-wyMsLBvJyPw"
      },
      "source": [
        "## Excel\n",
        "* Selain format `.csv`, kita juga seringkali menemukan data dengan format berupa `.xls` atau `.xlsx`\n",
        "* Untuk data seperti ini, sebenarnya dengan menggunakan MS Excel kita dapat merubahnya menjadi `csv` terlebih dahulu.\n",
        "* Namun, untuk mempersingkat waktu, kita dapat menggunakan fungsi bawaan dari pandas, yaitu `read_excel`"
      ]
    },
    {
      "cell_type": "code",
      "execution_count": 10,
      "metadata": {
        "colab": {
          "base_uri": "https://localhost:8080/",
          "height": 270
        },
        "id": "OwVyylLVJyPx",
        "outputId": "c48f33ca-6311-4064-8014-b87372de9f83"
      },
      "outputs": [
        {
          "data": {
            "text/html": [
              "<div>\n",
              "<style scoped>\n",
              "    .dataframe tbody tr th:only-of-type {\n",
              "        vertical-align: middle;\n",
              "    }\n",
              "\n",
              "    .dataframe tbody tr th {\n",
              "        vertical-align: top;\n",
              "    }\n",
              "\n",
              "    .dataframe thead th {\n",
              "        text-align: right;\n",
              "    }\n",
              "</style>\n",
              "<table border=\"1\" class=\"dataframe\">\n",
              "  <thead>\n",
              "    <tr style=\"text-align: right;\">\n",
              "      <th></th>\n",
              "      <th>satisfaction_level</th>\n",
              "      <th>last_evaluation</th>\n",
              "      <th>number_project</th>\n",
              "      <th>average_montly_hours</th>\n",
              "      <th>time_spend_company</th>\n",
              "      <th>Work_accident</th>\n",
              "      <th>left</th>\n",
              "      <th>promotion_last_5years</th>\n",
              "      <th>sales</th>\n",
              "      <th>salary</th>\n",
              "    </tr>\n",
              "  </thead>\n",
              "  <tbody>\n",
              "    <tr>\n",
              "      <th>0</th>\n",
              "      <td>NaN</td>\n",
              "      <td>0.53</td>\n",
              "      <td>2</td>\n",
              "      <td>157</td>\n",
              "      <td>3</td>\n",
              "      <td>0</td>\n",
              "      <td>1</td>\n",
              "      <td>0</td>\n",
              "      <td>sales</td>\n",
              "      <td>NaN</td>\n",
              "    </tr>\n",
              "    <tr>\n",
              "      <th>1</th>\n",
              "      <td>0.80</td>\n",
              "      <td>0.86</td>\n",
              "      <td>5</td>\n",
              "      <td>262</td>\n",
              "      <td>6</td>\n",
              "      <td>0</td>\n",
              "      <td>1</td>\n",
              "      <td>0</td>\n",
              "      <td>sales</td>\n",
              "      <td>medium</td>\n",
              "    </tr>\n",
              "    <tr>\n",
              "      <th>2</th>\n",
              "      <td>0.11</td>\n",
              "      <td>NaN</td>\n",
              "      <td>7</td>\n",
              "      <td>272</td>\n",
              "      <td>4</td>\n",
              "      <td>0</td>\n",
              "      <td>1</td>\n",
              "      <td>0</td>\n",
              "      <td>NaN</td>\n",
              "      <td>medium</td>\n",
              "    </tr>\n",
              "    <tr>\n",
              "      <th>3</th>\n",
              "      <td>0.72</td>\n",
              "      <td>0.87</td>\n",
              "      <td>5</td>\n",
              "      <td>223</td>\n",
              "      <td>5</td>\n",
              "      <td>0</td>\n",
              "      <td>1</td>\n",
              "      <td>0</td>\n",
              "      <td>sales</td>\n",
              "      <td>low</td>\n",
              "    </tr>\n",
              "    <tr>\n",
              "      <th>4</th>\n",
              "      <td>0.37</td>\n",
              "      <td>0.52</td>\n",
              "      <td>2</td>\n",
              "      <td>159</td>\n",
              "      <td>3</td>\n",
              "      <td>0</td>\n",
              "      <td>1</td>\n",
              "      <td>0</td>\n",
              "      <td>sales</td>\n",
              "      <td>low</td>\n",
              "    </tr>\n",
              "  </tbody>\n",
              "</table>\n",
              "</div>"
            ],
            "text/plain": [
              "   satisfaction_level  last_evaluation  number_project  average_montly_hours  \\\n",
              "0                 NaN             0.53               2                   157   \n",
              "1                0.80             0.86               5                   262   \n",
              "2                0.11              NaN               7                   272   \n",
              "3                0.72             0.87               5                   223   \n",
              "4                0.37             0.52               2                   159   \n",
              "\n",
              "   time_spend_company  Work_accident  left  promotion_last_5years  sales  \\\n",
              "0                   3              0     1                      0  sales   \n",
              "1                   6              0     1                      0  sales   \n",
              "2                   4              0     1                      0    NaN   \n",
              "3                   5              0     1                      0  sales   \n",
              "4                   3              0     1                      0  sales   \n",
              "\n",
              "   salary  \n",
              "0     NaN  \n",
              "1  medium  \n",
              "2  medium  \n",
              "3     low  \n",
              "4     low  "
            ]
          },
          "execution_count": 10,
          "metadata": {},
          "output_type": "execute_result"
        }
      ],
      "source": [
        "hr_excel = pd.read_excel('hr_data.xlsx')\n",
        "hr_excel.head()"
      ]
    },
    {
      "cell_type": "markdown",
      "metadata": {
        "id": "b8wsBiXbJyP0"
      },
      "source": [
        "* Dengan menggunakan fungsi `read_excel()` kita sudah bisa meng-import data excel kedalam pandas.\n",
        "* Untuk penanganan kasus-kasus khusus, arguments yang digunakan tidak berbeda jauh dengan `read_csv()`\n",
        "* Untuk lebih detail dapat dilihat [disini](https://pandas.pydata.org/pandas-docs/stable/reference/api/pandas.read_excel.html#pandas.read_excel)"
      ]
    }
  ],
  "metadata": {
    "colab": {
      "collapsed_sections": [],
      "name": "4-2 Berinteraksi dengan File Data.ipynb",
      "provenance": []
    },
    "kernelspec": {
      "display_name": "Python 3",
      "language": "python",
      "name": "python3"
    },
    "language_info": {
      "codemirror_mode": {
        "name": "ipython",
        "version": 3
      },
      "file_extension": ".py",
      "mimetype": "text/x-python",
      "name": "python",
      "nbconvert_exporter": "python",
      "pygments_lexer": "ipython3",
      "version": "3.10.5"
    },
    "vscode": {
      "interpreter": {
        "hash": "aee8b7b246df8f9039afb4144a1f6fd8d2ca17a180786b69acc140d282b71a49"
      }
    }
  },
  "nbformat": 4,
  "nbformat_minor": 0
}
