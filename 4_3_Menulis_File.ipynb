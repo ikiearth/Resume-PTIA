{
  "cells": [
    {
      "cell_type": "markdown",
      "metadata": {
        "id": "u_seRifZwrPw"
      },
      "source": [
        "# Menulis file"
      ]
    },
    {
      "cell_type": "markdown",
      "metadata": {
        "id": "_lSYG8F0wrP1"
      },
      "source": [
        "## CSV\n",
        "* Selain membaca file, pandas juga dapat menulis file.\n",
        "* Hal ini akan sangat berguna ketika kita ingin menyimpan data yang telah diolah/dibersihkan.\n",
        "* Untuk membuat file `csv` dari Series atau dataframe, kita dapat menggunakan method `to_csv`\n",
        "* Sintaks dasar dari method tersebut adalah: `<Series/DataFrame object>.to_csv(<path>, <arguments>)`\n",
        "* Sebelum itu, kita persiapkan data dummy terlebih dahulu\n",
        "* Kita asumsikan data ini adalah data hasil pengolahan di dalam pandas."
      ]
    },
    {
      "cell_type": "code",
      "execution_count": 2,
      "metadata": {
        "id": "NCpdgeZpwrP2"
      },
      "outputs": [],
      "source": [
        "import pandas as pd"
      ]
    },
    {
      "cell_type": "code",
      "execution_count": 3,
      "metadata": {
        "colab": {
          "base_uri": "https://localhost:8080/",
          "height": 206
        },
        "id": "6EGJ__oBwrP_",
        "outputId": "27169711-6d67-428e-cfc2-299d33e75c32"
      },
      "outputs": [
        {
          "data": {
            "text/html": [
              "<div>\n",
              "<style scoped>\n",
              "    .dataframe tbody tr th:only-of-type {\n",
              "        vertical-align: middle;\n",
              "    }\n",
              "\n",
              "    .dataframe tbody tr th {\n",
              "        vertical-align: top;\n",
              "    }\n",
              "\n",
              "    .dataframe thead th {\n",
              "        text-align: right;\n",
              "    }\n",
              "</style>\n",
              "<table border=\"1\" class=\"dataframe\">\n",
              "  <thead>\n",
              "    <tr style=\"text-align: right;\">\n",
              "      <th></th>\n",
              "      <th>Usia</th>\n",
              "      <th>Pekerjaan</th>\n",
              "      <th>Asal</th>\n",
              "      <th>Member</th>\n",
              "      <th>Status</th>\n",
              "    </tr>\n",
              "  </thead>\n",
              "  <tbody>\n",
              "    <tr>\n",
              "      <th>Agus</th>\n",
              "      <td>27</td>\n",
              "      <td>Aktor</td>\n",
              "      <td>Blok C</td>\n",
              "      <td>Gold</td>\n",
              "      <td>Diterima</td>\n",
              "    </tr>\n",
              "    <tr>\n",
              "      <th>Budi</th>\n",
              "      <td>28</td>\n",
              "      <td>Aktor</td>\n",
              "      <td>Blok D</td>\n",
              "      <td>Gold</td>\n",
              "      <td>Diterima</td>\n",
              "    </tr>\n",
              "    <tr>\n",
              "      <th>Chandra</th>\n",
              "      <td>29</td>\n",
              "      <td>Penyanyi</td>\n",
              "      <td>Blok A</td>\n",
              "      <td>Gold</td>\n",
              "      <td>Diterima</td>\n",
              "    </tr>\n",
              "    <tr>\n",
              "      <th>Deni</th>\n",
              "      <td>29</td>\n",
              "      <td>Penari</td>\n",
              "      <td>Blok D</td>\n",
              "      <td>Platinum</td>\n",
              "      <td>Diterima</td>\n",
              "    </tr>\n",
              "    <tr>\n",
              "      <th>Eko</th>\n",
              "      <td>22</td>\n",
              "      <td>Aktor</td>\n",
              "      <td>Blok A</td>\n",
              "      <td>Gold</td>\n",
              "      <td>Diterima</td>\n",
              "    </tr>\n",
              "  </tbody>\n",
              "</table>\n",
              "</div>"
            ],
            "text/plain": [
              "         Usia Pekerjaan    Asal    Member    Status\n",
              "Agus       27     Aktor  Blok C      Gold  Diterima\n",
              "Budi       28     Aktor  Blok D      Gold  Diterima\n",
              "Chandra    29  Penyanyi  Blok A      Gold  Diterima\n",
              "Deni       29    Penari  Blok D  Platinum  Diterima\n",
              "Eko        22     Aktor  Blok A      Gold  Diterima"
            ]
          },
          "execution_count": 3,
          "metadata": {},
          "output_type": "execute_result"
        }
      ],
      "source": [
        "table = pd.DataFrame({'Usia':[27,28,29,29,22,25,25,27,26,30],\n",
        "                     'Pekerjaan':['Aktor','Aktor','Penyanyi','Penari','Aktor','Aktris','Penyanyi','Penyanyi','Aktris','Aktor'],\n",
        "                     'Asal':['Blok C','Blok D','Blok A','Blok D','Blok A','Blok B','Blok C','Blok C','Blok A','Blok C'],\n",
        "                     'Member':['Gold','Gold','Gold','Platinum','Gold','Silver','Gold','Gold','Silver','Gold'],\n",
        "                     'Status':['Diterima','Diterima','Diterima','Diterima','Diterima','Ditolak','Diterima','Diterima','Diterima','Ditolak']},\n",
        "                    index=['Agus','Budi','Chandra','Deni','Eko','Fitria','Gusti','Hendra','Intan','Jayadi'])\n",
        "table.head()"
      ]
    },
    {
      "cell_type": "code",
      "execution_count": 6,
      "metadata": {},
      "outputs": [
        {
          "data": {
            "text/plain": [
              "pandas.core.frame.DataFrame"
            ]
          },
          "execution_count": 6,
          "metadata": {},
          "output_type": "execute_result"
        }
      ],
      "source": [
        "type(table)"
      ]
    },
    {
      "cell_type": "markdown",
      "metadata": {
        "id": "k5kvLr5EwrQI"
      },
      "source": [
        "* Jika kita ingin menyimpan data tersebut dalam csv maka kita bisa lakukan dengan:"
      ]
    },
    {
      "cell_type": "code",
      "execution_count": 4,
      "metadata": {
        "id": "qlXAVAz9wrQJ"
      },
      "outputs": [],
      "source": [
        "table.to_csv('filetest.csv')"
      ]
    },
    {
      "cell_type": "markdown",
      "metadata": {
        "id": "-nnF3_GlwrQO"
      },
      "source": [
        "* Sebagai bukti file tersebut telah ada kita coba untuk import kembali file tersebut"
      ]
    },
    {
      "cell_type": "code",
      "execution_count": 5,
      "metadata": {
        "colab": {
          "base_uri": "https://localhost:8080/",
          "height": 363
        },
        "id": "vYKTJ7rIwrQQ",
        "outputId": "a229b370-57a8-4b4c-d0a2-e49d248068f3"
      },
      "outputs": [
        {
          "data": {
            "text/html": [
              "<div>\n",
              "<style scoped>\n",
              "    .dataframe tbody tr th:only-of-type {\n",
              "        vertical-align: middle;\n",
              "    }\n",
              "\n",
              "    .dataframe tbody tr th {\n",
              "        vertical-align: top;\n",
              "    }\n",
              "\n",
              "    .dataframe thead th {\n",
              "        text-align: right;\n",
              "    }\n",
              "</style>\n",
              "<table border=\"1\" class=\"dataframe\">\n",
              "  <thead>\n",
              "    <tr style=\"text-align: right;\">\n",
              "      <th></th>\n",
              "      <th>Unnamed: 0</th>\n",
              "      <th>Usia</th>\n",
              "      <th>Pekerjaan</th>\n",
              "      <th>Asal</th>\n",
              "      <th>Member</th>\n",
              "      <th>Status</th>\n",
              "    </tr>\n",
              "  </thead>\n",
              "  <tbody>\n",
              "    <tr>\n",
              "      <th>0</th>\n",
              "      <td>Agus</td>\n",
              "      <td>27</td>\n",
              "      <td>Aktor</td>\n",
              "      <td>Blok C</td>\n",
              "      <td>Gold</td>\n",
              "      <td>Diterima</td>\n",
              "    </tr>\n",
              "    <tr>\n",
              "      <th>1</th>\n",
              "      <td>Budi</td>\n",
              "      <td>28</td>\n",
              "      <td>Aktor</td>\n",
              "      <td>Blok D</td>\n",
              "      <td>Gold</td>\n",
              "      <td>Diterima</td>\n",
              "    </tr>\n",
              "    <tr>\n",
              "      <th>2</th>\n",
              "      <td>Chandra</td>\n",
              "      <td>29</td>\n",
              "      <td>Penyanyi</td>\n",
              "      <td>Blok A</td>\n",
              "      <td>Gold</td>\n",
              "      <td>Diterima</td>\n",
              "    </tr>\n",
              "    <tr>\n",
              "      <th>3</th>\n",
              "      <td>Deni</td>\n",
              "      <td>29</td>\n",
              "      <td>Penari</td>\n",
              "      <td>Blok D</td>\n",
              "      <td>Platinum</td>\n",
              "      <td>Diterima</td>\n",
              "    </tr>\n",
              "    <tr>\n",
              "      <th>4</th>\n",
              "      <td>Eko</td>\n",
              "      <td>22</td>\n",
              "      <td>Aktor</td>\n",
              "      <td>Blok A</td>\n",
              "      <td>Gold</td>\n",
              "      <td>Diterima</td>\n",
              "    </tr>\n",
              "    <tr>\n",
              "      <th>5</th>\n",
              "      <td>Fitria</td>\n",
              "      <td>25</td>\n",
              "      <td>Aktris</td>\n",
              "      <td>Blok B</td>\n",
              "      <td>Silver</td>\n",
              "      <td>Ditolak</td>\n",
              "    </tr>\n",
              "    <tr>\n",
              "      <th>6</th>\n",
              "      <td>Gusti</td>\n",
              "      <td>25</td>\n",
              "      <td>Penyanyi</td>\n",
              "      <td>Blok C</td>\n",
              "      <td>Gold</td>\n",
              "      <td>Diterima</td>\n",
              "    </tr>\n",
              "    <tr>\n",
              "      <th>7</th>\n",
              "      <td>Hendra</td>\n",
              "      <td>27</td>\n",
              "      <td>Penyanyi</td>\n",
              "      <td>Blok C</td>\n",
              "      <td>Gold</td>\n",
              "      <td>Diterima</td>\n",
              "    </tr>\n",
              "    <tr>\n",
              "      <th>8</th>\n",
              "      <td>Intan</td>\n",
              "      <td>26</td>\n",
              "      <td>Aktris</td>\n",
              "      <td>Blok A</td>\n",
              "      <td>Silver</td>\n",
              "      <td>Diterima</td>\n",
              "    </tr>\n",
              "    <tr>\n",
              "      <th>9</th>\n",
              "      <td>Jayadi</td>\n",
              "      <td>30</td>\n",
              "      <td>Aktor</td>\n",
              "      <td>Blok C</td>\n",
              "      <td>Gold</td>\n",
              "      <td>Ditolak</td>\n",
              "    </tr>\n",
              "  </tbody>\n",
              "</table>\n",
              "</div>"
            ],
            "text/plain": [
              "  Unnamed: 0  Usia Pekerjaan    Asal    Member    Status\n",
              "0       Agus    27     Aktor  Blok C      Gold  Diterima\n",
              "1       Budi    28     Aktor  Blok D      Gold  Diterima\n",
              "2    Chandra    29  Penyanyi  Blok A      Gold  Diterima\n",
              "3       Deni    29    Penari  Blok D  Platinum  Diterima\n",
              "4        Eko    22     Aktor  Blok A      Gold  Diterima\n",
              "5     Fitria    25    Aktris  Blok B    Silver   Ditolak\n",
              "6      Gusti    25  Penyanyi  Blok C      Gold  Diterima\n",
              "7     Hendra    27  Penyanyi  Blok C      Gold  Diterima\n",
              "8      Intan    26    Aktris  Blok A    Silver  Diterima\n",
              "9     Jayadi    30     Aktor  Blok C      Gold   Ditolak"
            ]
          },
          "execution_count": 5,
          "metadata": {},
          "output_type": "execute_result"
        }
      ],
      "source": [
        "test = pd.read_csv('filetest.csv')\n",
        "test"
      ]
    },
    {
      "cell_type": "markdown",
      "metadata": {
        "id": "xDcVx0LrwrQh"
      },
      "source": [
        "### Customizing file writing"
      ]
    },
    {
      "cell_type": "markdown",
      "metadata": {
        "id": "hpV25NrqwrQm"
      },
      "source": [
        "* Kita juga bisa mendefinisikan separator pada file yang akan ditulis"
      ]
    },
    {
      "cell_type": "code",
      "execution_count": null,
      "metadata": {
        "id": "9vCt1oXrwrQo"
      },
      "outputs": [],
      "source": [
        "table.to_csv('filetest.csv', sep=';')"
      ]
    },
    {
      "cell_type": "markdown",
      "metadata": {
        "id": "lwswVySJwrQx"
      },
      "source": [
        "* Sehingga file yang ditulis akan terlihat seperti:\n",
        "\n",
        "<img src=\"https://drive.google.com/uc?export=view&id=13Tty3_taYIPSf4cDMAOYwzCpjUhJV3H9\" alt=\"Drawing\" width= 500px;/>\n",
        "\n",
        "<small>[Source](https://drive.google.com/file/d/13Tty3_taYIPSf4cDMAOYwzCpjUhJV3H9/view?usp=sharing)</small>"
      ]
    },
    {
      "cell_type": "markdown",
      "metadata": {
        "id": "KJ0OJOaIwrQ5"
      },
      "source": [
        "* Namun, ketika import data kita juga harus mendefinisikan separator yang sama"
      ]
    },
    {
      "cell_type": "code",
      "execution_count": null,
      "metadata": {
        "colab": {
          "base_uri": "https://localhost:8080/",
          "height": 363
        },
        "id": "aLz2UC5XwrQ7",
        "outputId": "b46be466-334f-4af6-ebd7-65223bd09201"
      },
      "outputs": [],
      "source": [
        "test = pd.read_csv('filetest.csv', sep=';')\n",
        "test"
      ]
    },
    {
      "cell_type": "markdown",
      "metadata": {
        "id": "92oj6zFswrRD"
      },
      "source": [
        "* Contoh lainnya, misal kita tidak ingin menuliskan header kedalam file.\n",
        "* Maka kita bisa set `header = False`"
      ]
    },
    {
      "cell_type": "code",
      "execution_count": null,
      "metadata": {
        "id": "JvT3VwNvwrRF"
      },
      "outputs": [],
      "source": [
        "table.to_csv('filetest.csv', header=False)"
      ]
    },
    {
      "cell_type": "markdown",
      "metadata": {
        "id": "UN0G6I6hwrRK"
      },
      "source": [
        "* Sehingga file yang ditulis akan terlihat seperti:\n",
        "\n",
        "<img src=\"https://drive.google.com/uc?export=view&id=1FtfmV3ev5GWLNMni_woO2LFjz1RMexyT\" alt=\"Drawing\" width= 500px;/>\n",
        "\n",
        "<small>[Source](https://drive.google.com/file/d/1FtfmV3ev5GWLNMni_woO2LFjz1RMexyT/view?usp=sharing)</small>"
      ]
    },
    {
      "cell_type": "markdown",
      "metadata": {
        "id": "09RbgqCCwrRL"
      },
      "source": [
        "* Untuk detail dari argumen yang bisa dimasukkan silakan klik [disini](https://pandas.pydata.org/pandas-docs/stable/user_guide/io.html#writing-out-data)"
      ]
    },
    {
      "cell_type": "markdown",
      "metadata": {
        "id": "9hV-YU0VwrRM"
      },
      "source": [
        "## Excel "
      ]
    },
    {
      "cell_type": "markdown",
      "metadata": {
        "id": "juSng4RnwrRO"
      },
      "source": [
        "* Sama seperti `CSV`, kita juga dapat menulis data dari Pandas ke format MS Excel\n",
        "* Argumen function yang dibutuhkan sebagian besar mirip dengan `to_csv`.\n",
        "* Hanya saja untuk menulis dengan `to_excel` kita dapat menspesifikasi sheet dalam MS Excel."
      ]
    },
    {
      "cell_type": "code",
      "execution_count": null,
      "metadata": {
        "colab": {
          "base_uri": "https://localhost:8080/",
          "height": 206
        },
        "id": "UW94OOX3wrRP",
        "outputId": "a1589c6e-4e0f-4164-afe4-5c14cdf71716"
      },
      "outputs": [],
      "source": [
        "table = pd.DataFrame({'Usia':[27,28,29,29,22,25,25,27,26,30],\n",
        "                     'Pekerjaan':['Aktor','Aktor','Penyanyi','Penari','Aktor','Aktris','Penyanyi','Penyanyi','Aktris','Aktor'],\n",
        "                     'Asal':['Blok C','Blok D','Blok A','Blok D','Blok A','Blok B','Blok C','Blok C','Blok A','Blok C'],\n",
        "                     'Member':['Gold','Gold','Gold','Platinum','Gold','Silver','Gold','Gold','Silver','Gold'],\n",
        "                     'Status':['Diterima','Diterima','Diterima','Diterima','Diterima','Ditolak','Diterima','Diterima','Diterima','Ditolak']},\n",
        "                    index=['Agus','Budi','Chandra','Deni','Eko','Fitria','Gusti','Hendra','Intan','Jayadi'])\n",
        "table.head()"
      ]
    },
    {
      "cell_type": "markdown",
      "metadata": {
        "id": "if9RjflfwrRe"
      },
      "source": [
        "Export excel standard"
      ]
    },
    {
      "cell_type": "code",
      "execution_count": null,
      "metadata": {
        "id": "vevwo9mwwrRe"
      },
      "outputs": [],
      "source": [
        "table.to_excel('filetest.xlsx')"
      ]
    },
    {
      "cell_type": "markdown",
      "metadata": {
        "id": "CCQzj3pUwrRn"
      },
      "source": [
        "<img src=\"https://drive.google.com/uc?export=view&id=15qsqUbwPl4zoK5G4297GasVlTbSwq8Nf\" alt=\"Drawing\" width= 500px;/>\n",
        "\n",
        "<small>[Source](https://drive.google.com/file/d/15qsqUbwPl4zoK5G4297GasVlTbSwq8Nf/view?usp=sharing)</small>"
      ]
    },
    {
      "cell_type": "markdown",
      "metadata": {
        "id": "5X0S4D5zwrRp"
      },
      "source": [
        "* Atau kita dapat menspesifikasi nama sheet"
      ]
    },
    {
      "cell_type": "code",
      "execution_count": null,
      "metadata": {
        "id": "Oo3Zy1tnwrRq"
      },
      "outputs": [],
      "source": [
        "table.to_excel('filetest.xlsx', sheet_name='customer')"
      ]
    },
    {
      "cell_type": "markdown",
      "metadata": {
        "id": "3BxDMPfUwrR0"
      },
      "source": [
        "<img src=\"https://drive.google.com/uc?export=view&id=1rNtKYXaH246TQM2O4xuheSHULah9hqBX\" alt=\"Drawing\" width= 500px;/>\n",
        "\n",
        "<small>[Source](https://drive.google.com/file/d/1rNtKYXaH246TQM2O4xuheSHULah9hqBX/view?usp=sharing)</small>"
      ]
    },
    {
      "cell_type": "markdown",
      "metadata": {
        "id": "8ah5WVzBwrSF"
      },
      "source": [
        "* Kita juga dapat membuat beberapa sheet sekaligus.\n",
        "* Misal, ada data tambahan"
      ]
    },
    {
      "cell_type": "code",
      "execution_count": null,
      "metadata": {
        "colab": {
          "base_uri": "https://localhost:8080/",
          "height": 206
        },
        "id": "fnounwDXwrSI",
        "outputId": "d62b44be-b10d-4a9d-afb1-8b146ed5808f"
      },
      "outputs": [],
      "source": [
        "table2 = pd.DataFrame({'Usia':[25,30,39,59,42,35,25,47,56,20],\n",
        "                     'Pekerjaan':['Aktor','Aktor','Penyanyi','Penari','Aktor','Aktris','Penyanyi','Penyanyi','Aktris','Aktor'],\n",
        "                     'Asal':['Blok C','Blok D','Blok A','Blok D','Blok A','Blok B','Blok C','Blok C','Blok A','Blok C'],\n",
        "                     'Member':['Gold','Gold','Gold','Platinum','Gold','Silver','Gold','Gold','Silver','Gold'],\n",
        "                     'Status':['Diterima','Diterima','Diterima','Diterima','Diterima','Ditolak','Diterima','Diterima','Diterima','Ditolak']},\n",
        "                    index=['Joni','Jono','Bambang','Joko','Eko','Fitri','Ayu','Hendro','Ica','Jaya'])\n",
        "table2.head()"
      ]
    },
    {
      "cell_type": "code",
      "execution_count": null,
      "metadata": {
        "id": "SWD87guJwrSR"
      },
      "outputs": [],
      "source": [
        "with pd.ExcelWriter('filetest.xlsx') as writer:\n",
        "    table.to_excel(writer, sheet_name='customer1')\n",
        "    table2.to_excel(writer, sheet_name='customer2')"
      ]
    },
    {
      "cell_type": "markdown",
      "metadata": {
        "id": "dAkOubtDwrSr"
      },
      "source": [
        "<img src=\"https://drive.google.com/uc?export=view&id=1LlKXnPzrnnVSsUeIpr86tjM4BCIuBp8A\" alt=\"Drawing\" width= 500px;/>\n",
        "\n",
        "<small>[Source](https://drive.google.com/file/d/1LlKXnPzrnnVSsUeIpr86tjM4BCIuBp8A/view?usp=sharing)</small>"
      ]
    }
  ],
  "metadata": {
    "colab": {
      "collapsed_sections": [],
      "name": "4-3 Menulis File.ipynb",
      "provenance": []
    },
    "kernelspec": {
      "display_name": "Python 3",
      "language": "python",
      "name": "python3"
    },
    "language_info": {
      "codemirror_mode": {
        "name": "ipython",
        "version": 3
      },
      "file_extension": ".py",
      "mimetype": "text/x-python",
      "name": "python",
      "nbconvert_exporter": "python",
      "pygments_lexer": "ipython3",
      "version": "3.10.5"
    },
    "vscode": {
      "interpreter": {
        "hash": "aee8b7b246df8f9039afb4144a1f6fd8d2ca17a180786b69acc140d282b71a49"
      }
    }
  },
  "nbformat": 4,
  "nbformat_minor": 0
}
