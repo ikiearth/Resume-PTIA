{
  "cells": [
    {
      "cell_type": "markdown",
      "metadata": {
        "id": "bs2BgarstW58"
      },
      "source": [
        "---\n",
        "# Set"
      ]
    },
    {
      "cell_type": "markdown",
      "metadata": {
        "id": "KRKs2JWxtW59"
      },
      "source": [
        "- Set merupakan struktur data yang dapat memiliki beberapa elemen\n",
        "- Elemen dalam sebuah set tidak disimpan berdasar urutan\n",
        "- Elemen dalam set dapat terdiri dari beberapa tipe berbeda\n",
        "- Set bersifat mutable, elemen dapat ditambah dan dikurangi\n",
        "- Set direpresentasikan dengan tanda `{}`"
      ]
    },
    {
      "cell_type": "code",
      "execution_count": 56,
      "metadata": {
        "colab": {
          "base_uri": "https://localhost:8080/"
        },
        "id": "645st0oatW59",
        "outputId": "652b603c-5e8b-4ef5-bae6-9db4011699f4"
      },
      "outputs": [
        {
          "data": {
            "text/plain": [
              "{1, 'bandung', 'jakarta'}"
            ]
          },
          "execution_count": 56,
          "metadata": {},
          "output_type": "execute_result"
        }
      ],
      "source": [
        "simple_set = {'jakarta','bandung',1}\n",
        "simple_set"
      ]
    },
    {
      "cell_type": "markdown",
      "metadata": {
        "id": "vQBktEXatW6B"
      },
      "source": [
        "- Elemen dalam sebuah set tidak memiliki duplikat\n"
      ]
    },
    {
      "cell_type": "code",
      "execution_count": null,
      "metadata": {
        "colab": {
          "base_uri": "https://localhost:8080/"
        },
        "id": "Eph7hCnCtW6C",
        "outputId": "f72f7e02-28ac-424f-ce39-76b0980dbeff"
      },
      "outputs": [],
      "source": [
        "simple_set_2 = {1, 2, 1}\n",
        "simple_set_2"
      ]
    },
    {
      "cell_type": "markdown",
      "metadata": {
        "id": "RDjluYKmtW6E"
      },
      "source": [
        "- Elemen pada set harus bersifat immutable"
      ]
    },
    {
      "cell_type": "code",
      "execution_count": null,
      "metadata": {
        "id": "lNg2EE10tW6F"
      },
      "outputs": [],
      "source": [
        "simple_set_3 = {1, 2, [1,2,3]}    # Error karena list bersifat mutable"
      ]
    },
    {
      "cell_type": "markdown",
      "metadata": {
        "id": "PWSxg342tW6H"
      },
      "source": [
        "- Set kosong dibuat dengan memanggil fungsi `set()`\n",
        "- tanda `{}` akan menghasilkan dictionary, bukan set"
      ]
    },
    {
      "cell_type": "code",
      "execution_count": null,
      "metadata": {
        "id": "DHAZaUrftW6I"
      },
      "outputs": [],
      "source": [
        "empty_set = set()\n",
        "type(empty_set)"
      ]
    },
    {
      "cell_type": "code",
      "execution_count": null,
      "metadata": {
        "id": "p_CsKZAZtW6K"
      },
      "outputs": [],
      "source": [
        "not_a_set = {}\n",
        "type(not_a_set)"
      ]
    },
    {
      "cell_type": "markdown",
      "metadata": {
        "id": "5SqYDtEEtW6Y"
      },
      "source": [
        "---\n",
        "## Operasi Dasar Pada Set"
      ]
    },
    {
      "cell_type": "markdown",
      "metadata": {
        "id": "PNjQDqQvtW6Y"
      },
      "source": [
        "### Menambah Elemen Baru"
      ]
    },
    {
      "cell_type": "markdown",
      "metadata": {
        "id": "3FzswylitW6Z"
      },
      "source": [
        "Untuk menambah elemen pada set kita dapat menggunakan perintah `add()`"
      ]
    },
    {
      "cell_type": "code",
      "execution_count": null,
      "metadata": {
        "id": "jw8Mw9YQtW6Z"
      },
      "outputs": [],
      "source": [
        "basic_set = {1,2,3}\n",
        "basic_set.add(5)\n",
        "basic_set"
      ]
    },
    {
      "cell_type": "markdown",
      "metadata": {
        "id": "iLZPmMp0wonr"
      },
      "source": [
        "**Exercise**"
      ]
    },
    {
      "cell_type": "code",
      "execution_count": 83,
      "metadata": {
        "id": "rrmjVKmitW6c"
      },
      "outputs": [
        {
          "data": {
            "text/plain": [
              "{'anjing', 'kaido', 'kucing', 'kuda', 'naga'}"
            ]
          },
          "execution_count": 83,
          "metadata": {},
          "output_type": "execute_result"
        }
      ],
      "source": [
        "# tambahkan 2 hewan lagi\n",
        "animal_set = {'anjing','kucing','kuda'}\n",
        "animal_set.add('naga')\n",
        "animal_set.add('kaido')\n",
        "animal_set"
      ]
    },
    {
      "cell_type": "markdown",
      "metadata": {
        "id": "StYAvllgtW6e"
      },
      "source": [
        "---"
      ]
    },
    {
      "cell_type": "markdown",
      "metadata": {
        "id": "0U-lCSNPt_xy"
      },
      "source": [
        "### Menghapus elemen"
      ]
    },
    {
      "cell_type": "markdown",
      "metadata": {
        "id": "DBbjSIbltW6e"
      },
      "source": [
        "Untuk mengurangi elemen pada list, ada 2 perintah yang dapat kita gunakan:\n",
        "- `remove()`\n",
        "- `discard()`"
      ]
    },
    {
      "cell_type": "code",
      "execution_count": null,
      "metadata": {
        "id": "gKUEh0zb5WHK"
      },
      "outputs": [],
      "source": [
        "set_ = {1,1,2,3,(4,5)}"
      ]
    },
    {
      "cell_type": "code",
      "execution_count": null,
      "metadata": {
        "id": "MxpiYPQx5bKK"
      },
      "outputs": [],
      "source": [
        "set_"
      ]
    },
    {
      "cell_type": "code",
      "execution_count": null,
      "metadata": {
        "id": "6AV5q1rytW6e"
      },
      "outputs": [],
      "source": [
        "basic_set = {1,2,3,4,5}\n",
        "basic_set.remove(5)\n",
        "basic_set.discard(8)\n",
        "basic_set"
      ]
    },
    {
      "cell_type": "markdown",
      "metadata": {
        "id": "MKNfuPDLtW6h"
      },
      "source": [
        "Kelebihan jika menggunakan discard adalah tidak ada error jika elemen yang ingin dihilangkan tidak ada pada set"
      ]
    },
    {
      "cell_type": "code",
      "execution_count": null,
      "metadata": {
        "id": "xGxNSAustW6h"
      },
      "outputs": [],
      "source": [
        "basic_set = {1,2,3,4,5}\n",
        "basic_set.remove(7)    # Error karena 7 tidak ada pada set"
      ]
    },
    {
      "cell_type": "code",
      "execution_count": null,
      "metadata": {
        "id": "uV157S1XtW6k"
      },
      "outputs": [],
      "source": [
        "basic_set = {1,2,3,4,5}\n",
        "basic_set.discard(7)    # Tidak ada error"
      ]
    },
    {
      "cell_type": "markdown",
      "metadata": {
        "id": "BOj6vuIztW6t"
      },
      "source": [
        "## Operasi Himpunan"
      ]
    },
    {
      "cell_type": "markdown",
      "metadata": {
        "id": "HIYfj6RMtW6t"
      },
      "source": [
        "#### Difference"
      ]
    },
    {
      "cell_type": "markdown",
      "metadata": {
        "id": "bMyPZMG3tW6u"
      },
      "source": [
        "Fungsi `diffence()` digunakan untuk menghasilkan set baru yang terdiri dari elemen yang tidak ada pada set lain"
      ]
    },
    {
      "cell_type": "code",
      "execution_count": 88,
      "metadata": {
        "id": "GrY9LZbltW6u"
      },
      "outputs": [
        {
          "data": {
            "text/plain": [
              "{5, 6, 7}"
            ]
          },
          "execution_count": 88,
          "metadata": {},
          "output_type": "execute_result"
        }
      ],
      "source": [
        "x_set = {1,2,3,4}\n",
        "y_set = {3,4,5,6,7}\n",
        "\n",
        "y_set.difference(x_set)"
      ]
    },
    {
      "cell_type": "markdown",
      "metadata": {
        "id": "QcXVkovvtW6w"
      },
      "source": [
        "#### Intersection"
      ]
    },
    {
      "cell_type": "markdown",
      "metadata": {
        "id": "9Gm8XPtFtW6w"
      },
      "source": [
        "Fungsi `intesection()` digunakan untuk menghasilkan set baru yang berisi elemen yang sama dari kedua set"
      ]
    },
    {
      "cell_type": "code",
      "execution_count": 89,
      "metadata": {
        "id": "YH9f5bULtW6x"
      },
      "outputs": [
        {
          "data": {
            "text/plain": [
              "{3, 4}"
            ]
          },
          "execution_count": 89,
          "metadata": {},
          "output_type": "execute_result"
        }
      ],
      "source": [
        "x_set = {1,2,3,4}\n",
        "y_set = {3,4,5,6,7}\n",
        "\n",
        "x_set.intersection(y_set)"
      ]
    },
    {
      "cell_type": "markdown",
      "metadata": {
        "id": "5wHVyjqftW6z"
      },
      "source": [
        "#### Union"
      ]
    },
    {
      "cell_type": "markdown",
      "metadata": {
        "id": "ltQNejqftW6z"
      },
      "source": [
        "Fungsi `union()` digunakan untuk menghasilkan set yang merupakan menggabungkan dari kedua set"
      ]
    },
    {
      "cell_type": "code",
      "execution_count": 90,
      "metadata": {
        "id": "Tr-zCh3NtW6z"
      },
      "outputs": [
        {
          "data": {
            "text/plain": [
              "{1, 2, 3, 4, 5, 6, 7}"
            ]
          },
          "execution_count": 90,
          "metadata": {},
          "output_type": "execute_result"
        }
      ],
      "source": [
        "x_set = {1,2,3,4}\n",
        "y_set = {3,4,5,6,7}\n",
        "\n",
        "x_set.union(y_set)"
      ]
    },
    {
      "cell_type": "markdown",
      "metadata": {
        "id": "eRzSuG5ftW61"
      },
      "source": [
        "####  Fungsi lain"
      ]
    },
    {
      "cell_type": "markdown",
      "metadata": {
        "id": "CZSn78gltW62"
      },
      "source": [
        "- `issubset()` mengecek apakah merupakan subset dari set lain\n",
        "- `isdisjoint()` mengecek apakah tidak ada elemen yang sama pada kedua set\n",
        "- `issuperset()` mengecek apakah set mengandung semua elemen set lain"
      ]
    },
    {
      "cell_type": "code",
      "execution_count": 103,
      "metadata": {
        "id": "uxrs9gxatW62"
      },
      "outputs": [
        {
          "name": "stdout",
          "output_type": "stream",
          "text": [
            "False\n",
            "False\n",
            "True\n"
          ]
        }
      ],
      "source": [
        "x_set = {3,4,5,6,8,9,10,11}\n",
        "y_set = {3,4}\n",
        "z_set = {8,9,10}\n",
        "\n",
        "print(x_set.issubset(y_set))\n",
        "print(x_set.isdisjoint(z_set))\n",
        "print(x_set.issuperset(z_set))"
      ]
    },
    {
      "cell_type": "code",
      "execution_count": null,
      "metadata": {
        "id": "EgGd8BLttW65"
      },
      "outputs": [],
      "source": [
        "one_set = {1,2,3,4,5,6,7}\n",
        "two_set = {1,2,3,5,8,13}"
      ]
    },
    {
      "cell_type": "markdown",
      "metadata": {
        "id": "IPDi0mbu69gF"
      },
      "source": [
        "---\n",
        "## Contoh Kegunaan Set"
      ]
    },
    {
      "cell_type": "markdown",
      "metadata": {
        "id": "T26VBG8_7T37"
      },
      "source": [
        "* Set merupakan struktur data yang memiliki elemen unik.\n",
        "* Sehingga sifat ini sering dimanfaatkan untuk mendapatkan elemen unik dari suatu struktur data.\n",
        "\n",
        "Contoh:"
      ]
    },
    {
      "cell_type": "code",
      "execution_count": 104,
      "metadata": {
        "id": "yL3DXK4k7jJn"
      },
      "outputs": [
        {
          "data": {
            "text/plain": [
              "[1, 3, 2, 1, 5, 3, 2, 6, 2, 3, 4, 7, 8, 9, 2, 4, 7, 1, 3, 8, 2, 9]"
            ]
          },
          "execution_count": 104,
          "metadata": {},
          "output_type": "execute_result"
        }
      ],
      "source": [
        "list_1 = [1,3,2,1,5,3,2,6,2,3,4,7,8,9,2,4,7,1,3,8,2,9]\n",
        "list_1"
      ]
    },
    {
      "cell_type": "markdown",
      "metadata": {
        "id": "JVQrI4lj9n2s"
      },
      "source": [
        "* Untuk mendapatkan elemen unik maka:"
      ]
    },
    {
      "cell_type": "code",
      "execution_count": 105,
      "metadata": {
        "id": "1K3jQDS17ptQ"
      },
      "outputs": [
        {
          "data": {
            "text/plain": [
              "{1, 2, 3, 4, 5, 6, 7, 8, 9}"
            ]
          },
          "execution_count": 105,
          "metadata": {},
          "output_type": "execute_result"
        }
      ],
      "source": [
        "set_1 = set(list_1)\n",
        "set_1"
      ]
    },
    {
      "cell_type": "markdown",
      "metadata": {
        "id": "XKT1LBE9-pqR"
      },
      "source": [
        "* Lalu bisa kita kembalikan lagi ke dalam list"
      ]
    },
    {
      "cell_type": "code",
      "execution_count": 106,
      "metadata": {
        "id": "Lqa7UB3E-Q0I"
      },
      "outputs": [
        {
          "data": {
            "text/plain": [
              "[1, 2, 3, 4, 5, 6, 7, 8, 9]"
            ]
          },
          "execution_count": 106,
          "metadata": {},
          "output_type": "execute_result"
        }
      ],
      "source": [
        "list_1 = list(set_1)\n",
        "list_1"
      ]
    },
    {
      "cell_type": "markdown",
      "metadata": {
        "id": "HymwDdTnuQhI"
      },
      "source": [
        "# Dictionary"
      ]
    },
    {
      "cell_type": "markdown",
      "metadata": {
        "id": "yCAvqDkvuQhJ"
      },
      "source": [
        "- Dictionary merupakan struktur data mirip list, namun tiap elemen terdiri dari sepasang key dan value\n",
        "- Key dan value tiap elemen dipisahkan dengan tanda `:`\n",
        "- Dictionary direpresentasikan dengan tanda `{}`"
      ]
    },
    {
      "cell_type": "code",
      "execution_count": null,
      "metadata": {
        "id": "JLFpMWCDuQhK"
      },
      "outputs": [],
      "source": [
        "first_dict = {}    # dictionary kosong\n",
        "second_dict = {\"Nama\": \"Adam\", \"Umur\": 25}    # dictionary dengan 2 elemen"
      ]
    },
    {
      "cell_type": "markdown",
      "metadata": {
        "id": "j-N1XcJMuQhO"
      },
      "source": [
        "- Key pada elemen dict tidak memiliki duplikat, value bisa memiliki duplikat"
      ]
    },
    {
      "cell_type": "code",
      "execution_count": 34,
      "metadata": {
        "id": "kSvZWT6PuQhO"
      },
      "outputs": [
        {
          "data": {
            "text/plain": [
              "{1: 'anjing', 2: 'anjing'}"
            ]
          },
          "execution_count": 34,
          "metadata": {},
          "output_type": "execute_result"
        }
      ],
      "source": [
        "simple_dict = {1:\"kucing\", 2:\"anjing\", 1:\"anjing\"}    # key 1 memiliki value terakhir\n",
        "simple_dict"
      ]
    },
    {
      "cell_type": "markdown",
      "metadata": {
        "id": "xF0D4460uQhS"
      },
      "source": [
        " - baik key maupun value pada dict bisa memiliki tipe berbeda"
      ]
    },
    {
      "cell_type": "code",
      "execution_count": null,
      "metadata": {
        "id": "PPYmb6fQuQhT"
      },
      "outputs": [],
      "source": [
        "third_dict = {1:2, \"kota\":\"jakarta\", 2:\"surabaya\", \"bali\": 4}\n",
        "third_dict"
      ]
    },
    {
      "cell_type": "markdown",
      "metadata": {
        "id": "i7s6odsHuQhW"
      },
      "source": [
        "- key pada dict harus bersifat immutable"
      ]
    },
    {
      "cell_type": "code",
      "execution_count": null,
      "metadata": {
        "id": "ZQgZFKQduQhW"
      },
      "outputs": [],
      "source": [
        "fourth_dict = {[1,2]:1}    # Error karena key berupa list"
      ]
    },
    {
      "cell_type": "code",
      "execution_count": null,
      "metadata": {
        "id": "mx7SiS9ZuQha"
      },
      "outputs": [],
      "source": [
        "fourth_dict = {(1,2):1}\n",
        "fourth_dict"
      ]
    },
    {
      "cell_type": "markdown",
      "metadata": {
        "id": "J0t1Atg2uQhd"
      },
      "source": [
        "- value pada dict bisa bersifat mutable"
      ]
    },
    {
      "cell_type": "code",
      "execution_count": 35,
      "metadata": {
        "id": "BUgLsEaluQhd"
      },
      "outputs": [
        {
          "data": {
            "text/plain": [
              "{1: [2, 3, 4, 5], 2: {'nama': 'adam'}}"
            ]
          },
          "execution_count": 35,
          "metadata": {},
          "output_type": "execute_result"
        }
      ],
      "source": [
        "fifth_dict = {1:[2,3,4,5], 2:{\"nama\":\"adam\"}}\n",
        "fifth_dict"
      ]
    },
    {
      "cell_type": "markdown",
      "metadata": {
        "id": "tUwvUIvJuQhh"
      },
      "source": [
        "**Exercise**"
      ]
    },
    {
      "cell_type": "code",
      "execution_count": 108,
      "metadata": {
        "id": "RwCMrpLXuQhh"
      },
      "outputs": [
        {
          "data": {
            "text/plain": [
              "'manis'"
            ]
          },
          "execution_count": 108,
          "metadata": {},
          "output_type": "execute_result"
        }
      ],
      "source": [
        "# Buatlah sebuah dictionary dengan key nama buah dan value warnanya\n",
        "\n",
        "macam_buah = {'mangga': 'manis', 'jeruk': 'manis', 'apel': 'asam'}\n",
        "macam_buah['mangga']"
      ]
    },
    {
      "cell_type": "markdown",
      "metadata": {
        "id": "zFnrUwiQuQhn"
      },
      "source": [
        "## Mengakses Elemen Dictionary"
      ]
    },
    {
      "cell_type": "markdown",
      "metadata": {
        "id": "3QeRu0JhuQhn"
      },
      "source": [
        "### Keys"
      ]
    },
    {
      "cell_type": "markdown",
      "metadata": {
        "id": "5S1WEwf6uQho"
      },
      "source": [
        "- Elemen pada dictionary dapat diakses menggunakan key dari elemen tersebut dan akan mengembalikan value elemen.\n",
        "- Elemen tidak dapat diakses menggunakan indeks.\n",
        "- Jika indeks key tidak ada pada dictionary, akan menghasilkan error\n",
        "- fungsi `get()` dapat digunakan untuk menghindari error"
      ]
    },
    {
      "cell_type": "code",
      "execution_count": 53,
      "metadata": {
        "id": "2a1tu8LruQho"
      },
      "outputs": [
        {
          "name": "stdout",
          "output_type": "stream",
          "text": [
            "25\n",
            "25\n"
          ]
        },
        {
          "ename": "KeyError",
          "evalue": "'Alamat'",
          "output_type": "error",
          "traceback": [
            "\u001b[0;31m---------------------------------------------------------------------------\u001b[0m",
            "\u001b[0;31mKeyError\u001b[0m                                  Traceback (most recent call last)",
            "Cell \u001b[0;32mIn [53], line 4\u001b[0m\n\u001b[1;32m      2\u001b[0m \u001b[39mprint\u001b[39m(x_dict[\u001b[39m\"\u001b[39m\u001b[39mUmur\u001b[39m\u001b[39m\"\u001b[39m])\n\u001b[1;32m      3\u001b[0m \u001b[39mprint\u001b[39m(x_dict\u001b[39m.\u001b[39mget(\u001b[39m\"\u001b[39m\u001b[39mUmur\u001b[39m\u001b[39m\"\u001b[39m))    \u001b[39m# return None karena tidak ada elemen dengan key Alamat, tidak error\u001b[39;00m\n\u001b[0;32m----> 4\u001b[0m \u001b[39mprint\u001b[39m(x_dict[\u001b[39m\"\u001b[39;49m\u001b[39mAlamat\u001b[39;49m\u001b[39m\"\u001b[39;49m])\n",
            "\u001b[0;31mKeyError\u001b[0m: 'Alamat'"
          ]
        }
      ],
      "source": [
        "x_dict = {\"Nama\": \"Tejo\", \"Umur\": 25}\n",
        "print(x_dict[\"Umur\"])\n",
        "print(x_dict.get(\"Umur\"))    # return None karena tidak ada elemen dengan key Alamat, tidak error\n",
        "print(x_dict[\"Alamat\"])    # Error karena tidak ada elemen dengan key Alamat"
      ]
    },
    {
      "cell_type": "markdown",
      "metadata": {
        "id": "sxuPaN67wXSy"
      },
      "source": [
        "**Exercise**"
      ]
    },
    {
      "cell_type": "code",
      "execution_count": 109,
      "metadata": {
        "id": "lHg8xoH8uQhu"
      },
      "outputs": [
        {
          "data": {
            "text/plain": [
              "25"
            ]
          },
          "execution_count": 109,
          "metadata": {},
          "output_type": "execute_result"
        }
      ],
      "source": [
        "# print value dari key Umur pada x_dict\n",
        "\n",
        "x_dict['Umur']"
      ]
    },
    {
      "cell_type": "markdown",
      "metadata": {
        "id": "WrlebfyguQhx"
      },
      "source": [
        "---\n",
        "### Mengecek key\n",
        "Untuk mengecek apakah key yang ingin kita akses ada pada dictionary, kita bisa menggunakan statemen `in`."
      ]
    },
    {
      "cell_type": "code",
      "execution_count": 40,
      "metadata": {
        "id": "AkUYVmrluQhx"
      },
      "outputs": [
        {
          "name": "stdout",
          "output_type": "stream",
          "text": [
            "False\n",
            "True\n"
          ]
        }
      ],
      "source": [
        "print('Alamat' in x_dict)\n",
        "print('Nama' in x_dict)"
      ]
    },
    {
      "cell_type": "markdown",
      "metadata": {
        "id": "m3WLeukvwcGH"
      },
      "source": [
        "**Exercise**"
      ]
    },
    {
      "cell_type": "code",
      "execution_count": 110,
      "metadata": {
        "id": "sh3t-xKjuQh0"
      },
      "outputs": [
        {
          "name": "stdout",
          "output_type": "stream",
          "text": [
            "True\n"
          ]
        }
      ],
      "source": [
        "# cek apakah ada kunci Umur pada x_dict\n",
        "\n",
        "print('Umur' in x_dict)"
      ]
    },
    {
      "cell_type": "code",
      "execution_count": 111,
      "metadata": {
        "id": "JlEsKNU-ygal"
      },
      "outputs": [
        {
          "name": "stdout",
          "output_type": "stream",
          "text": [
            "False\n"
          ]
        }
      ],
      "source": [
        "tanaman = {\"pisang\": \"kuning\", \"wortel\": \"oranye\", \"bayam\": \"hijau\"}\n",
        "print('kangkung' in tanaman)\n",
        "# cek apakah kangkung ada di dalam dictionary tanaman"
      ]
    },
    {
      "cell_type": "markdown",
      "metadata": {
        "id": "mDK150uSuQh3"
      },
      "source": [
        "---\n",
        "### Looping"
      ]
    },
    {
      "cell_type": "markdown",
      "metadata": {
        "id": "QgjAUWdtuQh3"
      },
      "source": [
        "Ada 2 cara yang biasa digunakan untuk melakukan iterasi pada dictionary, yaitu:\n",
        "- looping menggunakan statement `in`"
      ]
    },
    {
      "cell_type": "code",
      "execution_count": 112,
      "metadata": {
        "id": "maWg-7lAuQh4"
      },
      "outputs": [
        {
          "name": "stdout",
          "output_type": "stream",
          "text": [
            "key: Nama value: ['Adam', 'Bambang', 'Tommy']\n",
            "key: Umur value: 25\n"
          ]
        }
      ],
      "source": [
        "x_dict = {\"Nama\": [\"Adam\",\"Bambang\",\"Tommy\"], \"Umur\": 25}\n",
        "\n",
        "for x in x_dict:\n",
        "    print(\"key:\", x, \"value:\", x_dict[x])"
      ]
    },
    {
      "cell_type": "code",
      "execution_count": 114,
      "metadata": {
        "id": "NbrKw3Ff54Dr"
      },
      "outputs": [
        {
          "data": {
            "text/plain": [
              "['Bambang', 'Tommy']"
            ]
          },
          "execution_count": 114,
          "metadata": {},
          "output_type": "execute_result"
        }
      ],
      "source": [
        "x_dict[\"Nama\"][1:4]"
      ]
    },
    {
      "cell_type": "markdown",
      "metadata": {
        "id": "CELu0W9GuQh6"
      },
      "source": [
        "- looping tuple (key,value) dari dari fungsi `items()`. fungsi items mengembalikan semua elemen sebagai tuple (key,value)"
      ]
    },
    {
      "cell_type": "code",
      "execution_count": 119,
      "metadata": {
        "id": "TvW8RRRpuQh6"
      },
      "outputs": [
        {
          "name": "stdout",
          "output_type": "stream",
          "text": [
            "key: Nama value: Adam\n",
            "key: Umur value: 25\n"
          ]
        }
      ],
      "source": [
        "x_dict = {\"Nama\": \"Adam\", \"Umur\": 25}\n",
        "\n",
        "for key,value in x_dict.items():\n",
        "    print(\"key:\", key, \"value:\", value)"
      ]
    },
    {
      "cell_type": "markdown",
      "metadata": {
        "id": "ILMfoCl0wh9o"
      },
      "source": [
        "**Exercise**"
      ]
    },
    {
      "cell_type": "code",
      "execution_count": 144,
      "metadata": {
        "id": "PwIOSvO8uQh9"
      },
      "outputs": [
        {
          "name": "stdout",
          "output_type": "stream",
          "text": [
            "kuning\n",
            "merah\n",
            "hijau\n"
          ]
        }
      ],
      "source": [
        "y_dict = {\"pisang\": \"kuning\", \"wortel\": \"merah\", \"bayam\": \"hijau\"}\n",
        "\n",
        "for key,value in y_dict.items():\n",
        "  print(value)\n",
        "# print semua warna yang ada pada y_dict"
      ]
    },
    {
      "cell_type": "code",
      "execution_count": 147,
      "metadata": {
        "id": "SybHG5rFxk53"
      },
      "outputs": [
        {
          "name": "stdout",
          "output_type": "stream",
          "text": [
            "mobil\n",
            "motor\n",
            "pesawat\n",
            "kapal\n"
          ]
        }
      ],
      "source": [
        "kendaraan = {\"mobil\":\"merah\", \"motor\":\"hijau\", \"pesawat\":\"putih\", \"kapal\":\"hitam\"}\n",
        "\n",
        "for key, value in kendaraan.items():\n",
        "  print(key)\n",
        "# print semua nama kendaraan yang ada di dalam kendaraan"
      ]
    },
    {
      "cell_type": "markdown",
      "metadata": {
        "id": "LGRnQZs3uQiA"
      },
      "source": [
        "## Operasi Dasar Dictionary"
      ]
    },
    {
      "cell_type": "markdown",
      "metadata": {
        "id": "4SjOANNpuQiA"
      },
      "source": [
        "#### Menambah Elemen Baru"
      ]
    },
    {
      "cell_type": "markdown",
      "metadata": {
        "id": "3CxWUJ7-uQiA"
      },
      "source": [
        "Untuk menambah elemen baru, kita cukup memberi indeks key baru dan menetapkan nilainya"
      ]
    },
    {
      "cell_type": "code",
      "execution_count": 151,
      "metadata": {
        "id": "Uela25g9uQiB"
      },
      "outputs": [
        {
          "name": "stdout",
          "output_type": "stream",
          "text": [
            "{'mobil': 'merah', 'motor': 'hijau', 'pesawat': 'putih', 'kapal': 'hitam', 'sepeda': 'hijau'}\n"
          ]
        }
      ],
      "source": [
        "\n",
        "kendaraan = {\"mobil\":\"merah\", \"motor\":\"hijau\", \"pesawat\":\"putih\", \"kapal\":\"hitam\"}\n",
        "kendaraan[\"sepeda\"] = \"hijau\"\n",
        "\n",
        "print(kendaraan)\n",
        "#type(kendaraan)"
      ]
    },
    {
      "cell_type": "markdown",
      "metadata": {
        "id": "YBGY0eb1uQiD"
      },
      "source": [
        "#### Menghapus Elemen"
      ]
    },
    {
      "cell_type": "markdown",
      "metadata": {
        "id": "wyS79kCfuQiE"
      },
      "source": [
        "Untuk menghapus elemen pada dict, kita dapat menggunakan fungsi `pop()`. perlu diperhatikan bahwa fungsi `pop()` akan menghasilkan error ketika key tidak ada dalam list"
      ]
    },
    {
      "cell_type": "code",
      "execution_count": 44,
      "metadata": {
        "id": "V50hSlNUuQiE"
      },
      "outputs": [
        {
          "data": {
            "text/plain": [
              "{'wortel': 'merah', 'bayam': 'hijau'}"
            ]
          },
          "execution_count": 44,
          "metadata": {},
          "output_type": "execute_result"
        }
      ],
      "source": [
        "new_list = {\"pisang\": \"kuning\", \"wortel\": \"merah\", \"bayam\": \"hijau\"}\n",
        "new_list.pop(\"pisang\")\n",
        "new_list"
      ]
    },
    {
      "cell_type": "code",
      "execution_count": 45,
      "metadata": {
        "id": "5jC_8WEkuQiH"
      },
      "outputs": [
        {
          "ename": "KeyError",
          "evalue": "'kucing'",
          "output_type": "error",
          "traceback": [
            "\u001b[0;31m---------------------------------------------------------------------------\u001b[0m",
            "\u001b[0;31mKeyError\u001b[0m                                  Traceback (most recent call last)",
            "Cell \u001b[0;32mIn [45], line 1\u001b[0m\n\u001b[0;32m----> 1\u001b[0m new_list\u001b[39m.\u001b[39;49mpop(\u001b[39m\"\u001b[39;49m\u001b[39mkucing\u001b[39;49m\u001b[39m\"\u001b[39;49m)\n",
            "\u001b[0;31mKeyError\u001b[0m: 'kucing'"
          ]
        }
      ],
      "source": [
        "new_list.pop(\"kucing\")    # error karena key kucing tidak ada dalam dictionary"
      ]
    },
    {
      "cell_type": "markdown",
      "metadata": {
        "id": "vlAc0d0quQiJ"
      },
      "source": [
        "#### Mengubah Nilai Dari Suatu Key"
      ]
    },
    {
      "cell_type": "markdown",
      "metadata": {
        "id": "edSQL-LZuQiJ"
      },
      "source": [
        "Untuk mengubah nilai suatu key, kita cukup mengakses indeks key dan memberi nilai baru"
      ]
    },
    {
      "cell_type": "code",
      "execution_count": 47,
      "metadata": {
        "id": "0N00nEaIuQiK"
      },
      "outputs": [
        {
          "data": {
            "text/plain": [
              "{'pisang': 'kuning', 'wortel': 'warna', 'bayam': 'hijau'}"
            ]
          },
          "execution_count": 47,
          "metadata": {},
          "output_type": "execute_result"
        }
      ],
      "source": [
        "new_list = {\"pisang\": \"kuning\", \"wortel\": \"merah\", \"bayam\": \"hijau\"}\n",
        "new_list[\"wortel\"] = \"warna\"\n",
        "new_list"
      ]
    },
    {
      "cell_type": "markdown",
      "metadata": {
        "id": "tmnx2YmauQiM"
      },
      "source": [
        "Perlu diperhatikan bahwa cara mengubah nilai key dan cara memberi key baru memiliki sintaks penulisan yang sama. Maka dari itu, ada baiknya kita melakukan pengecekan sebelum memberi mengubah nilai elemen"
      ]
    },
    {
      "cell_type": "code",
      "execution_count": 48,
      "metadata": {
        "id": "NatAtZ7muQiN"
      },
      "outputs": [
        {
          "data": {
            "text/plain": [
              "{'pisang': 'kuning', 'wortel': 'merah', 'bayam': 'hijau', 'kangkung': 'hijau'}"
            ]
          },
          "execution_count": 48,
          "metadata": {},
          "output_type": "execute_result"
        }
      ],
      "source": [
        "new_list = {\"pisang\": \"kuning\", \"wortel\": \"merah\", \"bayam\": \"hijau\"}\n",
        "\n",
        "if \"wortel\" not in new_list:\n",
        "    new_list[\"wortel\"] = \"oranye\"\n",
        "    \n",
        "if \"kangkung\" not in new_list:\n",
        "    new_list[\"kangkung\"] = \"hijau\"\n",
        "    \n",
        "new_list"
      ]
    },
    {
      "cell_type": "code",
      "execution_count": 49,
      "metadata": {
        "id": "1BPJ_Wj57HEn"
      },
      "outputs": [],
      "source": [
        "new_list[\"wortel\"] = \"oranye\""
      ]
    },
    {
      "cell_type": "code",
      "execution_count": null,
      "metadata": {
        "id": "ITnE64f47KbD"
      },
      "outputs": [],
      "source": [
        "new_list"
      ]
    },
    {
      "cell_type": "markdown",
      "metadata": {
        "id": "_uVEZyJ9yNvI"
      },
      "source": [
        "---\n",
        "**Exercise**"
      ]
    },
    {
      "cell_type": "code",
      "execution_count": 164,
      "metadata": {
        "id": "cP3WDUnHyQ6m"
      },
      "outputs": [
        {
          "name": "stdout",
          "output_type": "stream",
          "text": [
            "{'pisang': 'kuning', 'wortel': 'oranye', 'bayam': 'hijau', 'sawi': 'hijau', 'tomat': 'merah'}\n"
          ]
        }
      ],
      "source": [
        "tanaman = {\"pisang\": \"kuning\", \"wortel\": \"oranye\", \"bayam\": \"hijau\"}\n",
        "# tambahkanlah sawi: hijau dan tomat:merah kedalam dictionary\n",
        "\n",
        "tanaman['sawi'] = 'hijau'\n",
        "tanaman['tomat'] = 'merah'\n",
        "print(tanaman)\n"
      ]
    },
    {
      "cell_type": "code",
      "execution_count": 165,
      "metadata": {
        "id": "MI3Ipr9dwD-6"
      },
      "outputs": [
        {
          "name": "stdout",
          "output_type": "stream",
          "text": [
            "{'merk': 'toyota', 'model': 'avanza', 'tahun': 2014, 'warna': 'hitam'}\n"
          ]
        }
      ],
      "source": [
        "mobil = {'merk': 'toyota', 'model':'avanza', 'tahun':2014, 'warna':'silver'}\n",
        "#ubahlah warna di menjadi hitam\n",
        "\n",
        "mobil['warna'] = 'hitam'\n",
        "print(mobil)"
      ]
    },
    {
      "cell_type": "markdown",
      "metadata": {
        "id": "h_LkIDpZuSFl"
      },
      "source": [
        "---\n",
        "## Nested Dictionary\n",
        "\n",
        "Layaknya struktur data yang lain, `dictionary` juga dapat berbentuk *nested*.\n",
        "\n",
        "contoh:"
      ]
    },
    {
      "cell_type": "code",
      "execution_count": 174,
      "metadata": {
        "id": "xulEzlLAzzUK"
      },
      "outputs": [
        {
          "data": {
            "text/plain": [
              "{'avanza': {'merk': 'toyota', 'penumpang': 7, 'warna': 'putih'},\n",
              " 'xpander': {'merk': 'mitsubishi', 'penumpang': 7, 'warna': 'hitam'}}"
            ]
          },
          "execution_count": 174,
          "metadata": {},
          "output_type": "execute_result"
        }
      ],
      "source": [
        "mobil = {'avanza':{'merk':'toyota','penumpang':7,'warna':'putih'}, 'xpander':{'merk':'mitsubishi','penumpang':7,'warna':'hitam'}}\n",
        "mobil"
      ]
    },
    {
      "cell_type": "markdown",
      "metadata": {
        "id": "_be4YZT31LuX"
      },
      "source": [
        "Untuk mengakses merk dapat dilakukan hal berikut:"
      ]
    },
    {
      "cell_type": "code",
      "execution_count": 175,
      "metadata": {
        "id": "A5CqqC4n1RO6"
      },
      "outputs": [
        {
          "data": {
            "text/plain": [
              "'mitsubishi'"
            ]
          },
          "execution_count": 175,
          "metadata": {},
          "output_type": "execute_result"
        }
      ],
      "source": [
        "mobil['xpander']['merk']"
      ]
    },
    {
      "cell_type": "markdown",
      "metadata": {
        "id": "IozJvlnB0k1O"
      },
      "source": [
        "---\n",
        "Di dalam `dictionary` kita juga bisa memasukkan tipe data lainnya:\n"
      ]
    },
    {
      "cell_type": "code",
      "execution_count": null,
      "metadata": {
        "id": "Kcam1Q4V0u6p"
      },
      "outputs": [],
      "source": [
        "angka = {'semua':[1,2,3,4,5], 'ganjil':[1,3,5], 'genap':[2,4]}\n",
        "angka"
      ]
    },
    {
      "cell_type": "markdown",
      "metadata": {
        "id": "7NamalfR2Zmm"
      },
      "source": [
        "Untuk mengakses elemen ke-2 dari angka ganjil maka"
      ]
    },
    {
      "cell_type": "code",
      "execution_count": null,
      "metadata": {
        "id": "47xeryq82euY"
      },
      "outputs": [],
      "source": [
        "angka['ganjil'][1]"
      ]
    },
    {
      "cell_type": "markdown",
      "metadata": {
        "id": "1GIeeoPe4nCm"
      },
      "source": [
        "---\n",
        "**Exercise**"
      ]
    },
    {
      "cell_type": "code",
      "execution_count": 168,
      "metadata": {
        "id": "7FP-3pyN4pwh"
      },
      "outputs": [
        {
          "data": {
            "text/plain": [
              "[5, 8, 13]"
            ]
          },
          "execution_count": 168,
          "metadata": {},
          "output_type": "execute_result"
        }
      ],
      "source": [
        "angka = {'semua':[1,2,3,4,5], 'ganjil':[1,3,5], 'genap':[2,4], 'fibonacci':[1,1,2,3,5,8,13]}\n",
        "# Coba akses tiga angka terakhir dari fibonacci\n",
        "\n",
        "angka['fibonacci'][4:7]"
      ]
    },
    {
      "cell_type": "markdown",
      "metadata": {
        "id": "gCAYe3Umuhc7"
      },
      "source": [
        "## Penggunaan Dictionary"
      ]
    },
    {
      "cell_type": "markdown",
      "metadata": {
        "id": "fFn5CPCvuora"
      },
      "source": [
        "Dictionary banyak digunakan untuk merepresentasikan struktur data yang cukup kompleks dikombinasikan dengan list dan tuples.\n",
        "\n",
        "Contoh adalah menyimpan nilai murid dalam suatu kelas, kita dapat menggunakan list dan tuple saja, tapi menggunakan dictionary akan mempermudah kita dalam memahami data"
      ]
    },
    {
      "cell_type": "code",
      "execution_count": 170,
      "metadata": {
        "id": "9b6fKfce3rav"
      },
      "outputs": [
        {
          "data": {
            "text/plain": [
              "{'Ana': {'nilai': {'matematika': 80, 'biologi': 60},\n",
              "  'kelas': '6A',\n",
              "  'prestasi': ['juara kelas']},\n",
              " 'Doni': {'nilai': {'matematika': 66, 'biologi': 98},\n",
              "  'kelas': '6D',\n",
              "  'prestasi': ['olimpiade biologi']}}"
            ]
          },
          "execution_count": 170,
          "metadata": {},
          "output_type": "execute_result"
        }
      ],
      "source": [
        "data_murid = {\"Ana\":{\"nilai\": {\"matematika\":80, \"biologi\":60}, \"kelas\":\"6A\", \"prestasi\":[\"juara kelas\"]}, \"Doni\":{\"nilai\": {\"matematika\":66, \"biologi\":98}, \"kelas\":\"6D\", \"prestasi\":[\"olimpiade biologi\"]}}\n",
        "data_murid"
      ]
    },
    {
      "cell_type": "markdown",
      "metadata": {
        "id": "YBeJyW4Q4qpc"
      },
      "source": [
        "Jika kita ingin mengetahui nilai matematika Doni, kita dapat menggunakan key sebagai berikut:"
      ]
    },
    {
      "cell_type": "code",
      "execution_count": null,
      "metadata": {
        "id": "lF0kqzU-4xXl"
      },
      "outputs": [],
      "source": [
        "data_murid[\"Doni\"][\"nilai\"][\"matematika\"]"
      ]
    },
    {
      "cell_type": "markdown",
      "metadata": {
        "id": "sB5LO_l7zA0F"
      },
      "source": [
        "---\n",
        "**Exercise**"
      ]
    },
    {
      "cell_type": "code",
      "execution_count": 171,
      "metadata": {
        "id": "2XuXlKDJ1rW-"
      },
      "outputs": [
        {
          "data": {
            "text/plain": [
              "{'matematika': 80, 'biologi': 60}"
            ]
          },
          "execution_count": 171,
          "metadata": {},
          "output_type": "execute_result"
        }
      ],
      "source": [
        "# Tampilkan nilai matematika dan biologi ana\n",
        "\n",
        "data_murid['Ana']['nilai']"
      ]
    },
    {
      "cell_type": "code",
      "execution_count": 172,
      "metadata": {
        "id": "NLSLXv0TCjUu"
      },
      "outputs": [
        {
          "name": "stdout",
          "output_type": "stream",
          "text": [
            "Nilai matematika : 80\n",
            "Nilai biologi : 60\n"
          ]
        }
      ],
      "source": [
        "for mapel in data_murid['Ana']['nilai']:\n",
        "    print(f\"Nilai {mapel} : {data_murid['Ana']['nilai'][mapel]}\")"
      ]
    },
    {
      "cell_type": "code",
      "execution_count": 176,
      "metadata": {
        "id": "cP7qszuN12Jj"
      },
      "outputs": [
        {
          "data": {
            "text/plain": [
              "['juara kelas']"
            ]
          },
          "execution_count": 176,
          "metadata": {},
          "output_type": "execute_result"
        }
      ],
      "source": [
        "# Tampilkan prestasi Ana \n",
        "\n",
        "data_murid['Ana']['prestasi']"
      ]
    },
    {
      "cell_type": "code",
      "execution_count": null,
      "metadata": {
        "id": "cVRaXM1vDHiC"
      },
      "outputs": [],
      "source": [
        "print(data_murid['Ana']['prestasi'])"
      ]
    },
    {
      "cell_type": "code",
      "execution_count": null,
      "metadata": {
        "id": "dndZgv13DK2Y"
      },
      "outputs": [],
      "source": []
    }
  ],
  "metadata": {
    "colab": {
      "collapsed_sections": [],
      "name": "1-2. Struktur Data Set dan Dictionary.ipynb",
      "provenance": []
    },
    "kernelspec": {
      "display_name": "Python 3",
      "language": "python",
      "name": "python3"
    },
    "language_info": {
      "codemirror_mode": {
        "name": "ipython",
        "version": 3
      },
      "file_extension": ".py",
      "mimetype": "text/x-python",
      "name": "python",
      "nbconvert_exporter": "python",
      "pygments_lexer": "ipython3",
      "version": "3.10.5"
    },
    "vscode": {
      "interpreter": {
        "hash": "aee8b7b246df8f9039afb4144a1f6fd8d2ca17a180786b69acc140d282b71a49"
      }
    }
  },
  "nbformat": 4,
  "nbformat_minor": 0
}
