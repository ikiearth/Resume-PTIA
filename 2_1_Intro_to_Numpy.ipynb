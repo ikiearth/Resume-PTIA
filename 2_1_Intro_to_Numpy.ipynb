{
  "cells": [
    {
      "cell_type": "markdown",
      "metadata": {
        "id": "xsECXMJoYM-Z"
      },
      "source": [
        "# Introduction\n",
        "\n",
        "Pada sesi ini kita akan belajar mengenai beberapa topik dasar dalam melakukan data wrangling menggunakan Numpy library. Beberapa materi tentang manipulasi array dasar yang akan dibahas dalam sesi kali ini antara lain adalah:\n",
        "\n",
        "* Attributes of arrays\n",
        "* Indexing of arrays\n",
        "* Slicing of arrays\n",
        "* Reshaping of arrays\n",
        "* Join/concat and splitting of arrays\n",
        "\n"
      ]
    },
    {
      "cell_type": "markdown",
      "metadata": {
        "id": "g3qlrlMeb3m1"
      },
      "source": [
        "# Quick Recall: Numpy vs List\n",
        "\n",
        "Sebelum kita masuk ke dalam materi, mari kita bahas ulang sedikit mengenai struktur data list dan bagaimana perbedaannya di dalam library Numpy"
      ]
    },
    {
      "cell_type": "code",
      "execution_count": 85,
      "metadata": {
        "id": "8JphCg_sYVwy"
      },
      "outputs": [],
      "source": [
        "import numpy as np\n",
        "import random"
      ]
    },
    {
      "cell_type": "code",
      "execution_count": 88,
      "metadata": {
        "id": "7ZETAexW2CC8"
      },
      "outputs": [
        {
          "data": {
            "text/plain": [
              "[[6, 9, 1, 7, 4, 4, 1, 4, 5, 4], [6, 2, 5, 9, 9, 4, 2, 6, 6, 1]]"
            ]
          },
          "execution_count": 88,
          "metadata": {},
          "output_type": "execute_result"
        }
      ],
      "source": [
        "low = 1\n",
        "high = 10\n",
        "cols = 10\n",
        "rows = 2\n",
        "x0 = list(random.choices(range(low,high), k=cols)) # one dimensional\n",
        "x0_ = list(random.choices(range(low,high), k=cols) for _ in range(rows)) # multi dimensional\n",
        "x0_"
      ]
    },
    {
      "cell_type": "code",
      "execution_count": null,
      "metadata": {
        "colab": {
          "base_uri": "https://localhost:8080/"
        },
        "id": "-tPTHthP2F-F",
        "outputId": "ba477b3e-9b27-43c8-968d-1a12b2f2b037"
      },
      "outputs": [
        {
          "data": {
            "text/plain": [
              "list"
            ]
          },
          "execution_count": 3,
          "metadata": {},
          "output_type": "execute_result"
        }
      ],
      "source": [
        "type(x0)"
      ]
    },
    {
      "cell_type": "code",
      "execution_count": 37,
      "metadata": {
        "colab": {
          "base_uri": "https://localhost:8080/"
        },
        "id": "uecAjrzE2JYL",
        "outputId": "376c945f-83ff-4e1e-8722-75e62d38ea09"
      },
      "outputs": [
        {
          "data": {
            "text/plain": [
              "array([58, 23, 79, 13, 85, 48])"
            ]
          },
          "execution_count": 37,
          "metadata": {},
          "output_type": "execute_result"
        }
      ],
      "source": [
        "x1 = np.random.randint(10, size=6)  # One-dimensional array\n",
        "x1"
      ]
    },
    {
      "cell_type": "markdown",
      "metadata": {
        "id": "nuiNCyZMbwIc"
      },
      "source": [
        "# Numpy Array Attributes\n",
        "\n",
        "Pada sub-materi ini kita akan belajar mengenai attributes pada NumPy array. Sebelumnya, mari kita membuat 3 buah random array terlebih dahulu menggunakan NumPy's random number generator. One-dimensional, two-dimensional, dan three-dimensional array. "
      ]
    },
    {
      "cell_type": "code",
      "execution_count": 105,
      "metadata": {
        "id": "62484fc8byzO"
      },
      "outputs": [],
      "source": [
        "import numpy as np\n",
        "np.random.seed(0)  # seed for reproducibility\n",
        "\n",
        "x1 = np.random.randint(10, size=6)  # One-dimensional array\n",
        "x2 = np.random.randint(10, size=(3, 4))  # Two-dimensional array\n",
        "x3 = np.random.randint(10, size=(3, 4, 5))  # Three-dimensional array"
      ]
    },
    {
      "attachments": {},
      "cell_type": "markdown",
      "metadata": {},
      "source": [
        "|Attribut|Keterangan|\n",
        "|---|---|\n",
        "|ndim|untuk mengecek dimensi dari suatu array|\n",
        "|shape|untuk mengecek ukuran dari tiap dimensi suatu array|\n",
        "|size|untuk mengecek total ukuran dari suatu array|\n",
        "|dtype|untuk mengecek tipe data dari nilai yang disimpan Numpy array|"
      ]
    },
    {
      "cell_type": "markdown",
      "metadata": {
        "id": "nq36IzYRzwhP"
      },
      "source": [
        "Untuk mengecek dimensi dari suatu array bisa digunakan `ndim`, untuk mengecek ukuran dari tiap dimensi bisa gunakan `shape`, dan kita bisa gunakan `size` untuk mengecek total ukuran dari suatu array"
      ]
    },
    {
      "cell_type": "code",
      "execution_count": 45,
      "metadata": {
        "colab": {
          "base_uri": "https://localhost:8080/"
        },
        "id": "uLq8nSIfyiTR",
        "outputId": "25a1189f-ee1c-4ea9-c1cd-9be865c63a5c"
      },
      "outputs": [
        {
          "name": "stdout",
          "output_type": "stream",
          "text": [
            "x3 ndim:  3\n",
            "x3 shape: (3, 4, 5)\n",
            "x3 size:  60\n",
            "x3 size:  int64\n"
          ]
        }
      ],
      "source": [
        "print(\"x3 ndim: \", x3.ndim)\n",
        "print(\"x3 shape:\", x3.shape)\n",
        "print(\"x3 size: \", x3.size)\n",
        "print(\"x3 size: \", x3.dtype)"
      ]
    },
    {
      "cell_type": "markdown",
      "metadata": {
        "id": "fRAdU7xd3OSb"
      },
      "source": [
        "Attribute lain yang berguna adalah `dtype`, berguna untuk mengecek tipe data"
      ]
    },
    {
      "cell_type": "code",
      "execution_count": 46,
      "metadata": {
        "colab": {
          "base_uri": "https://localhost:8080/"
        },
        "id": "xZJx6xhwziA8",
        "outputId": "f052cba7-051e-4c93-c373-898249774b1f"
      },
      "outputs": [
        {
          "name": "stdout",
          "output_type": "stream",
          "text": [
            "dtype: int64\n"
          ]
        }
      ],
      "source": [
        "print(\"dtype:\", x3.dtype)"
      ]
    },
    {
      "cell_type": "markdown",
      "metadata": {
        "id": "BVWXHiOb4JBT"
      },
      "source": [
        "Beberapa attribute lain yang bisa kita gunakan adalah `itemsize` (untuk mengecek size dari tiap elemen pada array dalam bentuk bytes) dan `nbytes` (yang berguna untuk mengecek total size dari sebuah array dalam bentuk bytes)"
      ]
    },
    {
      "cell_type": "code",
      "execution_count": 4,
      "metadata": {
        "colab": {
          "base_uri": "https://localhost:8080/"
        },
        "id": "oXciqw-ozlMl",
        "outputId": "c9f6f7fb-1bd1-4e69-ae0c-b13520859e8c"
      },
      "outputs": [
        {
          "name": "stdout",
          "output_type": "stream",
          "text": [
            "itemsize: 8 bytes\n",
            "nbytes: 480 bytes\n"
          ]
        }
      ],
      "source": [
        "print(\"itemsize:\", x3.itemsize, \"bytes\")\n",
        "print(\"nbytes:\", x3.nbytes, \"bytes\")"
      ]
    },
    {
      "cell_type": "markdown",
      "metadata": {
        "id": "RngfAa4dgVEi"
      },
      "source": [
        "# Array Indexing: Accessing Single Elements"
      ]
    },
    {
      "cell_type": "markdown",
      "metadata": {
        "id": "CV3dtE7o4_t5"
      },
      "source": [
        "Indexing pada Numpy array kurang lebih tidak jauh berbeda dengan list pada Python standar. Perhitungan index dimulai dari 0"
      ]
    },
    {
      "cell_type": "code",
      "execution_count": 113,
      "metadata": {
        "colab": {
          "base_uri": "https://localhost:8080/"
        },
        "id": "TjGmhCjZgXIT",
        "outputId": "2f3e10d9-d153-469f-fcb4-20fc92aa037e"
      },
      "outputs": [
        {
          "data": {
            "text/plain": [
              "array([4, 3, 4, 4, 8, 4])"
            ]
          },
          "execution_count": 113,
          "metadata": {},
          "output_type": "execute_result"
        }
      ],
      "source": [
        "x1 = np.random.randint(10, size=6)\n",
        "x1"
      ]
    },
    {
      "cell_type": "markdown",
      "metadata": {
        "id": "ye8pEudBeeCT"
      },
      "source": [
        "Mengakses elemen pertama pada array (index=0)"
      ]
    },
    {
      "cell_type": "code",
      "execution_count": null,
      "metadata": {
        "colab": {
          "base_uri": "https://localhost:8080/"
        },
        "id": "XuiaZgpI5CXu",
        "outputId": "43886b5a-35a4-45b6-fb81-9822df4c06cf"
      },
      "outputs": [
        {
          "data": {
            "text/plain": [
              "4"
            ]
          },
          "execution_count": 10,
          "metadata": {},
          "output_type": "execute_result"
        }
      ],
      "source": [
        "x1[0]"
      ]
    },
    {
      "cell_type": "markdown",
      "metadata": {
        "id": "ZtQ7mjyxejjl"
      },
      "source": [
        "Mengakses elemen kelima pada array"
      ]
    },
    {
      "cell_type": "code",
      "execution_count": null,
      "metadata": {
        "colab": {
          "base_uri": "https://localhost:8080/"
        },
        "id": "HVhZtCBuKaBL",
        "outputId": "70cf8aee-b5f7-4212-ee6e-fffa3a89eb10"
      },
      "outputs": [
        {
          "data": {
            "text/plain": [
              "8"
            ]
          },
          "execution_count": 11,
          "metadata": {},
          "output_type": "execute_result"
        }
      ],
      "source": [
        "x1[4]"
      ]
    },
    {
      "cell_type": "markdown",
      "metadata": {
        "id": "S2Qs1fE6epIi"
      },
      "source": [
        "Mengakses elemen dari paling belakang"
      ]
    },
    {
      "cell_type": "code",
      "execution_count": null,
      "metadata": {
        "colab": {
          "base_uri": "https://localhost:8080/"
        },
        "id": "1cyJqNyLKi-5",
        "outputId": "f9c5e19a-6231-4072-861a-9885ccbe505b"
      },
      "outputs": [
        {
          "data": {
            "text/plain": [
              "4"
            ]
          },
          "execution_count": 12,
          "metadata": {},
          "output_type": "execute_result"
        }
      ],
      "source": [
        "x1[-1]"
      ]
    },
    {
      "cell_type": "markdown",
      "metadata": {
        "id": "qgYIov6Zes4X"
      },
      "source": [
        "Mengakses elemen kedua dari belakang"
      ]
    },
    {
      "cell_type": "code",
      "execution_count": null,
      "metadata": {
        "colab": {
          "base_uri": "https://localhost:8080/"
        },
        "id": "Os_WW4SzKkb2",
        "outputId": "a68f9d23-d898-4cfd-daec-d12d8c0059be"
      },
      "outputs": [
        {
          "data": {
            "text/plain": [
              "8"
            ]
          },
          "execution_count": 13,
          "metadata": {},
          "output_type": "execute_result"
        }
      ],
      "source": [
        "x1[-2]"
      ]
    },
    {
      "cell_type": "markdown",
      "metadata": {
        "id": "kdKTqDiRKypd"
      },
      "source": [
        "Pada multi-dimensional array, item-item pada array dapat di akses menggunakan notasi seperti tuple (comma-separated tuple of indices). Contoh di bawah kita buat array dua dimensi terlebih dahulu"
      ]
    },
    {
      "cell_type": "code",
      "execution_count": 127,
      "metadata": {
        "colab": {
          "base_uri": "https://localhost:8080/"
        },
        "id": "4n36xE36KxV5",
        "outputId": "cdf00ee2-c1e0-4699-8fba-3de81b75647c"
      },
      "outputs": [
        {
          "data": {
            "text/plain": [
              "array([[9, 7, 7, 5],\n",
              "       [1, 2, 2, 8],\n",
              "       [1, 5, 8, 4]])"
            ]
          },
          "execution_count": 127,
          "metadata": {},
          "output_type": "execute_result"
        }
      ],
      "source": [
        "x2 = np.random.randint(10, size=(3, 4))\n",
        "x2"
      ]
    },
    {
      "cell_type": "markdown",
      "metadata": {
        "id": "UY-6LZthg-_b"
      },
      "source": [
        "Mengakses index `(0, 0)` --> `(index baris, index kolom)`"
      ]
    },
    {
      "cell_type": "code",
      "execution_count": 128,
      "metadata": {
        "colab": {
          "base_uri": "https://localhost:8080/"
        },
        "id": "iOS8SMGdLEnS",
        "outputId": "73036739-8f93-4d56-b86c-5c4ea36db213"
      },
      "outputs": [
        {
          "data": {
            "text/plain": [
              "8"
            ]
          },
          "execution_count": 128,
          "metadata": {},
          "output_type": "execute_result"
        }
      ],
      "source": [
        "x2[1, 3]"
      ]
    },
    {
      "cell_type": "markdown",
      "metadata": {
        "id": "NcuU8k39hBYs"
      },
      "source": [
        "Mengakses index (2, 0)"
      ]
    },
    {
      "cell_type": "code",
      "execution_count": 129,
      "metadata": {
        "colab": {
          "base_uri": "https://localhost:8080/"
        },
        "id": "9_TbDjBoLGBt",
        "outputId": "13c71859-785e-4228-9c73-bce378809aab"
      },
      "outputs": [
        {
          "data": {
            "text/plain": [
              "1"
            ]
          },
          "execution_count": 129,
          "metadata": {},
          "output_type": "execute_result"
        }
      ],
      "source": [
        "x2[2, 0]"
      ]
    },
    {
      "cell_type": "markdown",
      "metadata": {
        "id": "N5YuVjvnhQL8"
      },
      "source": [
        "Mengakses index (2, -1)"
      ]
    },
    {
      "cell_type": "code",
      "execution_count": 131,
      "metadata": {
        "colab": {
          "base_uri": "https://localhost:8080/"
        },
        "id": "xU6riUzDLHVO",
        "outputId": "74afdf15-9090-4348-e04f-667fbe12120a"
      },
      "outputs": [
        {
          "data": {
            "text/plain": [
              "4"
            ]
          },
          "execution_count": 131,
          "metadata": {},
          "output_type": "execute_result"
        }
      ],
      "source": [
        "x2[2, -1]"
      ]
    },
    {
      "cell_type": "markdown",
      "metadata": {
        "id": "kxLY9psxLMeI"
      },
      "source": [
        "Nilai pada tiap item juga dapat dimodifikasi menggunakan index-index tuple di atas. Misal kita ingin mengganti index (0, 0) maka:"
      ]
    },
    {
      "cell_type": "code",
      "execution_count": 53,
      "metadata": {
        "id": "NGPutlsoLaQX"
      },
      "outputs": [],
      "source": [
        "x2[0, 0] = 12 # from 5 to 12"
      ]
    },
    {
      "cell_type": "code",
      "execution_count": null,
      "metadata": {
        "colab": {
          "base_uri": "https://localhost:8080/"
        },
        "id": "qQFT9cmPLerJ",
        "outputId": "3680ebaf-f855-4a26-c89a-0a28d6f7c240"
      },
      "outputs": [
        {
          "data": {
            "text/plain": [
              "12"
            ]
          },
          "execution_count": 19,
          "metadata": {},
          "output_type": "execute_result"
        }
      ],
      "source": [
        "x2[0, 0]"
      ]
    },
    {
      "cell_type": "code",
      "execution_count": null,
      "metadata": {
        "colab": {
          "base_uri": "https://localhost:8080/"
        },
        "id": "KxZY48BcLgd2",
        "outputId": "6c1f6659-fee7-41a1-8fdf-037195986904"
      },
      "outputs": [
        {
          "data": {
            "text/plain": [
              "array([[12,  7,  5,  5],\n",
              "       [ 0,  1,  5,  9],\n",
              "       [ 3,  0,  5,  0]])"
            ]
          },
          "execution_count": 20,
          "metadata": {},
          "output_type": "execute_result"
        }
      ],
      "source": [
        "x2"
      ]
    },
    {
      "cell_type": "markdown",
      "metadata": {
        "id": "O39C1dQnMsdV"
      },
      "source": [
        "Perhatikan bahwa, tidak seperti pada List, dalam NumPy sebuah array memiliki tipe yang fixed. Hal ini berarti jika kita ingin melakukan insert value dengan floating-point ke dalam integer array, nilai tsb akan terpotong (truncated)."
      ]
    },
    {
      "cell_type": "code",
      "execution_count": null,
      "metadata": {
        "id": "pxvUVRDaMryX"
      },
      "outputs": [],
      "source": [
        "x1[0] = 3.14159"
      ]
    },
    {
      "cell_type": "code",
      "execution_count": null,
      "metadata": {
        "colab": {
          "base_uri": "https://localhost:8080/"
        },
        "id": "Qf_2uHqrNRx9",
        "outputId": "5226d003-09d7-4928-d97f-f859daf43366"
      },
      "outputs": [
        {
          "data": {
            "text/plain": [
              "array([3, 3, 4, 4, 8, 4])"
            ]
          },
          "execution_count": 22,
          "metadata": {},
          "output_type": "execute_result"
        }
      ],
      "source": [
        "x1"
      ]
    },
    {
      "cell_type": "markdown",
      "metadata": {
        "id": "OeONRpk6g1y0"
      },
      "source": [
        "# Array Slicing: Accessing Subarrays\n",
        "\n",
        "Pada indexing kita telah belajar bagaimana `[]` dapat mengakses tiap elemen dari array. Pada submateri ini kita akan belajar bagaimana cara mengakses beberapa item sekaligus atau yg sering disebut dengan slicing. Caranya kurang lebih sama dengan indexing, namun kita hanya perlu menambahkan `:` untuk jarak index yang ingin kita ambil. Syntax slicing pada Numpy adalah sbb:\n",
        "\n",
        "```\n",
        "x[start:stop:step]\n",
        "```\n",
        "\n",
        "Jika salah satu dari parameter ini tidak diisi, maka default value-nya adalah `start=0`, `stop=size of dimension`, `step=1`"
      ]
    },
    {
      "cell_type": "markdown",
      "metadata": {
        "id": "Su4snokqg7lc"
      },
      "source": [
        "## One-Dimensional Subarrays"
      ]
    },
    {
      "cell_type": "markdown",
      "metadata": {
        "id": "cD6sf533V1z5"
      },
      "source": [
        "Pertama, kita buat kembali one-dimensional array dengan panjang 10 elemen"
      ]
    },
    {
      "cell_type": "code",
      "execution_count": 56,
      "metadata": {
        "colab": {
          "base_uri": "https://localhost:8080/"
        },
        "id": "QAfX_DKcBKiP",
        "outputId": "e07cfa84-d763-4200-fc09-417d60c0a072"
      },
      "outputs": [
        {
          "data": {
            "text/plain": [
              "array([0, 1, 2, 3, 4, 5, 6, 7, 8, 9])"
            ]
          },
          "execution_count": 56,
          "metadata": {},
          "output_type": "execute_result"
        }
      ],
      "source": [
        "x = np.arange(10)\n",
        "x"
      ]
    },
    {
      "cell_type": "markdown",
      "metadata": {
        "id": "j3QxL-2PinxJ"
      },
      "source": [
        "Mengakses 5 elemen pertama pada array"
      ]
    },
    {
      "cell_type": "code",
      "execution_count": 57,
      "metadata": {
        "colab": {
          "base_uri": "https://localhost:8080/"
        },
        "id": "pFH2RcGkBLR4",
        "outputId": "2c15677c-5662-4653-f334-585d83667bb9"
      },
      "outputs": [
        {
          "data": {
            "text/plain": [
              "array([0, 1, 2, 3, 4])"
            ]
          },
          "execution_count": 57,
          "metadata": {},
          "output_type": "execute_result"
        }
      ],
      "source": [
        "x[:5]  # first five elements"
      ]
    },
    {
      "cell_type": "markdown",
      "metadata": {
        "id": "3c0FGAMhi-IV"
      },
      "source": [
        "Mengakses elemen-elemen setelah index ke 5"
      ]
    },
    {
      "cell_type": "code",
      "execution_count": null,
      "metadata": {
        "colab": {
          "base_uri": "https://localhost:8080/"
        },
        "id": "jYU4H-ERBN6D",
        "outputId": "70f0f1f0-512c-4e84-845b-79f58d61edec"
      },
      "outputs": [
        {
          "data": {
            "text/plain": [
              "array([5, 6, 7, 8, 9])"
            ]
          },
          "execution_count": 25,
          "metadata": {},
          "output_type": "execute_result"
        }
      ],
      "source": [
        "x[5:]  # elements after index 5"
      ]
    },
    {
      "cell_type": "markdown",
      "metadata": {
        "id": "EmZzH7rtjjBC"
      },
      "source": [
        "### Exercises:\n",
        "1. Tampilkan elemen yang berada pada tengah-tengah array. Hint: sub-array antara index 4 dan 7"
      ]
    },
    {
      "cell_type": "code",
      "execution_count": 13,
      "metadata": {
        "id": "26ESH2nCkNpV"
      },
      "outputs": [
        {
          "data": {
            "text/plain": [
              "array([0, 1, 2, 3, 4, 5, 6, 7, 8, 9])"
            ]
          },
          "execution_count": 13,
          "metadata": {},
          "output_type": "execute_result"
        }
      ],
      "source": [
        "x = np.arange(10)\n",
        "x"
      ]
    },
    {
      "cell_type": "code",
      "execution_count": 14,
      "metadata": {
        "colab": {
          "base_uri": "https://localhost:8080/"
        },
        "id": "TlF5TwYXBPOM",
        "outputId": "f928d4a8-9db1-4730-ed77-3d4f3a81bd14"
      },
      "outputs": [
        {
          "data": {
            "text/plain": [
              "array([4, 5, 6])"
            ]
          },
          "execution_count": 14,
          "metadata": {},
          "output_type": "execute_result"
        }
      ],
      "source": [
        "x[4:7]  # middle sub-array"
      ]
    },
    {
      "cell_type": "markdown",
      "metadata": {
        "id": "N8gHT18nkPYa"
      },
      "source": [
        "2. Tampilkan elemen angka bilangan genap saja"
      ]
    },
    {
      "cell_type": "code",
      "execution_count": 16,
      "metadata": {
        "id": "Twc_72TtkOxF"
      },
      "outputs": [],
      "source": [
        "x = np.arange(20)"
      ]
    },
    {
      "cell_type": "code",
      "execution_count": 17,
      "metadata": {
        "colab": {
          "base_uri": "https://localhost:8080/"
        },
        "id": "2OgoP11HBRKp",
        "outputId": "161dbfaa-6348-4399-883d-775cabed3e77"
      },
      "outputs": [
        {
          "data": {
            "text/plain": [
              "array([ 0,  2,  4,  6,  8, 10, 12, 14, 16, 18])"
            ]
          },
          "execution_count": 17,
          "metadata": {},
          "output_type": "execute_result"
        }
      ],
      "source": [
        "x[::2]"
      ]
    },
    {
      "cell_type": "markdown",
      "metadata": {
        "id": "8yCEhTsOkW39"
      },
      "source": [
        "3. Tampilkan elemen angka bilangan ganjil"
      ]
    },
    {
      "cell_type": "code",
      "execution_count": 18,
      "metadata": {
        "id": "QqRFSZwLkcgp"
      },
      "outputs": [],
      "source": [
        "x = np.arange(50)"
      ]
    },
    {
      "cell_type": "code",
      "execution_count": 135,
      "metadata": {
        "colab": {
          "base_uri": "https://localhost:8080/"
        },
        "id": "URhz0OQmBSit",
        "outputId": "5cf9d596-c450-458f-b00d-dd4dd7b178a9"
      },
      "outputs": [
        {
          "data": {
            "text/plain": [
              "array([ 1,  3,  5,  7,  9, 11, 13, 15, 17, 19, 21, 23, 25, 27, 29, 31, 33,\n",
              "       35, 37, 39, 41, 43, 45, 47, 49])"
            ]
          },
          "execution_count": 135,
          "metadata": {},
          "output_type": "execute_result"
        }
      ],
      "source": [
        "x[1::2]"
      ]
    },
    {
      "cell_type": "markdown",
      "metadata": {
        "id": "_2ZM_cpBSsrZ"
      },
      "source": [
        "4. Tampilkan keseluruhan elemen urut dari belakang"
      ]
    },
    {
      "cell_type": "code",
      "execution_count": 132,
      "metadata": {
        "id": "bUapn__YkonE"
      },
      "outputs": [],
      "source": [
        "x = np.arange(50)"
      ]
    },
    {
      "cell_type": "code",
      "execution_count": 134,
      "metadata": {
        "colab": {
          "base_uri": "https://localhost:8080/"
        },
        "id": "ZI_sYgjTBUgu",
        "outputId": "1c180d16-9c71-4142-95a1-a32e4505e9fe"
      },
      "outputs": [
        {
          "data": {
            "text/plain": [
              "array([49, 48, 47, 46, 45, 44, 43, 42, 41, 40, 39, 38, 37, 36, 35, 34, 33,\n",
              "       32, 31, 30, 29, 28, 27, 26, 25, 24, 23, 22, 21, 20, 19, 18, 17, 16,\n",
              "       15, 14, 13, 12, 11, 10,  9,  8,  7,  6,  5,  4,  3,  2,  1,  0])"
            ]
          },
          "execution_count": 134,
          "metadata": {},
          "output_type": "execute_result"
        }
      ],
      "source": [
        "x[::-1]  # all elements, reversed"
      ]
    },
    {
      "cell_type": "markdown",
      "metadata": {
        "id": "nZLFuGkNkrtm"
      },
      "source": [
        "5. Tampilkan seluruh elemen ganjil dari belakang"
      ]
    },
    {
      "cell_type": "code",
      "execution_count": 25,
      "metadata": {
        "id": "nb71aT-Rkrgq"
      },
      "outputs": [],
      "source": [
        "x = np.arange(10)"
      ]
    },
    {
      "cell_type": "code",
      "execution_count": 26,
      "metadata": {
        "colab": {
          "base_uri": "https://localhost:8080/"
        },
        "id": "BGWRnn84BWZ8",
        "outputId": "97d64331-5ee4-41c5-f8d5-3dc49568d41f"
      },
      "outputs": [
        {
          "data": {
            "text/plain": [
              "array([9, 7, 5, 3, 1])"
            ]
          },
          "execution_count": 26,
          "metadata": {},
          "output_type": "execute_result"
        }
      ],
      "source": [
        "x[::-2]"
      ]
    },
    {
      "cell_type": "markdown",
      "metadata": {
        "id": "N5I6CQgvhHj9"
      },
      "source": [
        "## Multi-Dimensional Subarrays"
      ]
    },
    {
      "cell_type": "code",
      "execution_count": 138,
      "metadata": {
        "colab": {
          "base_uri": "https://localhost:8080/"
        },
        "id": "ZdFJvBtlBaB_",
        "outputId": "3b1ef22d-b12c-4999-f246-c9c84a156b09"
      },
      "outputs": [
        {
          "data": {
            "text/plain": [
              "array([[4, 4, 0, 9],\n",
              "       [3, 7, 3, 2],\n",
              "       [1, 1, 2, 1]])"
            ]
          },
          "execution_count": 138,
          "metadata": {},
          "output_type": "execute_result"
        }
      ],
      "source": [
        "x2 = np.random.randint(10, size=(3, 4))  # Two-dimensional array\n",
        "x2"
      ]
    },
    {
      "cell_type": "code",
      "execution_count": 63,
      "metadata": {
        "colab": {
          "base_uri": "https://localhost:8080/"
        },
        "id": "_4MxjsNIBgQi",
        "outputId": "c04bb39a-6773-4c2f-d386-bfaac808b078"
      },
      "outputs": [
        {
          "data": {
            "text/plain": [
              "array([[1, 4, 6]])"
            ]
          },
          "execution_count": 63,
          "metadata": {},
          "output_type": "execute_result"
        }
      ],
      "source": [
        "x2[:1, 1:4]  # two rows, three columns"
      ]
    },
    {
      "cell_type": "code",
      "execution_count": null,
      "metadata": {
        "colab": {
          "base_uri": "https://localhost:8080/"
        },
        "id": "k4M-tajvBg_9",
        "outputId": "44b5470c-022d-4b57-9817-5dc5efc8bb6d"
      },
      "outputs": [
        {
          "data": {
            "text/plain": [
              "array([[1, 4],\n",
              "       [0, 2],\n",
              "       [7, 9]])"
            ]
          },
          "execution_count": 33,
          "metadata": {},
          "output_type": "execute_result"
        }
      ],
      "source": [
        "x2[:3, ::2]  # all rows, every other column"
      ]
    },
    {
      "cell_type": "code",
      "execution_count": null,
      "metadata": {
        "colab": {
          "base_uri": "https://localhost:8080/"
        },
        "id": "M1mIS8FSBowt",
        "outputId": "a526e1a2-7f5c-4528-8767-498e3b042d46"
      },
      "outputs": [
        {
          "data": {
            "text/plain": [
              "array([[0, 9, 5, 7],\n",
              "       [0, 2, 3, 0],\n",
              "       [2, 4, 2, 1]])"
            ]
          },
          "execution_count": 34,
          "metadata": {},
          "output_type": "execute_result"
        }
      ],
      "source": [
        "x2[::-1, ::-1]"
      ]
    },
    {
      "cell_type": "markdown",
      "metadata": {
        "id": "s9N49LLKBtxW"
      },
      "source": [
        "### Accessing array rows and columns"
      ]
    },
    {
      "cell_type": "code",
      "execution_count": 139,
      "metadata": {
        "colab": {
          "base_uri": "https://localhost:8080/"
        },
        "id": "DcfWHe3rBq9Z",
        "outputId": "f2cbf9c0-c74d-486e-9830-a914fcb4d002"
      },
      "outputs": [
        {
          "name": "stdout",
          "output_type": "stream",
          "text": [
            "[4 3 1]\n"
          ]
        }
      ],
      "source": [
        "print(x2[:, 0])  # first column of x2"
      ]
    },
    {
      "cell_type": "code",
      "execution_count": 140,
      "metadata": {
        "colab": {
          "base_uri": "https://localhost:8080/"
        },
        "id": "wVokDHU1BzaO",
        "outputId": "c3599326-fa6b-4aea-e4a4-601926fe3b4b"
      },
      "outputs": [
        {
          "name": "stdout",
          "output_type": "stream",
          "text": [
            "[4 4 0 9]\n"
          ]
        }
      ],
      "source": [
        "print(x2[0, :])  # first row of x2"
      ]
    },
    {
      "cell_type": "code",
      "execution_count": null,
      "metadata": {
        "colab": {
          "base_uri": "https://localhost:8080/"
        },
        "id": "q-K4DkQgB36K",
        "outputId": "949e5b03-8526-4689-c3f0-dffa8bddc956"
      },
      "outputs": [
        {
          "name": "stdout",
          "output_type": "stream",
          "text": [
            "[1 2 4 2]\n"
          ]
        }
      ],
      "source": [
        "print(x2[0])  # equivalent to x2[0, :]"
      ]
    },
    {
      "cell_type": "markdown",
      "metadata": {
        "id": "zwdl3cBDhMyW"
      },
      "source": [
        "## Subarrays as No-Copy Views"
      ]
    },
    {
      "cell_type": "markdown",
      "metadata": {
        "id": "ruJy32d4CAaq"
      },
      "source": [
        "## Creating Copies of Arrays"
      ]
    },
    {
      "cell_type": "code",
      "execution_count": 68,
      "metadata": {
        "colab": {
          "base_uri": "https://localhost:8080/"
        },
        "id": "K7T_YCTqlPyI",
        "outputId": "509a97af-9339-4df6-e6ac-1a323d2b2d86"
      },
      "outputs": [
        {
          "name": "stdout",
          "output_type": "stream",
          "text": [
            "[[9 6]\n",
            " [8 8]]\n"
          ]
        }
      ],
      "source": [
        "x2_sub_copy = x2[:2, :2].copy()\n",
        "print(x2_sub_copy)"
      ]
    },
    {
      "cell_type": "code",
      "execution_count": null,
      "metadata": {
        "colab": {
          "base_uri": "https://localhost:8080/"
        },
        "id": "DTa4jNMflRCH",
        "outputId": "3e97397e-61fa-4d38-9575-a49eee3feb68"
      },
      "outputs": [
        {
          "name": "stdout",
          "output_type": "stream",
          "text": [
            "[[42  2]\n",
            " [ 0  3]]\n"
          ]
        }
      ],
      "source": [
        "x2_sub_copy[0, 0] = 42\n",
        "print(x2_sub_copy)"
      ]
    },
    {
      "cell_type": "code",
      "execution_count": null,
      "metadata": {
        "colab": {
          "base_uri": "https://localhost:8080/"
        },
        "id": "XJyGs288lTG5",
        "outputId": "c3eca127-75e7-42bf-a134-59b3069aa560"
      },
      "outputs": [
        {
          "name": "stdout",
          "output_type": "stream",
          "text": [
            "[[1 2 4 2]\n",
            " [0 3 2 0]\n",
            " [7 5 9 0]]\n"
          ]
        }
      ],
      "source": [
        "print(x2)"
      ]
    },
    {
      "cell_type": "markdown",
      "metadata": {
        "id": "lqzFl9eDhT71"
      },
      "source": [
        "# Reshaping of Arrays\n",
        "\n",
        "Reshaping array adalah suatu metode untuk merubah bentuk dimensi dari array. Sesuai namanya, reshape berarti merubah bentuk. Cara yang paling mudah untuk melakukan metode ini adalah dengan menggunakan `reshape` method.\n",
        "\n",
        "Contoh, jika kita ingin merubah array satu dimensi dengan panjang elemen 9 menjadi sebuah matrix (array dua dimensi) berukuran $3 \\times 3$, dapat dilakukan dengan cara sbb:"
      ]
    },
    {
      "cell_type": "code",
      "execution_count": 74,
      "metadata": {
        "colab": {
          "base_uri": "https://localhost:8080/"
        },
        "id": "6UUlJBNzhWL5",
        "outputId": "9f4cc1e3-abb6-4724-fa67-e35869462f7c"
      },
      "outputs": [
        {
          "name": "stdout",
          "output_type": "stream",
          "text": [
            "[[ 1  2  3  4  5]\n",
            " [ 6  7  8  9 10]]\n"
          ]
        }
      ],
      "source": [
        "grid = np.arange(1, 11).reshape((2, 5))\n",
        "print(grid)"
      ]
    },
    {
      "cell_type": "markdown",
      "metadata": {
        "id": "-4cdCQlcvGx0"
      },
      "source": [
        "Perhatikan bahwa ukuran array awal harus sesuai dengan ukuran array yang ingin dibentuk. Misal ingin membuat matrix $2 \\times 2$ maka kita butuh one-dimensional array berukuran panjang 4 elemen"
      ]
    },
    {
      "cell_type": "code",
      "execution_count": 28,
      "metadata": {
        "colab": {
          "base_uri": "https://localhost:8080/"
        },
        "id": "7paYO0saCJPC",
        "outputId": "c5d8a856-5571-4220-884f-cf7a6e5f42af"
      },
      "outputs": [
        {
          "data": {
            "text/plain": [
              "array([[1, 2, 3]])"
            ]
          },
          "execution_count": 28,
          "metadata": {},
          "output_type": "execute_result"
        }
      ],
      "source": [
        "x = np.array([1, 2, 3])\n",
        "\n",
        "# row vector via reshape\n",
        "x.reshape((1, 3))"
      ]
    },
    {
      "cell_type": "code",
      "execution_count": 29,
      "metadata": {
        "colab": {
          "base_uri": "https://localhost:8080/"
        },
        "id": "TsGCQo2PDFZA",
        "outputId": "4e71d42e-4bbe-4387-fdd5-3c3cf79cb571"
      },
      "outputs": [
        {
          "data": {
            "text/plain": [
              "array([[1, 2, 3]])"
            ]
          },
          "execution_count": 29,
          "metadata": {},
          "output_type": "execute_result"
        }
      ],
      "source": [
        "# row vector via newaxis\n",
        "x[np.newaxis, :]"
      ]
    },
    {
      "cell_type": "code",
      "execution_count": null,
      "metadata": {
        "colab": {
          "base_uri": "https://localhost:8080/"
        },
        "id": "We6bbkRjDIar",
        "outputId": "829ecfe5-7e7c-451e-976e-0b66a2d2d684"
      },
      "outputs": [
        {
          "data": {
            "text/plain": [
              "array([[1],\n",
              "       [2],\n",
              "       [3]])"
            ]
          },
          "execution_count": 44,
          "metadata": {},
          "output_type": "execute_result"
        }
      ],
      "source": [
        "# column vector via reshape\n",
        "x.reshape((3, 1))"
      ]
    },
    {
      "cell_type": "code",
      "execution_count": null,
      "metadata": {
        "colab": {
          "base_uri": "https://localhost:8080/"
        },
        "id": "BSByjHYGDKv2",
        "outputId": "89b9f0ac-7671-4a0f-f3ae-9d685823c99c"
      },
      "outputs": [
        {
          "data": {
            "text/plain": [
              "array([[1],\n",
              "       [2],\n",
              "       [3]])"
            ]
          },
          "execution_count": 45,
          "metadata": {},
          "output_type": "execute_result"
        }
      ],
      "source": [
        "# column vector via newaxis\n",
        "x[:, np.newaxis]"
      ]
    },
    {
      "cell_type": "markdown",
      "metadata": {
        "id": "oLx-zXx5hf-V"
      },
      "source": [
        "# Array Concatenation and Splitting\n",
        "\n"
      ]
    },
    {
      "cell_type": "markdown",
      "metadata": {
        "id": "MMQra0ysDNF8"
      },
      "source": [
        "## Concatenation of Arrays\n",
        "\n",
        "Array concat, atau join dua array pada NumPy dapat dilakukan dengan menggunakan method `np.concatenate`, `np.vstack`, dan `np.hstack`. `np.concatenate` menggunakan format tuple atau list of array sebagai argumen/parameternya, seperti yang dapat kita lihat pada contoh di bawah ini:"
      ]
    },
    {
      "cell_type": "code",
      "execution_count": 75,
      "metadata": {
        "colab": {
          "base_uri": "https://localhost:8080/"
        },
        "id": "h6RqtQN-hi0e",
        "outputId": "ca6a2571-77c9-44f5-9078-37a4e6f9e5c2"
      },
      "outputs": [
        {
          "data": {
            "text/plain": [
              "array([1, 2, 3, 3, 2, 1])"
            ]
          },
          "execution_count": 75,
          "metadata": {},
          "output_type": "execute_result"
        }
      ],
      "source": [
        "x = np.array([1, 2, 3])\n",
        "y = np.array([3, 2, 1])\n",
        "np.concatenate([x, y])"
      ]
    },
    {
      "cell_type": "markdown",
      "metadata": {
        "id": "RMJ3vzPE2D6D"
      },
      "source": [
        "Kita juga dapat melakukan concat pada lebih dari dua array dalam satu buah syntax"
      ]
    },
    {
      "cell_type": "code",
      "execution_count": null,
      "metadata": {
        "colab": {
          "base_uri": "https://localhost:8080/"
        },
        "id": "iI-pel5MDQyC",
        "outputId": "4112d41f-fe74-43a8-a3cf-e96816204eec"
      },
      "outputs": [
        {
          "name": "stdout",
          "output_type": "stream",
          "text": [
            "[ 1  2  3  3  2  1 99 99 99]\n"
          ]
        }
      ],
      "source": [
        "z = [99, 99, 99]\n",
        "print(np.concatenate([x, y, z]))"
      ]
    },
    {
      "cell_type": "markdown",
      "metadata": {
        "id": "8IxxyQmJ2ToD"
      },
      "source": [
        "Dapat dilakukan juga pada array dua dimensi"
      ]
    },
    {
      "cell_type": "code",
      "execution_count": 76,
      "metadata": {
        "id": "mi_3meevDSll"
      },
      "outputs": [],
      "source": [
        "grid = np.array([[1, 2, 3],\n",
        "                 [4, 5, 6]])"
      ]
    },
    {
      "cell_type": "code",
      "execution_count": 77,
      "metadata": {
        "colab": {
          "base_uri": "https://localhost:8080/"
        },
        "id": "0VJg6l1qDqGE",
        "outputId": "8a7e3384-104d-41b2-e8fb-b91eed998289"
      },
      "outputs": [
        {
          "data": {
            "text/plain": [
              "array([[1, 2, 3],\n",
              "       [4, 5, 6],\n",
              "       [1, 2, 3],\n",
              "       [4, 5, 6]])"
            ]
          },
          "execution_count": 77,
          "metadata": {},
          "output_type": "execute_result"
        }
      ],
      "source": [
        "# concatenate along the first axis\n",
        "np.concatenate([grid, grid])"
      ]
    },
    {
      "cell_type": "markdown",
      "metadata": {
        "id": "YEQFAVBx2esA"
      },
      "source": [
        "Jika kita mengaktifkan `axis=1` maka array akan di concat secara horizontal"
      ]
    },
    {
      "cell_type": "code",
      "execution_count": 82,
      "metadata": {
        "colab": {
          "base_uri": "https://localhost:8080/"
        },
        "id": "lEvTCLAdDqo_",
        "outputId": "99427a90-52d3-4729-8dcf-7ce1c0ee541a"
      },
      "outputs": [
        {
          "data": {
            "text/plain": [
              "array([[1, 2, 3, 1, 2, 3],\n",
              "       [4, 5, 6, 4, 5, 6]])"
            ]
          },
          "execution_count": 82,
          "metadata": {},
          "output_type": "execute_result"
        }
      ],
      "source": [
        "# concatenate along the second axis (zero-indexed)\n",
        "np.concatenate([grid, grid], axis=1)"
      ]
    },
    {
      "cell_type": "markdown",
      "metadata": {
        "id": "ZLXn8HUU2qMB"
      },
      "source": [
        "Jika kita bekerja dengan array mixed dimensions, maka akan lebih mudah dan jelas jika kita menggunakan `np.vstack` (untuk melakukan stacking/concat secara vertikal) dan `np.hstack` (untuk melakukan stacking/concat secara horizontal)"
      ]
    },
    {
      "cell_type": "code",
      "execution_count": 83,
      "metadata": {
        "colab": {
          "base_uri": "https://localhost:8080/"
        },
        "id": "FZmpUqEdDtGv",
        "outputId": "d5d83c78-26ac-4852-e701-fd2053a1ef9d"
      },
      "outputs": [
        {
          "data": {
            "text/plain": [
              "array([[1, 2, 3],\n",
              "       [9, 8, 7],\n",
              "       [6, 5, 4]])"
            ]
          },
          "execution_count": 83,
          "metadata": {},
          "output_type": "execute_result"
        }
      ],
      "source": [
        "x = np.array([1, 2, 3])\n",
        "grid = np.array([[9, 8, 7],\n",
        "                 [6, 5, 4]])\n",
        "\n",
        "# vertically stack the arrays\n",
        "np.vstack([x, grid])"
      ]
    },
    {
      "cell_type": "code",
      "execution_count": null,
      "metadata": {
        "colab": {
          "base_uri": "https://localhost:8080/"
        },
        "id": "5p5VRBY0Du7R",
        "outputId": "9d168949-8f0f-449d-d6fe-05299587dbea"
      },
      "outputs": [
        {
          "data": {
            "text/plain": [
              "array([[ 9,  8,  7, 99],\n",
              "       [ 6,  5,  4, 99]])"
            ]
          },
          "execution_count": 52,
          "metadata": {},
          "output_type": "execute_result"
        }
      ],
      "source": [
        "# horizontally stack the arrays\n",
        "y = np.array([[99],\n",
        "              [99]])\n",
        "np.hstack([grid, y])"
      ]
    },
    {
      "cell_type": "markdown",
      "metadata": {
        "id": "wpo28WUtDX-1"
      },
      "source": [
        "## Splitting of Arrays\n",
        "\n",
        "Pada data array, lawan dari concat/join/stack adalah splitting, dimana pada Numpy, splitting diimplementasi dengan function `np.split`, `np.hsplit` dan `np.vsplit`"
      ]
    },
    {
      "cell_type": "code",
      "execution_count": 84,
      "metadata": {
        "colab": {
          "base_uri": "https://localhost:8080/"
        },
        "id": "QWwdOue2DU02",
        "outputId": "9160154f-02c0-44a9-f489-4495beddc5e7"
      },
      "outputs": [
        {
          "name": "stdout",
          "output_type": "stream",
          "text": [
            "[1 2] [1 2] [1 2]\n"
          ]
        }
      ],
      "source": [
        "x = [1, 2, 1, 2, 1, 2]\n",
        "x1, x2, x3 = np.split(x, [2,4])\n",
        "print(x1, x2, x3)"
      ]
    },
    {
      "cell_type": "code",
      "execution_count": 34,
      "metadata": {
        "colab": {
          "base_uri": "https://localhost:8080/"
        },
        "id": "n3b3-_RxDe9N",
        "outputId": "0fbf2aa1-3320-4b01-87cf-6d4fe1265aeb"
      },
      "outputs": [
        {
          "data": {
            "text/plain": [
              "array([[ 0,  1,  2,  3],\n",
              "       [ 4,  5,  6,  7],\n",
              "       [ 8,  9, 10, 11],\n",
              "       [12, 13, 14, 15]])"
            ]
          },
          "execution_count": 34,
          "metadata": {},
          "output_type": "execute_result"
        }
      ],
      "source": [
        "grid = np.arange(16).reshape((4, 4))\n",
        "grid\n"
      ]
    },
    {
      "cell_type": "code",
      "execution_count": null,
      "metadata": {
        "colab": {
          "base_uri": "https://localhost:8080/"
        },
        "id": "9xg8qTpuDgJD",
        "outputId": "9eb2ef36-d10a-48ec-d8ba-8c5a0ea3bae8"
      },
      "outputs": [
        {
          "name": "stdout",
          "output_type": "stream",
          "text": [
            "[[0 1 2 3]\n",
            " [4 5 6 7]]\n",
            "[[ 8  9 10 11]\n",
            " [12 13 14 15]]\n"
          ]
        }
      ],
      "source": [
        "upper, lower = np.vsplit(grid, [2])\n",
        "print(upper)\n",
        "print(lower)"
      ]
    },
    {
      "cell_type": "code",
      "execution_count": null,
      "metadata": {
        "colab": {
          "base_uri": "https://localhost:8080/"
        },
        "id": "3SM-G2o9Dh9j",
        "outputId": "7c04058b-2b3c-4832-d26b-013e3b9ae278"
      },
      "outputs": [
        {
          "name": "stdout",
          "output_type": "stream",
          "text": [
            "[[ 0  1]\n",
            " [ 4  5]\n",
            " [ 8  9]\n",
            " [12 13]]\n",
            "[[ 2  3]\n",
            " [ 6  7]\n",
            " [10 11]\n",
            " [14 15]]\n"
          ]
        }
      ],
      "source": [
        "left, right = np.hsplit(grid, [2])\n",
        "print(left)\n",
        "print(right)"
      ]
    },
    {
      "cell_type": "code",
      "execution_count": null,
      "metadata": {
        "id": "DLPbv-A3DjW5"
      },
      "outputs": [],
      "source": []
    }
  ],
  "metadata": {
    "colab": {
      "collapsed_sections": [],
      "name": "2-1 Intro to Numpy.ipynb",
      "provenance": []
    },
    "kernelspec": {
      "display_name": "Python 3",
      "language": "python",
      "name": "python3"
    },
    "language_info": {
      "codemirror_mode": {
        "name": "ipython",
        "version": 3
      },
      "file_extension": ".py",
      "mimetype": "text/x-python",
      "name": "python",
      "nbconvert_exporter": "python",
      "pygments_lexer": "ipython3",
      "version": "3.10.5"
    },
    "vscode": {
      "interpreter": {
        "hash": "aee8b7b246df8f9039afb4144a1f6fd8d2ca17a180786b69acc140d282b71a49"
      }
    }
  },
  "nbformat": 4,
  "nbformat_minor": 0
}
