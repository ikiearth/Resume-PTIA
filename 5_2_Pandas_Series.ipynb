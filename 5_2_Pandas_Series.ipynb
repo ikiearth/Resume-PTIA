{
  "cells": [
    {
      "cell_type": "markdown",
      "metadata": {
        "id": "wQgx2-NK0ycR"
      },
      "source": [
        "# **Series** - Pandas Data Structure"
      ]
    },
    {
      "cell_type": "markdown",
      "metadata": {
        "id": "L70opoAA1dMw"
      },
      "source": [
        "---\n",
        "## Intro\n",
        "\n",
        "\n",
        "Struktur data (baik yang sederhana atau kompleks) dapat tersusun atas beberapa *array* berukuran **1 dimensi**. Dapat mengontrol dan mengoperasikan secara penuh struktur data ini, membuat kita dapat memaksimalkan pengolahan data dalam *data wrangling*\n",
        "<br><br>\n",
        "Dalam **Pandas**, struktur data terkecil ini dinamakan **Series**"
      ]
    },
    {
      "cell_type": "markdown",
      "metadata": {
        "id": "JD_TBHRA2yhx"
      },
      "source": [
        "<img src=\"https://drive.google.com/uc?export=view&id=1bWZ-ysctcAL-KvSdxp66F0f1J7-MQu2a\" alt=\"Drawing\" width= 750px;/>\n",
        "\n",
        "<small>[Source](https://drive.google.com/file/d/1bWZ-ysctcAL-KvSdxp66F0f1J7-MQu2a/view?usp=sharing)</small>"
      ]
    },
    {
      "cell_type": "markdown",
      "metadata": {
        "id": "7cV5VzAf3JUf"
      },
      "source": [
        "* Secara teori, *Pandas Series* adalah *array* **1 dimensi** yang dapat menyimpan data dengan **tipe apapun**.\n",
        "* Dalam Ms. Excel, 1 kolom merepresentasikan sebuah *series*.\n",
        "* Maka, **Passenger ID**, **Survived**, atau **Name** merupakan contoh dari *Series*."
      ]
    },
    {
      "cell_type": "markdown",
      "metadata": {
        "id": "KmLJoFucCR7S"
      },
      "source": [
        "Kali ini, kita akan mempelajari beberapa hal sebagai berikut:\n",
        "1. Membuat *Series*\n",
        "2. Atribut dan *method* dari *Series*\n",
        "3. Mengoperasikan *Series*"
      ]
    },
    {
      "cell_type": "markdown",
      "metadata": {
        "id": "gJZyM-o0BL4r"
      },
      "source": [
        "Sebelum melanjutkan, silahkan *import library Pandas* terlebih dahulu."
      ]
    },
    {
      "cell_type": "code",
      "execution_count": 14,
      "metadata": {
        "id": "M40g8mbPBSzR"
      },
      "outputs": [],
      "source": [
        "# import library pandas dan dipanggil dengan command 'pd'\n",
        "import pandas as pd"
      ]
    },
    {
      "cell_type": "markdown",
      "metadata": {
        "id": "lO3OI-uM6ET8"
      },
      "source": [
        "---\n",
        "## Membuat *Series*"
      ]
    },
    {
      "cell_type": "markdown",
      "metadata": {
        "id": "-6jdskeoDtf-"
      },
      "source": [
        "Membuat *Pandas Series* dapat dilakukan dengan beberapa metode berikut:\n",
        "1. Dari *Python List*\n",
        "2. Dari *Python Dictionary*\n"
      ]
    },
    {
      "cell_type": "markdown",
      "metadata": {
        "id": "x7KqeEjTBD_X"
      },
      "source": [
        "---\n",
        "1. *Series* dapat dibuat dari **Python List**"
      ]
    },
    {
      "cell_type": "code",
      "execution_count": 4,
      "metadata": {
        "colab": {
          "base_uri": "https://localhost:8080/"
        },
        "id": "40d9KiDb02qw",
        "outputId": "8b46f56d-742a-4ad2-decf-8ac91f35997f"
      },
      "outputs": [
        {
          "name": "stdout",
          "output_type": "stream",
          "text": [
            "Series Angka = [1, 2.2, 3, 0.4, 5]\n",
            "tipe objek   = <class 'list'>\n"
          ]
        }
      ],
      "source": [
        "# List dengan tipe angka\n",
        "list_angka = [1, 2.2, 3, 0.4, 5]\n",
        "\n",
        "print(f\"Series Angka = {list_angka}\")\n",
        "print(f\"tipe objek   = {type(list_angka)}\")"
      ]
    },
    {
      "cell_type": "code",
      "execution_count": 5,
      "metadata": {
        "colab": {
          "base_uri": "https://localhost:8080/"
        },
        "id": "SjICBRZQBeGY",
        "outputId": "9ccec7e2-648d-4f99-e865-661620c40e04"
      },
      "outputs": [
        {
          "data": {
            "text/plain": [
              "0    1.0\n",
              "1    2.2\n",
              "2    3.0\n",
              "3    0.4\n",
              "4    5.0\n",
              "dtype: float64"
            ]
          },
          "execution_count": 5,
          "metadata": {},
          "output_type": "execute_result"
        }
      ],
      "source": [
        "# Series dari list_angka\n",
        "series_angka = pd.Series(data=list_angka)\n",
        "series_angka"
      ]
    },
    {
      "cell_type": "markdown",
      "metadata": {
        "id": "XourCEUuBkwx"
      },
      "source": [
        "Gambar di atas adalah bentuk *Pandas Series* yang berisi *index*, *value*, dan *data type (dtype)*\n",
        "<br><br>\n",
        "* Angka `0, 1, 2, 3, 4` dinamakan **index** dari `series_angka`\n",
        "* `1.0, 2.2, 3.0, 0.4, 5.0` adalah **value** dari `series_angka`\n",
        "* `dtype` adalah tipe data dari `series_angka`. Dapat bernilai *int64*, *float64*, atau *custom* untuk data string/campuran."
      ]
    },
    {
      "cell_type": "markdown",
      "metadata": {
        "id": "VcvL1WfsC10w"
      },
      "source": [
        "Kita dapat mengganti **index** dari *Series* yang dibuat dengan menggunakan `pd.Series(data=InputData, index=InputIndex)`"
      ]
    },
    {
      "cell_type": "code",
      "execution_count": 6,
      "metadata": {
        "colab": {
          "base_uri": "https://localhost:8080/"
        },
        "id": "AQVYV-hIC9Gz",
        "outputId": "e6b8449a-c1a1-4689-ce82-032be02d2026"
      },
      "outputs": [
        {
          "data": {
            "text/plain": [
              "a    1.0\n",
              "b    2.2\n",
              "c    3.0\n",
              "d    0.4\n",
              "e    5.0\n",
              "dtype: float64"
            ]
          },
          "execution_count": 6,
          "metadata": {},
          "output_type": "execute_result"
        }
      ],
      "source": [
        "# Index yang ingin kita gunakan\n",
        "nama_index = ['a', 'b', 'c', 'd', 'e']\n",
        "\n",
        "series_angka = pd.Series(data=list_angka, index=nama_index)\n",
        "series_angka"
      ]
    },
    {
      "cell_type": "markdown",
      "metadata": {
        "id": "iEKd2DrfI3vY"
      },
      "source": [
        "Panjang **Index** harus sama dengan panjang data input atau akan terjadi error"
      ]
    },
    {
      "cell_type": "code",
      "execution_count": 7,
      "metadata": {
        "colab": {
          "base_uri": "https://localhost:8080/",
          "height": 364
        },
        "id": "kz8dRlQPIvPL",
        "outputId": "65f98e7d-f8df-4fb3-f4c3-13be5d849de0"
      },
      "outputs": [
        {
          "data": {
            "text/plain": [
              "a    1.0\n",
              "b    2.2\n",
              "c    3.0\n",
              "d    0.4\n",
              "e    5.0\n",
              "dtype: float64"
            ]
          },
          "execution_count": 7,
          "metadata": {},
          "output_type": "execute_result"
        }
      ],
      "source": [
        "nama_index = ['a', 'b', 'c', 'd', 'e']\n",
        "\n",
        "series_angka = pd.Series(data=list_angka, index=nama_index)\n",
        "series_angka"
      ]
    },
    {
      "cell_type": "code",
      "execution_count": 8,
      "metadata": {},
      "outputs": [
        {
          "data": {
            "text/plain": [
              "pandas.core.series.Series"
            ]
          },
          "execution_count": 8,
          "metadata": {},
          "output_type": "execute_result"
        }
      ],
      "source": [
        "type(series_angka)"
      ]
    },
    {
      "cell_type": "markdown",
      "metadata": {
        "id": "nXoCqshyE1Zf"
      },
      "source": [
        "Untuk mengakses **index** dari *series* dapat memanggil atribut `index` dari *Pandas Series*"
      ]
    },
    {
      "cell_type": "code",
      "execution_count": null,
      "metadata": {
        "colab": {
          "base_uri": "https://localhost:8080/"
        },
        "id": "-9wziHXEFAZL",
        "outputId": "5e8eae4c-08bb-43e5-c5e0-ba9c94ea9fe0"
      },
      "outputs": [
        {
          "data": {
            "text/plain": [
              "Index(['a', 'b', 'c', 'd', 'e'], dtype='object')"
            ]
          },
          "execution_count": 6,
          "metadata": {},
          "output_type": "execute_result"
        }
      ],
      "source": [
        "series_angka.index"
      ]
    },
    {
      "cell_type": "markdown",
      "metadata": {
        "id": "AeU-eHXyEN34"
      },
      "source": [
        "---\n",
        "2. *Series* dapat dibuat dari **Python Dictionary**"
      ]
    },
    {
      "cell_type": "code",
      "execution_count": null,
      "metadata": {
        "colab": {
          "base_uri": "https://localhost:8080/"
        },
        "id": "laJoIat3EdOr",
        "outputId": "8e12bf7d-1924-4383-9894-be6fe1b44797"
      },
      "outputs": [
        {
          "data": {
            "text/plain": [
              "Jawa        [Bandung, Jakarta]\n",
              "Sumatera      [Riau, Bengkulu]\n",
              "dtype: object"
            ]
          },
          "execution_count": 7,
          "metadata": {},
          "output_type": "execute_result"
        }
      ],
      "source": [
        "# Buat dictionary\n",
        "dict_kota = {\"Jawa\": [\"Bandung\", \"Jakarta\"],\n",
        "             \"Sumatera\": [\"Riau\", \"Bengkulu\"]}\n",
        "\n",
        "series_kota = pd.Series(data=dict_kota)\n",
        "series_kota"
      ]
    },
    {
      "cell_type": "code",
      "execution_count": null,
      "metadata": {
        "colab": {
          "base_uri": "https://localhost:8080/"
        },
        "id": "1feum-38FPl3",
        "outputId": "c7558862-4143-4020-dbb1-758f282778ae"
      },
      "outputs": [
        {
          "data": {
            "text/plain": [
              "Index(['Jawa', 'Sumatera'], dtype='object')"
            ]
          },
          "execution_count": 8,
          "metadata": {},
          "output_type": "execute_result"
        }
      ],
      "source": [
        "series_kota.index"
      ]
    },
    {
      "cell_type": "markdown",
      "metadata": {
        "id": "za_hwIB6FOOX"
      },
      "source": [
        "Terlihat **key** dari *dictionary* menjadi **index** dari *Series*"
      ]
    },
    {
      "cell_type": "markdown",
      "metadata": {
        "id": "E4MjkPOLJXtR"
      },
      "source": [
        "---\n",
        "**Latihan**"
      ]
    },
    {
      "cell_type": "markdown",
      "metadata": {
        "id": "sY0f36mwJb3V"
      },
      "source": [
        "1. Buatlah *series* 10 bilangan ganjil berurutan"
      ]
    },
    {
      "cell_type": "code",
      "execution_count": 46,
      "metadata": {
        "id": "Y5akwkAhJT2I"
      },
      "outputs": [
        {
          "data": {
            "text/plain": [
              "pandas.core.series.Series"
            ]
          },
          "execution_count": 46,
          "metadata": {},
          "output_type": "execute_result"
        }
      ],
      "source": [
        "## input jawaban anda disini\n",
        "\n",
        "list_ganjil = [1,3,5,7,9,11,13,15,17,19]\n",
        "pd_series = pd.Series(list_ganjil)\n",
        "type(pd_series)"
      ]
    },
    {
      "cell_type": "markdown",
      "metadata": {
        "id": "9GqleJixKQ21"
      },
      "source": [
        "2. Ambil index dari *series* berikut"
      ]
    },
    {
      "cell_type": "code",
      "execution_count": 26,
      "metadata": {
        "id": "O3tQbLc4KU6m"
      },
      "outputs": [],
      "source": [
        "# series gaji pegawai (dalam juta Rupiah)\n",
        "series_gaji = pd.Series({\"Ahmad\": 19,\n",
        "                         \"Budi\": 30,\n",
        "                         \"Broskuy\": 20})\n",
        "\n",
        "# Print index dari series_gaji\n",
        "## input jawaban anda disini"
      ]
    },
    {
      "cell_type": "markdown",
      "metadata": {
        "id": "_RCWIT5UEQRs"
      },
      "source": [
        "---\n",
        "## Atribut & *Method* *Series*"
      ]
    },
    {
      "cell_type": "markdown",
      "metadata": {
        "id": "aBHtnPLrIXOT"
      },
      "source": [
        "Mengacu pada [Pandas](https://pandas.pydata.org/pandas-docs/stable/reference/api/pandas.Series.html), *Series* memiliki cukup banyak atribut & *methods*. Berikut adalah beberapa contoh atribut & *methods* yang sering digunakan"
      ]
    },
    {
      "cell_type": "markdown",
      "metadata": {
        "id": "fQ49vKWRK_EA"
      },
      "source": [
        "---\n",
        "Beberapa atribut yang sering digunakan dalam *series* antara lain:"
      ]
    },
    {
      "cell_type": "markdown",
      "metadata": {
        "id": "S87yrK1_NP79"
      },
      "source": [
        "| Atribut | Fungsi |\n",
        "| --- | --- |\n",
        "| `dtype` | *return* tipe data dari *Series* |\n",
        "| `index` | *return* *index* dari *Series* |\n",
        "| `size` | *return* ukuran data dari *Series* |\n",
        "| `values` | *return* values/nilai dari *Series* |"
      ]
    },
    {
      "cell_type": "code",
      "execution_count": 49,
      "metadata": {
        "colab": {
          "base_uri": "https://localhost:8080/"
        },
        "id": "sTPXET7EObh5",
        "outputId": "6a4d47f8-7fb7-41bc-9202-52d51bedf14c"
      },
      "outputs": [
        {
          "data": {
            "text/plain": [
              "a     1.2\n",
              "b     8.0\n",
              "c     9.0\n",
              "d     4.0\n",
              "e     4.0\n",
              "f    10.0\n",
              "dtype: float64"
            ]
          },
          "execution_count": 49,
          "metadata": {},
          "output_type": "execute_result"
        }
      ],
      "source": [
        "series_data = pd.Series(data=[1.2, 8.0, 9.0, 4.0, 4.0, 10.0], \n",
        "                        index=['a', 'b', 'c', 'd', 'e', 'f'])\n",
        "series_data"
      ]
    },
    {
      "cell_type": "code",
      "execution_count": null,
      "metadata": {
        "colab": {
          "base_uri": "https://localhost:8080/"
        },
        "id": "VPqDIbY9OvR5",
        "outputId": "695892b8-ff57-43da-d1a2-99152552528a"
      },
      "outputs": [
        {
          "name": "stdout",
          "output_type": "stream",
          "text": [
            "Berikut adalah atribut dari series_data\n",
            "\n",
            "tipe     = float64\n",
            "index    = ['a', 'b', 'c', 'd', 'e', 'f']\n",
            "ukuran   = 6\n",
            "values   = [ 1.2  8.   9.   4.   4.  10. ]\n"
          ]
        }
      ],
      "source": [
        "print(\"Berikut adalah atribut dari series_data\\n\")\n",
        "\n",
        "# Mengecek tipe dari series_data\n",
        "print(f\"tipe     = {series_data.dtype}\")\n",
        "\n",
        "# Mengecek index dari series_data\n",
        "print(f\"index    = {list(series_data.index)}\")\n",
        "\n",
        "# Mengecek ukuran dari series_data\n",
        "print(f\"ukuran   = {series_data.size}\")\n",
        "\n",
        "# Mengecek values dari series_data\n",
        "print(f\"values   = {series_data.values}\")"
      ]
    },
    {
      "cell_type": "markdown",
      "metadata": {
        "id": "-jZzsU6_QsmJ"
      },
      "source": [
        "---\n",
        "Beberapa *method* yang sering digunakan dalam *series* antara lain:"
      ]
    },
    {
      "cell_type": "markdown",
      "metadata": {
        "id": "i8rQfK1RSoW_"
      },
      "source": [
        "| *Method* | Fungsi |\n",
        "| --- | --- |\n",
        "| `.describe()` | *return* statistik dari *Series* |\n",
        "| `.sum()` | *return* jumlah nilai semua data dari *Series* |\n",
        "| `.mean()` | *return* rata-rata dari *Series* |\n",
        "| `.median()` | *return* median dari *Series* |\n",
        "| `.mode()` | *return* modus dari *Series* |\n",
        "| `.count()` | *return* banyaknya data dari *Series* |\n",
        "| `.unique()` | *return* array dari nilai unik pada *Series* |\n",
        "| `.value_counts()` | *return* jumlah objek unik dari *Series* |"
      ]
    },
    {
      "cell_type": "code",
      "execution_count": null,
      "metadata": {
        "colab": {
          "base_uri": "https://localhost:8080/"
        },
        "id": "p2eYVjmyMXCU",
        "outputId": "8b565dfa-9bd6-4ad0-b016-e3dd36c2acb1"
      },
      "outputs": [
        {
          "data": {
            "text/plain": [
              "count     6.000000\n",
              "mean      6.033333\n",
              "std       3.465064\n",
              "min       1.200000\n",
              "25%       4.000000\n",
              "50%       6.000000\n",
              "75%       8.750000\n",
              "max      10.000000\n",
              "dtype: float64"
            ]
          },
          "execution_count": 13,
          "metadata": {},
          "output_type": "execute_result"
        }
      ],
      "source": [
        "# Statistik dari series\n",
        "series_data.describe()"
      ]
    },
    {
      "cell_type": "code",
      "execution_count": null,
      "metadata": {
        "colab": {
          "base_uri": "https://localhost:8080/"
        },
        "id": "nkrYpj1ISPhc",
        "outputId": "6de69740-b70a-4f14-f7cb-4f01def073be"
      },
      "outputs": [
        {
          "name": "stdout",
          "output_type": "stream",
          "text": [
            "Nilai unik = [ 1.2  8.   9.   4.  10. ]\n",
            "Nilai unik = \n",
            "4.0     2\n",
            "1.2     1\n",
            "8.0     1\n",
            "9.0     1\n",
            "10.0    1\n",
            "dtype: int64\n"
          ]
        }
      ],
      "source": [
        "# Nilai unik dari series_data\n",
        "print(f\"Nilai unik = {series_data.unique()}\")\n",
        "\n",
        "# Banyak nilai unik dari series_data\n",
        "print(f\"Nilai unik = \\n{series_data.value_counts()}\")"
      ]
    },
    {
      "cell_type": "markdown",
      "metadata": {
        "id": "YVkzqM5hUYiA"
      },
      "source": [
        "---\n",
        "## Operasi Dasar *Series*"
      ]
    },
    {
      "cell_type": "markdown",
      "metadata": {
        "id": "VlDch-1mU_fm"
      },
      "source": [
        "Misal, kita ingin mengolah data populasi penduduk pada beberapa kota di Indonesia"
      ]
    },
    {
      "cell_type": "code",
      "execution_count": 32,
      "metadata": {
        "colab": {
          "base_uri": "https://localhost:8080/"
        },
        "id": "-iYAwDsPU-Vm",
        "outputId": "b3691030-0945-4e9a-939e-1b8028034c73"
      },
      "outputs": [
        {
          "data": {
            "text/plain": [
              "Jakarta     9.6\n",
              "Surabaya    2.7\n",
              "Medan       2.1\n",
              "Bandung     2.4\n",
              "Makassar    1.3\n",
              "dtype: float64"
            ]
          },
          "execution_count": 32,
          "metadata": {},
          "output_type": "execute_result"
        }
      ],
      "source": [
        "# Data populasi, dalam satuan Juta penduduk, ref: Sensus BPS 2010\n",
        "populasi = {\"Jakarta\": 9.6,\n",
        "            \"Surabaya\": 2.7,\n",
        "            \"Medan\": 2.1,\n",
        "            \"Bandung\": 2.4,\n",
        "            \"Makassar\": 1.3}\n",
        "\n",
        "series_pop = pd.Series(populasi)\n",
        "series_pop"
      ]
    },
    {
      "cell_type": "markdown",
      "metadata": {
        "id": "ICCdT0ZqU3s6"
      },
      "source": [
        "Untuk, **mengakses** data dari Series, dapat dilakukan dengan memanggil indeks *Series* (baik dalam bentuk Numerik ataupun Key). \n",
        "\n",
        "Misal kita ingin mendapat populasi kota Medan."
      ]
    },
    {
      "cell_type": "code",
      "execution_count": null,
      "metadata": {
        "colab": {
          "base_uri": "https://localhost:8080/"
        },
        "id": "WGSzGfC4UAH6",
        "outputId": "d1a1e6e7-101d-442a-e896-7228ca165673"
      },
      "outputs": [
        {
          "name": "stdout",
          "output_type": "stream",
          "text": [
            "Populasi kota Medan = 2.1 juta penduduk\n",
            "Populasi kota Medan = 2.1 juta penduduk\n"
          ]
        }
      ],
      "source": [
        "# Memanggil lewat indeks numerik\n",
        "pop_medan = series_pop[2]\n",
        "print(f\"Populasi kota Medan = {pop_medan} juta penduduk\")\n",
        "\n",
        "# Memanggil lewat indeks langsung\n",
        "pop_medan = series_pop[\"Medan\"]\n",
        "print(f\"Populasi kota Medan = {pop_medan} juta penduduk\")"
      ]
    },
    {
      "cell_type": "markdown",
      "metadata": {
        "id": "k_sRWEPqXQMa"
      },
      "source": [
        "Untuk **menambahkan**/**menghapus** data baru ke dalam *Series*, dapat dilakukan seperti menambahkan data baru pada *dictionary*"
      ]
    },
    {
      "cell_type": "code",
      "execution_count": null,
      "metadata": {
        "colab": {
          "base_uri": "https://localhost:8080/"
        },
        "id": "DDGliZZsWVWC",
        "outputId": "c384cbc5-dc3b-4960-b0d6-e33abfbf81f5"
      },
      "outputs": [
        {
          "name": "stdout",
          "output_type": "stream",
          "text": [
            "Jakarta     9.6\n",
            "Surabaya    2.7\n",
            "Medan       2.1\n",
            "Bandung     2.4\n",
            "Makassar    1.3\n",
            "Semarang    1.5\n",
            "dtype: float64\n"
          ]
        }
      ],
      "source": [
        "# Menambahkan data populasi kota Semarang\n",
        "series_pop[\"Semarang\"] = 1.5\n",
        "print(series_pop)"
      ]
    },
    {
      "cell_type": "code",
      "execution_count": null,
      "metadata": {
        "colab": {
          "base_uri": "https://localhost:8080/"
        },
        "id": "24a_LSznXm0s",
        "outputId": "8733cf16-adff-47f6-b3ae-ea10e00a491d"
      },
      "outputs": [
        {
          "name": "stdout",
          "output_type": "stream",
          "text": [
            "Jakarta     9.6\n",
            "Surabaya    2.7\n",
            "Medan       2.1\n",
            "Bandung     2.4\n",
            "Semarang    1.5\n",
            "dtype: float64\n"
          ]
        }
      ],
      "source": [
        "# Menghapus data populasi kota Makassar\n",
        "del series_pop[\"Makassar\"]\n",
        "print(series_pop)"
      ]
    },
    {
      "cell_type": "markdown",
      "metadata": {
        "id": "XFD4KgQShJch"
      },
      "source": [
        "Bagaimana kalau kita ingin **meng-update** nilai baru populasi kota Surabaya?\n",
        "\n",
        "Hal tersebut dapat dilakukan dengan cara mengakses data kota Surabaya dan *reassign* nilainya"
      ]
    },
    {
      "cell_type": "code",
      "execution_count": 11,
      "metadata": {
        "colab": {
          "base_uri": "https://localhost:8080/"
        },
        "id": "VQWyhe-whCM8",
        "outputId": "3c6ed08b-5770-4fc4-c702-0bcc7d3816d3"
      },
      "outputs": [
        {
          "name": "stdout",
          "output_type": "stream",
          "text": [
            "Jakarta     9.6\n",
            "Surabaya    3.4\n",
            "Medan       2.1\n",
            "Bandung     2.4\n",
            "Makassar    1.3\n",
            "dtype: float64\n"
          ]
        }
      ],
      "source": [
        "series_pop[\"Surabaya\"] = 3.4\n",
        "print(series_pop)"
      ]
    },
    {
      "cell_type": "markdown",
      "metadata": {
        "id": "pmeZRJczhpzW"
      },
      "source": [
        "Terakhir, untuk mendapatkan jumlah total seluruh penduduk dari kota pada *Series* dapat dilakukan dengan *method* `.sum()`"
      ]
    },
    {
      "cell_type": "code",
      "execution_count": null,
      "metadata": {
        "colab": {
          "base_uri": "https://localhost:8080/"
        },
        "id": "r5aG-0yjhlrw",
        "outputId": "68778708-8597-47eb-9bf3-7a3d35d4d427"
      },
      "outputs": [
        {
          "name": "stdout",
          "output_type": "stream",
          "text": [
            "Jumlah total penduduk adalah 19.0 juta jiwa\n"
          ]
        }
      ],
      "source": [
        "total_penduduk = series_pop.sum()\n",
        "print(f\"Jumlah total penduduk adalah {total_penduduk} juta jiwa\")"
      ]
    },
    {
      "cell_type": "markdown",
      "metadata": {
        "id": "-k6zGcvIiOws"
      },
      "source": [
        "---\n",
        "**Latihan**"
      ]
    },
    {
      "cell_type": "markdown",
      "metadata": {
        "id": "yomQZ3-XiQnI"
      },
      "source": [
        "Menggunakan data kependudukan terakhir, lakukan:\n",
        "1. *Update* populasi kota Semarang menjadi 2.4 juta jiwa penduduk"
      ]
    },
    {
      "cell_type": "code",
      "execution_count": 38,
      "metadata": {
        "id": "NEjQqy41h8s4"
      },
      "outputs": [
        {
          "data": {
            "text/plain": [
              "Jakarta     9.6\n",
              "Surabaya    2.7\n",
              "Medan       2.1\n",
              "Bandung     2.4\n",
              "Makassar    1.3\n",
              "Semarang    2.4\n",
              "dtype: float64"
            ]
          },
          "execution_count": 38,
          "metadata": {},
          "output_type": "execute_result"
        }
      ],
      "source": [
        "## input jawaban anda disini\n",
        "\n",
        "series_pop['Semarang'] = 2.4\n",
        "series_pop"
      ]
    },
    {
      "cell_type": "markdown",
      "metadata": {
        "id": "ECia6Jbdie9J"
      },
      "source": [
        "2. Cari rata-rata penduduk dari kota yang ada pada *series*"
      ]
    },
    {
      "cell_type": "code",
      "execution_count": 39,
      "metadata": {
        "id": "aXs0WvOrikRY"
      },
      "outputs": [
        {
          "data": {
            "text/plain": [
              "3.4166666666666665"
            ]
          },
          "execution_count": 39,
          "metadata": {},
          "output_type": "execute_result"
        }
      ],
      "source": [
        "## input jawaban anda disini\n",
        "\n",
        "series_pop.mean()"
      ]
    }
  ],
  "metadata": {
    "colab": {
      "collapsed_sections": [],
      "name": "5-2 Pandas Series.ipynb",
      "provenance": []
    },
    "kernelspec": {
      "display_name": "Python 3",
      "language": "python",
      "name": "python3"
    },
    "language_info": {
      "codemirror_mode": {
        "name": "ipython",
        "version": 3
      },
      "file_extension": ".py",
      "mimetype": "text/x-python",
      "name": "python",
      "nbconvert_exporter": "python",
      "pygments_lexer": "ipython3",
      "version": "3.10.5"
    },
    "vscode": {
      "interpreter": {
        "hash": "aee8b7b246df8f9039afb4144a1f6fd8d2ca17a180786b69acc140d282b71a49"
      }
    }
  },
  "nbformat": 4,
  "nbformat_minor": 0
}
