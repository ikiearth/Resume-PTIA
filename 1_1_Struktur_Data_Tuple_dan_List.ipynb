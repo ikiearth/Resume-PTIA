{
  "cells": [
    {
      "cell_type": "markdown",
      "metadata": {
        "id": "LEUdRolfwERg"
      },
      "source": [
        "Pada sesi ini akan dibahas materi mengenai struktur data sederhana dalam python, yaitu:\n",
        "* Tuple\n",
        "* List\n",
        "* Set\n",
        "* Dictionary\n",
        "\n",
        "Lebih detailnya, pada sesi ini akan dijelaskan apa itu struktur data, operasi apa yang dapat dilakukan, serta cara menggunakan struktur data yang tepat. Selain itu akan dijelaskan juga mengenai konsep mutability, cloning, dan aliasing."
      ]
    },
    {
      "cell_type": "markdown",
      "metadata": {
        "id": "vuLt59UIvYKz"
      },
      "source": [
        "---\n",
        "# Struktur Data\n",
        "Tipe data berupa:\n",
        "* Float dan integer (angka)\n",
        "* String (teks)\n",
        "\n",
        "Hanya berlaku untuk satu data. Bagaimana kalau kita punya 10 kumpulan angka?"
      ]
    },
    {
      "cell_type": "markdown",
      "metadata": {
        "id": "83NSKrmiBePZ"
      },
      "source": [
        "Untuk mengorganisir kumpulan dari data, digunakan **struktur data**\n",
        "\n",
        "Secara formal, ide utama dari **struktur data** adalah:\n",
        "* Cara penyimpanan, penyusunan, atau pengaturan data.\n",
        "* Bertujuan agar data dapat digunakan secara efisien "
      ]
    },
    {
      "cell_type": "markdown",
      "metadata": {
        "id": "-lJcUeXywPNT"
      },
      "source": [
        "---\n",
        "# List dan Tuple\n",
        "Di dalam Python, 2 jenis struktur data yang paling sederhana adalah Tuple dan List."
      ]
    },
    {
      "cell_type": "markdown",
      "metadata": {
        "id": "ge-bFRRaFbv7"
      },
      "source": [
        "---\n",
        "## Tuple"
      ]
    },
    {
      "cell_type": "markdown",
      "metadata": {
        "id": "uzQ5h6eSFbv8"
      },
      "source": [
        "* Tuple merupakan sebuah struktur data yang dapat terdiri dari beberapa elemen yang memiliki urutan. \n",
        "* Tuple pada Python direpresentasikan dengan tanda kurung `()`."
      ]
    },
    {
      "cell_type": "code",
      "execution_count": null,
      "metadata": {
        "colab": {
          "base_uri": "https://localhost:8080/"
        },
        "id": "AoRr9I87qOkp",
        "outputId": "06f99224-8118-4d1f-bd10-1844717d6294"
      },
      "outputs": [],
      "source": [
        "simple_tuple = (\"apple\", \"orange\", \"mango\")\n",
        "\n",
        "urutan_1 = simple_tuple[0]\n",
        "urutan_2 = simple_tuple[1]\n",
        "urutan_3 = simple_tuple[2]\n",
        "\n",
        "print(urutan_2)"
      ]
    },
    {
      "cell_type": "markdown",
      "metadata": {
        "id": "EoM0ABwcDTWs"
      },
      "source": [
        "* Tiap elemen dalam tuple dapat memiliki tipe data yang berbeda."
      ]
    },
    {
      "cell_type": "code",
      "execution_count": null,
      "metadata": {
        "colab": {
          "base_uri": "https://localhost:8080/"
        },
        "id": "4WOyJq6yDr9X",
        "outputId": "7a431368-9a79-4bce-a7c4-f6e8a399cd6b"
      },
      "outputs": [],
      "source": [
        "tuple_minuman = (\"es teh\",2,\"jus tomat\",1)\n",
        "print(tuple_minuman[0])"
      ]
    },
    {
      "cell_type": "markdown",
      "metadata": {
        "id": "nB5aFKScFbv8"
      },
      "source": [
        "* Tuple yang terdiri dari satu nilai akan memiliki tambahan tanda koma sebelum tanda kurung tutup `,)`."
      ]
    },
    {
      "cell_type": "code",
      "execution_count": null,
      "metadata": {
        "id": "TCNtF6ewFbv-"
      },
      "outputs": [],
      "source": [
        "ini_tuple = (6,)    # Tuple dengan 1 elemen\n",
        "ini_bukan_tuple = (9)    # Bukan tuple"
      ]
    },
    {
      "cell_type": "markdown",
      "metadata": {
        "id": "3X_c617hE5dr"
      },
      "source": [
        "Mari kita coba cek tipenya"
      ]
    },
    {
      "cell_type": "code",
      "execution_count": null,
      "metadata": {
        "colab": {
          "base_uri": "https://localhost:8080/"
        },
        "id": "oMbx-dXdE8iw",
        "outputId": "a5ac5674-988f-488e-b85b-4d694f7dba84"
      },
      "outputs": [],
      "source": [
        "type(ini_tuple)"
      ]
    },
    {
      "cell_type": "code",
      "execution_count": null,
      "metadata": {
        "colab": {
          "base_uri": "https://localhost:8080/"
        },
        "id": "uxTR_e8TFENc",
        "outputId": "3161f482-63ef-488a-a6f5-95b26c6e10fc"
      },
      "outputs": [],
      "source": [
        "type(ini_bukan_tuple)"
      ]
    },
    {
      "cell_type": "markdown",
      "metadata": {
        "id": "AK53gqDHlpgm"
      },
      "source": [
        "---\n",
        "**Exercise**"
      ]
    },
    {
      "cell_type": "code",
      "execution_count": null,
      "metadata": {
        "id": "RC10BtHbEEOr"
      },
      "outputs": [],
      "source": [
        "# Coba buat tuple yang berisi 3 makanan favorit anda\n",
        "mafa = ('sate','nasgor','bakwan')"
      ]
    },
    {
      "cell_type": "code",
      "execution_count": null,
      "metadata": {
        "colab": {
          "base_uri": "https://localhost:8080/"
        },
        "id": "twcbPq2X1viS",
        "outputId": "2e8ddefd-58aa-4147-ffa2-113ddfdf89d4"
      },
      "outputs": [],
      "source": [
        "type(mafa)"
      ]
    },
    {
      "cell_type": "markdown",
      "metadata": {
        "id": "pasfSXdLFbxJ"
      },
      "source": [
        "---\n",
        "## List"
      ]
    },
    {
      "cell_type": "markdown",
      "metadata": {
        "id": "nf5pOh3GFbxK"
      },
      "source": [
        "* List merupakan struktur data yang sangat mirip dengan tuple, di mana list dapat memiliki banyak elemen dengan urutan.\n",
        "* Sebuah list dalam python direpresentasikan dengan tanda kurung siku `[]`."
      ]
    },
    {
      "cell_type": "code",
      "execution_count": null,
      "metadata": {
        "id": "7hkiYPLDFbxL"
      },
      "outputs": [],
      "source": [
        "FirstList = []    # list kosong\n",
        "SecondList = [5,4,6,2,3]    # list dengan beberapa elemen\n",
        "ThirdList = [8]    # list dengan satu elemen"
      ]
    },
    {
      "cell_type": "markdown",
      "metadata": {
        "id": "Ysyb0GsZfv4I"
      },
      "source": [
        "* Sama seperti tuple, list dapat memiliki berbagai tipe didalamnya.\n",
        "* Namun, pada praktek umumnya sebuah list terdiri atas satu tipe elemen saja."
      ]
    },
    {
      "cell_type": "code",
      "execution_count": null,
      "metadata": {
        "id": "pO47RYPsgDZD"
      },
      "outputs": [],
      "source": [
        "list_beda = [2,'paperclips',3,'pencils']\n",
        "list_sama = ['tepung','gula','garam','telur']"
      ]
    },
    {
      "cell_type": "markdown",
      "metadata": {
        "id": "iWwVA4kdFbxK"
      },
      "source": [
        "Perbedaan kunci list dengan tuple adalah karakteristik list yang **MUTABLE**, di mana nilai elemen dalam list dapat diubah"
      ]
    },
    {
      "cell_type": "code",
      "execution_count": null,
      "metadata": {
        "id": "D-RumEF7hFr5"
      },
      "outputs": [],
      "source": [
        "ini_tuple = (1,3,5,7)\n",
        "ini_list = [1,3,5,7]"
      ]
    },
    {
      "cell_type": "code",
      "execution_count": null,
      "metadata": {
        "colab": {
          "base_uri": "https://localhost:8080/",
          "height": 183
        },
        "id": "tNy04rOhhNmN",
        "outputId": "ada30469-330a-4bd6-f76b-7e854ec2c347"
      },
      "outputs": [],
      "source": [
        "ini_tuple[0] = 25\n",
        "ini_tuple"
      ]
    },
    {
      "cell_type": "code",
      "execution_count": null,
      "metadata": {
        "colab": {
          "base_uri": "https://localhost:8080/"
        },
        "id": "OsPevjiphRxk",
        "outputId": "de78221b-899d-4161-f840-0764c4ed0639"
      },
      "outputs": [],
      "source": [
        "ini_list[0] = 25\n",
        "ini_list"
      ]
    },
    {
      "cell_type": "markdown",
      "metadata": {
        "id": "fpZN46LMFbw4"
      },
      "source": [
        "---\n",
        "## Penggunaan List dan Tuple\n",
        "* Secara umum, penggunaan tuple di Python cukup jarang.\n",
        "* Namun, tuple merupakan tipe struktur data yang paling cepat dalam segi waktu pemrosesan.\n",
        "* Tuple biasanya digunakan ketika perlu menyimpan data konstan yang tidak diubah.\n",
        "* Penggunaan lainnya adalah pada fungsi yang mengembalikan 2 elemen atau lebih.<br>\n",
        "* Sehingga, pada prakteknya untuk kebutuhan struktur data sederhana sering digunakan list.\n",
        "\n",
        "Berikut contoh fungsi yang menghitung hasil bagi dan sisa dari 2 angka input"
      ]
    },
    {
      "cell_type": "code",
      "execution_count": null,
      "metadata": {
        "id": "4iebh9Q3Fbw4"
      },
      "outputs": [],
      "source": [
        "def bagi_sisa(x,y):\n",
        "    b = x // y    # hitung hasil bagi\n",
        "    s = x % y     # hitung sisa\n",
        "    return (b,s)"
      ]
    },
    {
      "cell_type": "code",
      "execution_count": null,
      "metadata": {
        "colab": {
          "base_uri": "https://localhost:8080/"
        },
        "id": "jgCtxzADFbw6",
        "outputId": "1b79cf2b-dcf4-49c0-c208-f0b94327a011"
      },
      "outputs": [],
      "source": [
        "bagi_sisa(21,5)"
      ]
    },
    {
      "cell_type": "markdown",
      "metadata": {
        "id": "y1jpg_gEFbwA"
      },
      "source": [
        "---\n",
        "## Operasi pada Struktur Data\n",
        "* Operasi antara tuple dan list sangat mirip\n",
        "* Diberikan contoh pada list saja."
      ]
    },
    {
      "cell_type": "markdown",
      "metadata": {
        "id": "pLWQNqgcFbxN"
      },
      "source": [
        "---\n",
        "## Mengakses Elemen List"
      ]
    },
    {
      "cell_type": "markdown",
      "metadata": {
        "id": "PHFigFthFbxN"
      },
      "source": [
        "---\n",
        "### Indexing dan Slicing\n",
        "* Sama seperti tuple, elemen pada list dapat diakses dengan menggunakan indeks."
      ]
    },
    {
      "cell_type": "code",
      "execution_count": 69,
      "metadata": {
        "id": "8bo_2vmBFbxN"
      },
      "outputs": [
        {
          "data": {
            "text/plain": [
              "10"
            ]
          },
          "execution_count": 69,
          "metadata": {},
          "output_type": "execute_result"
        }
      ],
      "source": [
        "List_1 = [3,10,4,9,5,8,6,7]\n",
        "List_1[1]"
      ]
    },
    {
      "cell_type": "markdown",
      "metadata": {
        "id": "2Q_M5JnSkMPu"
      },
      "source": [
        "* Untuk *slicing*, operasi yang dilakukan juga sama"
      ]
    },
    {
      "cell_type": "code",
      "execution_count": 70,
      "metadata": {
        "id": "Gfs8CGkhFbxP"
      },
      "outputs": [
        {
          "data": {
            "text/plain": [
              "[9, 5, 8]"
            ]
          },
          "execution_count": 70,
          "metadata": {},
          "output_type": "execute_result"
        }
      ],
      "source": [
        "List_1[3:6] # mengambil indeks 3 sampai indeks 5"
      ]
    },
    {
      "cell_type": "code",
      "execution_count": 71,
      "metadata": {
        "id": "72vWSU-rFbxR"
      },
      "outputs": [
        {
          "data": {
            "text/plain": [
              "[4, 9, 5, 8]"
            ]
          },
          "execution_count": 71,
          "metadata": {},
          "output_type": "execute_result"
        }
      ],
      "source": [
        "List_1[-6:-2] # mengambil data ke-6 dari belakang sampai ke-3 dari belakang "
      ]
    },
    {
      "cell_type": "markdown",
      "metadata": {
        "id": "qizfzhxjqGDc"
      },
      "source": [
        "---\n",
        "**Exercise**"
      ]
    },
    {
      "cell_type": "code",
      "execution_count": null,
      "metadata": {
        "id": "woeIBDujlwpk"
      },
      "outputs": [],
      "source": [
        "# Ambillah indeks ke-7 dari belakang sampai ke-2 dari belakang pada list berikut\n",
        "list_2 = [1,1,2,3,5,8,13,21,34,55]\n",
        "\n",
        "print(list_2[-7:])\n",
        "print(list_2[-2:])"
      ]
    },
    {
      "cell_type": "markdown",
      "metadata": {
        "id": "1hyk32sclIOJ"
      },
      "source": [
        "---\n",
        "### Unpacking\n",
        "* Unpacking bisa dilakukan pada list.\n",
        "* Namun, untuk program yang kompleks hal ini tidak direkomendasikan."
      ]
    },
    {
      "cell_type": "code",
      "execution_count": null,
      "metadata": {
        "id": "mQPSIgVXmuyQ"
      },
      "outputs": [],
      "source": [
        "a,b,c = [1,3,5]\n",
        "print(a)\n",
        "print(b)\n",
        "print(c)"
      ]
    },
    {
      "cell_type": "markdown",
      "metadata": {
        "id": "9_QzlvhVm9Ht"
      },
      "source": [
        "Contoh error karena ruas kiri dan kanan tidak sama"
      ]
    },
    {
      "cell_type": "code",
      "execution_count": null,
      "metadata": {
        "id": "WOnxE3QNnBMC"
      },
      "outputs": [],
      "source": [
        "list_1 = [2,4,6,8]\n",
        "a,b = list_1"
      ]
    },
    {
      "cell_type": "markdown",
      "metadata": {
        "id": "wVuP7S8pqJON"
      },
      "source": [
        "**Exercise**"
      ]
    },
    {
      "cell_type": "code",
      "execution_count": null,
      "metadata": {
        "id": "5fhndmzZoNnt"
      },
      "outputs": [],
      "source": [
        "# Unpack list berikut kedalam 4 variabel berbeda\n",
        "snack = [\"sandwich\",\"cake\",\"biscuit\",\"chip\"]\n",
        "makanan1 = snack[0]\n",
        "makanan2 = snack[1]\n",
        "makanan3 = snack[2]\n",
        "makanan4 = snack[3]\n",
        "print(makanan1)\n",
        "print(makanan2)\n",
        "print(makanan3)\n",
        "print(makanan4)"
      ]
    },
    {
      "cell_type": "markdown",
      "metadata": {
        "id": "atk9j5apk5Bd"
      },
      "source": [
        "---\n",
        "### Looping\n",
        "* Untuk mengakses elemen di dalam list juga bisa digunakan looping, sama halnya dengan tuple."
      ]
    },
    {
      "cell_type": "code",
      "execution_count": 72,
      "metadata": {
        "id": "AOIuwLh8FbxT"
      },
      "outputs": [
        {
          "name": "stdout",
          "output_type": "stream",
          "text": [
            "STMJ\n",
            "Kopi\n",
            "Teh\n",
            "Bandrek\n"
          ]
        }
      ],
      "source": [
        "list_minuman =[\"STMJ\",\"Kopi\",\"Teh\",\"Bandrek\"]\n",
        "for i in list_minuman:\n",
        "    print(i)"
      ]
    },
    {
      "cell_type": "code",
      "execution_count": null,
      "metadata": {
        "id": "z8lsqWZXqOdQ"
      },
      "outputs": [],
      "source": [
        "for indeks, elemen in enumerate(list_minuman):\n",
        "    print('Indeks: {}, Elemen: {}'.format(indeks,elemen))"
      ]
    },
    {
      "cell_type": "markdown",
      "metadata": {
        "id": "DMThW96oFbxY"
      },
      "source": [
        "---\n",
        "## Operasi Dasar List"
      ]
    },
    {
      "cell_type": "markdown",
      "metadata": {
        "id": "mXnyXC1EFbxZ"
      },
      "source": [
        "### Penambahan, Pengulangan, Cek Elemen\n",
        "List dapat melakukan operasi dasar yang dilakukan pada tuple seperti:\n",
        "* Menambahkan list\n"
      ]
    },
    {
      "cell_type": "code",
      "execution_count": 73,
      "metadata": {
        "id": "8f7Wc83JHEMh"
      },
      "outputs": [
        {
          "data": {
            "text/plain": [
              "[1, 2, 3, 4, 5, 6]"
            ]
          },
          "execution_count": 73,
          "metadata": {},
          "output_type": "execute_result"
        }
      ],
      "source": [
        "[1,2,3]+[4,5,6]"
      ]
    },
    {
      "cell_type": "markdown",
      "metadata": {
        "id": "eZd4kp7xqqHY"
      },
      "source": [
        "**Exercise**"
      ]
    },
    {
      "cell_type": "code",
      "execution_count": 74,
      "metadata": {
        "id": "JrAgDmnUHVry"
      },
      "outputs": [
        {
          "data": {
            "text/plain": [
              "[3, 4, 5, 11, 10, 9]"
            ]
          },
          "execution_count": 74,
          "metadata": {},
          "output_type": "execute_result"
        }
      ],
      "source": [
        "# Tambahkan kedua list berikut\n",
        "a = [3,4,5]\n",
        "b = [11,10,9]\n",
        "\n",
        "a + b"
      ]
    },
    {
      "cell_type": "markdown",
      "metadata": {
        "id": "3nBU3kOWHeY6"
      },
      "source": [
        "---\n",
        "* Pengulangan dengan perkalian"
      ]
    },
    {
      "cell_type": "code",
      "execution_count": null,
      "metadata": {
        "id": "tHzt1sgsHoLx"
      },
      "outputs": [],
      "source": [
        "[\"halo\",\"hello\",\"hola\"]*3"
      ]
    },
    {
      "cell_type": "markdown",
      "metadata": {
        "id": "_zmVy7Hmn0JG"
      },
      "source": [
        "---\n",
        "* Mengecek elemen di dalam list"
      ]
    },
    {
      "cell_type": "code",
      "execution_count": 75,
      "metadata": {
        "id": "g1pdmEOHn3iA"
      },
      "outputs": [
        {
          "name": "stdout",
          "output_type": "stream",
          "text": [
            "True\n",
            "True\n"
          ]
        }
      ],
      "source": [
        "print( 2 in [1,2,4] )\n",
        "print( 'halo' in ['halo','apa','kabar'] )"
      ]
    },
    {
      "cell_type": "markdown",
      "metadata": {
        "id": "biixC6JFAGJF"
      },
      "source": [
        "---\n",
        "### Operasi karena mutabilitas\n",
        "\n",
        "Karena sifatnya yang mutable, elemen dalam sebuah list dapat dengan mudah diubah, ditambah, maupun dikurangi.\n",
        "\n",
        "Berikut beberapa operasi dasar lain yang dapat dilakukan pada list:"
      ]
    },
    {
      "cell_type": "markdown",
      "metadata": {
        "id": "iTpayWzRpiKK"
      },
      "source": [
        "---\n",
        "#### Mengganti elemen"
      ]
    },
    {
      "cell_type": "code",
      "execution_count": null,
      "metadata": {
        "id": "JglLN2GEFbxb"
      },
      "outputs": [],
      "source": [
        "NewList = [5,6,7,8,9,6]\n",
        "NewList[2] = 999    # ubah nilai elemen pada indeks 2\n",
        "NewList"
      ]
    },
    {
      "cell_type": "code",
      "execution_count": null,
      "metadata": {
        "id": "9X3yZR9xqjed"
      },
      "outputs": [],
      "source": [
        "# Gantilah elemen ketiga pada list ini dengan 30\n",
        "list_1 = [5,7,2,6,1,0]\n",
        "list_1[3] = 30\n",
        "list_1"
      ]
    },
    {
      "cell_type": "markdown",
      "metadata": {
        "id": "bwZ-Bx1Qsg8Q"
      },
      "source": [
        "---\n",
        "#### Menambahkan elemen baru pada list\n",
        "* Untuk menambahkan elemen baru dapat digunakan `.append()` : Menambahkan 1 elemen dibelakang.\n",
        "* Selain itu bisa juga digunakan `.extend()`: Menambahkan banyak elemen di belakang.\n",
        "* Atau juga dapat digunakan `.insert()`: Menambahkan elemen di posisi tertentu"
      ]
    },
    {
      "cell_type": "code",
      "execution_count": null,
      "metadata": {
        "id": "2QN-0zoZFbxg"
      },
      "outputs": [],
      "source": [
        "NewList = [5,6,7,8,9,6]\n",
        "NewList.append(123)    # tambah satu elemen baru ke list\n",
        "NewList"
      ]
    },
    {
      "cell_type": "code",
      "execution_count": null,
      "metadata": {
        "id": "X0AUjR_IFbxo"
      },
      "outputs": [],
      "source": [
        "ListOne = ['halo','apa','kabar']\n",
        "ListTwo = ['kabar','saya','baik']\n",
        "ListTwo.extend(ListOne)    # Menambahkan elemen pada list lain (ListTwo) ke dirinya sendiri (ListOne)\n",
        "ListTwo"
      ]
    },
    {
      "cell_type": "code",
      "execution_count": null,
      "metadata": {
        "id": "3UY0eOnbxi7i"
      },
      "outputs": [],
      "source": [
        "fruits = ['apple', 'banana', 'cherry']\n",
        "fruits.insert(1, \"orange\")\n",
        "fruits"
      ]
    },
    {
      "cell_type": "markdown",
      "metadata": {
        "id": "t9MrmHCaxjnQ"
      },
      "source": [
        "**Exercise**"
      ]
    },
    {
      "cell_type": "code",
      "execution_count": null,
      "metadata": {
        "id": "AqzIKHW1uBYF"
      },
      "outputs": [],
      "source": [
        "# Tambahkan list berikut dengan angka 10\n",
        "list_1 = [1,4,5,7,8]\n",
        "list_1.insert(1, 10)"
      ]
    },
    {
      "cell_type": "code",
      "execution_count": null,
      "metadata": {
        "id": "Loq-NPWS73ka"
      },
      "outputs": [],
      "source": [
        "list_1"
      ]
    },
    {
      "cell_type": "code",
      "execution_count": 81,
      "metadata": {
        "id": "9kcO2HE9uNGB"
      },
      "outputs": [
        {
          "data": {
            "text/plain": [
              "[1, 1, 2, 3, 5, 8, 13, 21, 34, 55, 89]"
            ]
          },
          "execution_count": 81,
          "metadata": {},
          "output_type": "execute_result"
        }
      ],
      "source": [
        "# Extend list pertama dengan list kedua\n",
        "list_pertama = [1,1,2,3,5]\n",
        "list_kedua = [8,13,21,34,55,89]\n",
        "list_pertama + list_kedua"
      ]
    },
    {
      "cell_type": "markdown",
      "metadata": {
        "id": "pPmIIMB2uxFn"
      },
      "source": [
        "---\n",
        "#### Menghapus elemen dari list\n",
        "\n",
        "* Cara pertama untuk menghapus elemen dari list adalah dengan menggunakan `.remove()`\n",
        "* Cara ini akan menghapus nilai elemen pertama yang bernilai di dalam `.remove()`."
      ]
    },
    {
      "cell_type": "code",
      "execution_count": null,
      "metadata": {
        "id": "-BkXykKZFbxj"
      },
      "outputs": [],
      "source": [
        "NewList = [5,6,7,8,9,6]\n",
        "NewList.remove(8)    # menghapus elemen bernilai 8 yang pertama\n",
        "NewList"
      ]
    },
    {
      "cell_type": "markdown",
      "metadata": {
        "id": "5hdE5IzgwkkV"
      },
      "source": [
        "Apa yang terjadi jika elemen tidak ada?"
      ]
    },
    {
      "cell_type": "code",
      "execution_count": null,
      "metadata": {
        "id": "foEyyeGIwodg"
      },
      "outputs": [],
      "source": [
        "sample_list = [1,2,3,4]\n",
        "sample_list.remove(7)\n",
        "sample_list"
      ]
    },
    {
      "cell_type": "code",
      "execution_count": null,
      "metadata": {
        "id": "xfrhE6AEwy9-"
      },
      "outputs": [],
      "source": [
        "# Hapus elemen bernilai 3 pada list berikut\n",
        "list_1 = [7,3,5,6]\n",
        "del(list_1[3])\n",
        "\n",
        "list_1"
      ]
    },
    {
      "cell_type": "markdown",
      "metadata": {
        "id": "hCFKPLcYw8zv"
      },
      "source": [
        "---\n",
        "* Cara kedua adalah dengan menggunakan `del()`\n",
        "* Cara ini biasanya digunakan ketika kita mengetahui indeks yang akan dihapus."
      ]
    },
    {
      "cell_type": "code",
      "execution_count": null,
      "metadata": {
        "id": "fMN0DSityUoT"
      },
      "outputs": [],
      "source": [
        "NewList = [5,6,7,8,9,6]\n",
        "del(NewList[1:4])    # menghapus elemen pada indeks 1,2,3\n",
        "NewList"
      ]
    },
    {
      "cell_type": "code",
      "execution_count": null,
      "metadata": {
        "id": "146q6LAJyrFA"
      },
      "outputs": [],
      "source": [
        "# Hapuslah elemen keempat pada list berikut\n",
        "list_1 = [2,4,6,8,10,12]\n",
        "del(list_1[4])"
      ]
    },
    {
      "cell_type": "code",
      "execution_count": null,
      "metadata": {
        "id": "d4Un0Y1D9rSH"
      },
      "outputs": [],
      "source": [
        "list_1"
      ]
    },
    {
      "cell_type": "markdown",
      "metadata": {
        "id": "BICUOX1yzVjz"
      },
      "source": [
        "---\n",
        "* Cara ketiga adalah dengan menggunakan `.pop()`\n",
        "* Secara default, `.pop()` mengambil nilai dari elemen terakhir.\n",
        "* Namun, bisa juga dispesifikasikan lokasi yang diambil"
      ]
    },
    {
      "cell_type": "code",
      "execution_count": null,
      "metadata": {
        "id": "Nc3RvQ8dFbxm"
      },
      "outputs": [],
      "source": [
        "NewList = [5,6,7,8,9,6]\n",
        "print('List before',NewList)\n",
        "LastEl = NewList.pop()    # mengambil elemen terakhir sekaligus menghapus elemen tersebut dari list\n",
        "print('last element:', LastEl)\n",
        "print('List after', NewList)\n"
      ]
    },
    {
      "cell_type": "code",
      "execution_count": null,
      "metadata": {
        "id": "WnsCB0dQ0H83"
      },
      "outputs": [],
      "source": [
        "NewList = [5,6,7,8,9,6]\n",
        "print('List before',NewList)\n",
        "LastEl = NewList.pop(2)    # mengambil elemen yang dengan index dan menghapus elemen tersebut dari list\n",
        "print('last element:', LastEl)\n",
        "print('List after', NewList)"
      ]
    },
    {
      "cell_type": "markdown",
      "metadata": {
        "id": "oCr3eI4N3d-r"
      },
      "source": [
        "---\n",
        "#### Operasi lainnya\n",
        "* Masih banyak operasi-operasi lainnya.\n",
        "* Namun, tidak akan cukup jika dibahas satu per satu."
      ]
    },
    {
      "cell_type": "markdown",
      "metadata": {
        "id": "21e8hGpWurzi"
      },
      "source": [
        "---\n",
        "### Nested List\n",
        "* Nested list adalah istilah keren dari list di dalam list.\n",
        "* Teknik ini akan sangat berguna untuk mengolah data yang kompleks.\n",
        "* Salah satu aplikasi yang paling jelas adalah untuk matriks.\n",
        "\n",
        "contoh: $A = \\begin{bmatrix} 5&4 \\\\ 4&5 \\end{bmatrix}$\n",
        "\n",
        "Penerapan dalam nested list adalah sebagai berikut:"
      ]
    },
    {
      "cell_type": "code",
      "execution_count": null,
      "metadata": {
        "id": "fsooyHo6d3AC"
      },
      "outputs": [],
      "source": [
        "b = [[]]\n",
        "len(b)"
      ]
    },
    {
      "cell_type": "code",
      "execution_count": null,
      "metadata": {
        "id": "TDDaA4v21I8Y"
      },
      "outputs": [],
      "source": [
        "a = [[5,4],[4,5]]\n",
        "a"
      ]
    },
    {
      "cell_type": "markdown",
      "metadata": {
        "id": "_va31r__1iLU"
      },
      "source": [
        "* Untuk mengakses elemen pada nested list dapat dilakukan sebagai berikut:"
      ]
    },
    {
      "cell_type": "code",
      "execution_count": null,
      "metadata": {
        "id": "8heoHcL51xhJ"
      },
      "outputs": [],
      "source": [
        "nested_list = [[1,2,3],[4,5,6],[7,8,9]]\n",
        "elemen_kiri_atas = nested_list[0][0]\n",
        "dua_elemen_kanan_bawah = nested_list[2][1:3]\n",
        "elemen_tengah_semua = nested_list[1]\n",
        "print(nested_list)\n",
        "print(\"elemen kiri atas: \", elemen_kiri_atas)\n",
        "print(\"dua elemen kanan bawah: \", dua_elemen_kanan_bawah)\n",
        "print(\"semua elemen tengah: \", elemen_tengah_semua)"
      ]
    },
    {
      "cell_type": "code",
      "execution_count": null,
      "metadata": {},
      "outputs": [],
      "source": [
        "list = [[1,2,3],[7,8,9]]\n",
        "list[1][1]"
      ]
    },
    {
      "cell_type": "markdown",
      "metadata": {
        "id": "WWOHxJuY2hNP"
      },
      "source": [
        "* Operasi lainnya sama seperti list biasa.\n",
        "* Hanya saja anda bisa mengakses list di dalam list.\n",
        "* Untuk looping dari nested list, bisa digunakan nested loop"
      ]
    },
    {
      "cell_type": "code",
      "execution_count": null,
      "metadata": {
        "id": "sS6gDAQdx_iE"
      },
      "outputs": [],
      "source": [
        "nested_list"
      ]
    },
    {
      "cell_type": "code",
      "execution_count": null,
      "metadata": {
        "id": "LFP15lZYyDNB"
      },
      "outputs": [],
      "source": [
        "for row in range(len(nested_list)):\n",
        "    for col in range(len(nested_list[row\n",
        "                                     ])):\n",
        "        print(f'Baris {row+1} kolom {col+1} adalah {nested_list[row][col]}')"
      ]
    },
    {
      "cell_type": "markdown",
      "metadata": {
        "id": "RZiXzAHDFbxq"
      },
      "source": [
        "---\n",
        "### List Comprehension"
      ]
    },
    {
      "cell_type": "markdown",
      "metadata": {
        "id": "ukfVWcyaFbxr"
      },
      "source": [
        "* Python menyediakan teknik *List Comprehension* agar pengolahan list bisa lebih efisien. \n",
        "* *List Comprehension* terdiri dari ekspresi yang diikuti oleh penyataan `for` didalam tanda kurung kotak `[]`. \n",
        "* List comprehension bertujuan mempermudah iterasi terhadap list, sekaligus membuat kode kita lebih rapi dan elegan."
      ]
    },
    {
      "cell_type": "markdown",
      "metadata": {
        "id": "XyA3nIjTFbxr"
      },
      "source": [
        "#### Dasar\n",
        "Contoh <i>List Comprehension</i>"
      ]
    },
    {
      "cell_type": "code",
      "execution_count": 88,
      "metadata": {
        "id": "3Gobvi_pFbxr"
      },
      "outputs": [
        {
          "data": {
            "text/plain": [
              "[1, 2, 3, 4, 5, 6, 7, 8, 9, 10, 11, 12]"
            ]
          },
          "execution_count": 88,
          "metadata": {},
          "output_type": "execute_result"
        }
      ],
      "source": [
        "BaseList = [1,2,3,4,5,6,7,8,9,10,11,12]\n",
        "C_List = [x for x in BaseList]    # list comprehension\n",
        "C_List"
      ]
    },
    {
      "cell_type": "markdown",
      "metadata": {
        "id": "TJPnySAQFbxt"
      },
      "source": [
        "<i>List Comprehension</i> diatas sama dengan penyataan `for` dibawah"
      ]
    },
    {
      "cell_type": "code",
      "execution_count": 89,
      "metadata": {
        "id": "jgwr5tiLFbxt"
      },
      "outputs": [
        {
          "data": {
            "text/plain": [
              "[1, 2, 3, 4, 5, 6, 7, 8, 9, 10, 11, 12]"
            ]
          },
          "execution_count": 89,
          "metadata": {},
          "output_type": "execute_result"
        }
      ],
      "source": [
        "BaseList = [1,2,3,4,5,6,7,8,9,10,11,12]\n",
        "C_List = []\n",
        "for x in BaseList:\n",
        "    C_List.append(x)\n",
        "C_List"
      ]
    },
    {
      "cell_type": "code",
      "execution_count": 90,
      "metadata": {
        "id": "3LlQ1WNp5czp"
      },
      "outputs": [
        {
          "data": {
            "text/plain": [
              "[0.3333333333333333, 1.3333333333333333, 3.0, 8.333333333333334, 12.0]"
            ]
          },
          "execution_count": 90,
          "metadata": {},
          "output_type": "execute_result"
        }
      ],
      "source": [
        "# Ubahlah pernyataan dibawah ini menjadi list comprehension\n",
        "list_1 = [1,4,9,25,36]\n",
        "list_2 = []\n",
        "for value in list_1:\n",
        "    list_2.append(value/3)\n",
        "list_2"
      ]
    },
    {
      "cell_type": "code",
      "execution_count": 91,
      "metadata": {
        "id": "9SyFD0ZBqDOb"
      },
      "outputs": [],
      "source": [
        "list_2 = [x/3 for x in list_1]"
      ]
    },
    {
      "cell_type": "code",
      "execution_count": 92,
      "metadata": {
        "id": "saBkOAyKqLot"
      },
      "outputs": [
        {
          "data": {
            "text/plain": [
              "[0.3333333333333333, 1.3333333333333333, 3.0, 8.333333333333334, 12.0]"
            ]
          },
          "execution_count": 92,
          "metadata": {},
          "output_type": "execute_result"
        }
      ],
      "source": [
        "list_2"
      ]
    },
    {
      "cell_type": "markdown",
      "metadata": {
        "id": "KbcXZgP3Fbxv"
      },
      "source": [
        "#### Penambahan conditional\n",
        "\n",
        "* Kita dapat membuat ekspresi yang lebih kompleks pada sebuah list comprehension. \n",
        "* Sebagai contoh, dapat ditambahkan pernyataan if untuk melakukan filtering terhadap `BaseList`.\n",
        "* `C2_List` akan menghasilkan perkalian dua dari angka genap."
      ]
    },
    {
      "cell_type": "code",
      "execution_count": 112,
      "metadata": {
        "id": "jNXLFz_tFbxw"
      },
      "outputs": [
        {
          "data": {
            "text/plain": [
              "[2, 4, 6, 8, 10, 12, 14, 16, 18, 20, 22, 24]"
            ]
          },
          "execution_count": 112,
          "metadata": {},
          "output_type": "execute_result"
        }
      ],
      "source": [
        "BaseList = [1,2,3,4,5,6,7,8,9,10,11,12]\n",
        "C2_List = [x * 2 for x in BaseList]    # list comprehension dengan operasi *2 pada ekspresi dan pernyataan if setelah for\n",
        "C2_List"
      ]
    },
    {
      "cell_type": "code",
      "execution_count": 113,
      "metadata": {},
      "outputs": [
        {
          "data": {
            "text/plain": [
              "[4, 8, 12, 16, 20, 24]"
            ]
          },
          "execution_count": 113,
          "metadata": {},
          "output_type": "execute_result"
        }
      ],
      "source": [
        "BaseList = [1,2,3,4,5,6,7,8,9,10,11,12]\n",
        "C2_List = [x * 2 for x in BaseList if x % 2 == 0]    # list comprehension dengan operasi *2 pada ekspresi dan pernyataan if setelah for\n",
        "C2_List"
      ]
    },
    {
      "cell_type": "markdown",
      "metadata": {
        "id": "_XP9g3qBFbxz"
      },
      "source": [
        "<i>List Comprehension</i> diatas sama dengan penyataan `for` dibawah"
      ]
    },
    {
      "cell_type": "code",
      "execution_count": null,
      "metadata": {
        "id": "56T9gurcFbx0"
      },
      "outputs": [],
      "source": [
        "C2_List = []\n",
        "for x in BaseList:\n",
        "    if x % 2 == 0:\n",
        "        C2_List.append(x * 2)\n",
        "C2_List"
      ]
    },
    {
      "cell_type": "code",
      "execution_count": null,
      "metadata": {
        "id": "mn9xqs_G7whL"
      },
      "outputs": [],
      "source": [
        "# Ubahlan pernyataan for dibawah menjadi list comprehension\n",
        "list_1 = [1,4,9,25,36,49,64,81,100,121,144]\n",
        "list_2 = []\n",
        "for value in list_1:\n",
        "    if value < 50:\n",
        "        list_2.append(value / 3)\n",
        "list_2"
      ]
    },
    {
      "cell_type": "markdown",
      "metadata": {
        "id": "iP2QVec6Fbx2"
      },
      "source": [
        "#### List comprehension untuk nested.\n",
        "List comprehension membuat code list dengan struktur kompleks menjadi lebih sederhana, misalnya pada Nested list dibawah"
      ]
    },
    {
      "cell_type": "code",
      "execution_count": 115,
      "metadata": {
        "id": "VMsYhcyVFbx2"
      },
      "outputs": [
        {
          "data": {
            "text/plain": [
              "[[0, 1, 2, 3, 4], [1, 2, 3, 4, 5], [2, 3, 4, 5, 6]]"
            ]
          },
          "execution_count": 115,
          "metadata": {},
          "output_type": "execute_result"
        }
      ],
      "source": [
        "NestedList = []     # nested list = list di dalam list\n",
        "for i in range(3):\n",
        "    InsideList = []\n",
        "    for j in range(i,i+5):\n",
        "        InsideList.append(j)\n",
        "    NestedList.append(InsideList)\n",
        "NestedList"
      ]
    },
    {
      "cell_type": "markdown",
      "metadata": {
        "id": "r3rhuOioFbx4"
      },
      "source": [
        "<i>List Comprehension</i> dari Nested list diatas dapat dibuat menjadi:"
      ]
    },
    {
      "cell_type": "code",
      "execution_count": 116,
      "metadata": {
        "id": "8FZZ479IFbx4"
      },
      "outputs": [
        {
          "data": {
            "text/plain": [
              "[[0, 1, 2, 3, 4], [1, 2, 3, 4, 5], [2, 3, 4, 5, 6]]"
            ]
          },
          "execution_count": 116,
          "metadata": {},
          "output_type": "execute_result"
        }
      ],
      "source": [
        "NestedList = [[x for x in range(y,y+5)] for y in range(3)]    \n",
        "NestedList"
      ]
    },
    {
      "cell_type": "markdown",
      "metadata": {
        "id": "8711c1O8Fbx6"
      },
      "source": [
        "List Comprehension juga dapat digunakan untuk mengambil elemen dengan indeks tertentu pada nested list"
      ]
    },
    {
      "cell_type": "code",
      "execution_count": 117,
      "metadata": {
        "id": "FDmjpce3Fbx6"
      },
      "outputs": [
        {
          "data": {
            "text/plain": [
              "[[4, 0], [5, 1], [6, 2]]"
            ]
          },
          "execution_count": 117,
          "metadata": {},
          "output_type": "execute_result"
        }
      ],
      "source": [
        "AnotherList = [[x[-1],x[0]] for x in NestedList]\n",
        "AnotherList"
      ]
    }
  ],
  "metadata": {
    "colab": {
      "collapsed_sections": [],
      "name": "1-1. Struktur Data Tuple dan List.ipynb",
      "provenance": []
    },
    "kernelspec": {
      "display_name": "Python 3",
      "language": "python",
      "name": "python3"
    },
    "language_info": {
      "codemirror_mode": {
        "name": "ipython",
        "version": 3
      },
      "file_extension": ".py",
      "mimetype": "text/x-python",
      "name": "python",
      "nbconvert_exporter": "python",
      "pygments_lexer": "ipython3",
      "version": "3.10.5"
    },
    "vscode": {
      "interpreter": {
        "hash": "aee8b7b246df8f9039afb4144a1f6fd8d2ca17a180786b69acc140d282b71a49"
      }
    }
  },
  "nbformat": 4,
  "nbformat_minor": 0
}
